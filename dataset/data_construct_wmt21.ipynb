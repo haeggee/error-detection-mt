{
 "cells": [
  {
   "cell_type": "code",
   "execution_count": 1,
   "metadata": {},
   "outputs": [],
   "source": [
    "import pandas as pd\n",
    "import numpy as np"
   ]
  },
  {
   "cell_type": "code",
   "execution_count": 4,
   "metadata": {},
   "outputs": [],
   "source": [
    "filename = \"dataset_wmt/wmt21/encs_majority_train.tsv\"\n",
    "df_encs = pd.read_csv(filename, sep='\\t')\n",
    "df_encs.columns = ['id', 'src', 'mt', 'list_scores', 'avg_scores']\n",
    "df_encs['critical'] = np.where(df_encs['avg_scores']=='ERR', 1, 0)\n",
    "df_encs['language_pair'] = \"en-cs\""
   ]
  },
  {
   "cell_type": "code",
   "execution_count": 5,
   "metadata": {},
   "outputs": [
    {
     "data": {
      "text/html": [
       "<div>\n",
       "<style scoped>\n",
       "    .dataframe tbody tr th:only-of-type {\n",
       "        vertical-align: middle;\n",
       "    }\n",
       "\n",
       "    .dataframe tbody tr th {\n",
       "        vertical-align: top;\n",
       "    }\n",
       "\n",
       "    .dataframe thead th {\n",
       "        text-align: right;\n",
       "    }\n",
       "</style>\n",
       "<table border=\"1\" class=\"dataframe\">\n",
       "  <thead>\n",
       "    <tr style=\"text-align: right;\">\n",
       "      <th></th>\n",
       "      <th>id</th>\n",
       "      <th>src</th>\n",
       "      <th>mt</th>\n",
       "      <th>list_scores</th>\n",
       "      <th>avg_scores</th>\n",
       "      <th>critical</th>\n",
       "      <th>language_pair</th>\n",
       "    </tr>\n",
       "  </thead>\n",
       "  <tbody>\n",
       "    <tr>\n",
       "      <th>0</th>\n",
       "      <td>9845</td>\n",
       "      <td>Are you one of the 74 stalkers watching my tal...</td>\n",
       "      <td>Jsi jeden z 74 sledovatelů , kteří sledují mou...</td>\n",
       "      <td>[0, 1, 0]</td>\n",
       "      <td>NOT</td>\n",
       "      <td>0</td>\n",
       "      <td>en-cs</td>\n",
       "    </tr>\n",
       "    <tr>\n",
       "      <th>1</th>\n",
       "      <td>38</td>\n",
       "      <td>I believe we now have a fully-referenced article.</td>\n",
       "      <td>Domnívám se , že nyní máme plně odkazovaný člá...</td>\n",
       "      <td>[0, 0, 0]</td>\n",
       "      <td>NOT</td>\n",
       "      <td>0</td>\n",
       "      <td>en-cs</td>\n",
       "    </tr>\n",
       "    <tr>\n",
       "      <th>2</th>\n",
       "      <td>9117</td>\n",
       "      <td>FUCK YOU, GO SUCK SOME DOG COCK! YOU FUCKING D...</td>\n",
       "      <td>Do prdele , pojď sehnat nějakou děvku , ty seš...</td>\n",
       "      <td>[1, 1, 1]</td>\n",
       "      <td>ERR</td>\n",
       "      <td>1</td>\n",
       "      <td>en-cs</td>\n",
       "    </tr>\n",
       "    <tr>\n",
       "      <th>3</th>\n",
       "      <td>7915</td>\n",
       "      <td>NARS, SnePS and polyscheme seem to be among th...</td>\n",
       "      <td>NARS , SnePS a polyscheme se zdá být mezi pokr...</td>\n",
       "      <td>[0, 0, 0]</td>\n",
       "      <td>NOT</td>\n",
       "      <td>0</td>\n",
       "      <td>en-cs</td>\n",
       "    </tr>\n",
       "    <tr>\n",
       "      <th>4</th>\n",
       "      <td>9017</td>\n",
       "      <td>Not that I care because she is still smoking h...</td>\n",
       "      <td>Ne , že by mě to zajímalo , protože pořád kouř...</td>\n",
       "      <td>[1, 1, 1]</td>\n",
       "      <td>ERR</td>\n",
       "      <td>1</td>\n",
       "      <td>en-cs</td>\n",
       "    </tr>\n",
       "  </tbody>\n",
       "</table>\n",
       "</div>"
      ],
      "text/plain": [
       "     id                                                src  \\\n",
       "0  9845  Are you one of the 74 stalkers watching my tal...   \n",
       "1    38  I believe we now have a fully-referenced article.   \n",
       "2  9117  FUCK YOU, GO SUCK SOME DOG COCK! YOU FUCKING D...   \n",
       "3  7915  NARS, SnePS and polyscheme seem to be among th...   \n",
       "4  9017  Not that I care because she is still smoking h...   \n",
       "\n",
       "                                                  mt list_scores avg_scores  \\\n",
       "0  Jsi jeden z 74 sledovatelů , kteří sledují mou...   [0, 1, 0]        NOT   \n",
       "1  Domnívám se , že nyní máme plně odkazovaný člá...   [0, 0, 0]        NOT   \n",
       "2  Do prdele , pojď sehnat nějakou děvku , ty seš...   [1, 1, 1]        ERR   \n",
       "3  NARS , SnePS a polyscheme se zdá být mezi pokr...   [0, 0, 0]        NOT   \n",
       "4  Ne , že by mě to zajímalo , protože pořád kouř...   [1, 1, 1]        ERR   \n",
       "\n",
       "   critical language_pair  \n",
       "0         0         en-cs  \n",
       "1         0         en-cs  \n",
       "2         1         en-cs  \n",
       "3         0         en-cs  \n",
       "4         1         en-cs  "
      ]
     },
     "execution_count": 5,
     "metadata": {},
     "output_type": "execute_result"
    }
   ],
   "source": [
    "df_encs.head()"
   ]
  },
  {
   "cell_type": "code",
   "execution_count": 6,
   "metadata": {},
   "outputs": [
    {
     "data": {
      "text/html": [
       "<div>\n",
       "<style scoped>\n",
       "    .dataframe tbody tr th:only-of-type {\n",
       "        vertical-align: middle;\n",
       "    }\n",
       "\n",
       "    .dataframe tbody tr th {\n",
       "        vertical-align: top;\n",
       "    }\n",
       "\n",
       "    .dataframe thead th {\n",
       "        text-align: right;\n",
       "    }\n",
       "</style>\n",
       "<table border=\"1\" class=\"dataframe\">\n",
       "  <thead>\n",
       "    <tr style=\"text-align: right;\">\n",
       "      <th></th>\n",
       "      <th>id</th>\n",
       "      <th>src</th>\n",
       "      <th>mt</th>\n",
       "      <th>list_scores</th>\n",
       "      <th>avg_scores</th>\n",
       "      <th>language_pair</th>\n",
       "    </tr>\n",
       "    <tr>\n",
       "      <th>critical</th>\n",
       "      <th></th>\n",
       "      <th></th>\n",
       "      <th></th>\n",
       "      <th></th>\n",
       "      <th></th>\n",
       "      <th></th>\n",
       "    </tr>\n",
       "  </thead>\n",
       "  <tbody>\n",
       "    <tr>\n",
       "      <th>0</th>\n",
       "      <td>6187</td>\n",
       "      <td>6187</td>\n",
       "      <td>6187</td>\n",
       "      <td>6187</td>\n",
       "      <td>6187</td>\n",
       "      <td>6187</td>\n",
       "    </tr>\n",
       "    <tr>\n",
       "      <th>1</th>\n",
       "      <td>1288</td>\n",
       "      <td>1288</td>\n",
       "      <td>1288</td>\n",
       "      <td>1288</td>\n",
       "      <td>1288</td>\n",
       "      <td>1288</td>\n",
       "    </tr>\n",
       "  </tbody>\n",
       "</table>\n",
       "</div>"
      ],
      "text/plain": [
       "            id   src    mt  list_scores  avg_scores  language_pair\n",
       "critical                                                          \n",
       "0         6187  6187  6187         6187        6187           6187\n",
       "1         1288  1288  1288         1288        1288           1288"
      ]
     },
     "execution_count": 6,
     "metadata": {},
     "output_type": "execute_result"
    }
   ],
   "source": [
    "df_encs.groupby(by=\"critical\").agg('count')"
   ]
  },
  {
   "cell_type": "code",
   "execution_count": 7,
   "metadata": {},
   "outputs": [],
   "source": [
    "filename = \"dataset_wmt/wmt21/enja_majority_train.tsv\"\n",
    "df_enja = pd.read_csv(filename, sep='\\t')\n",
    "df_enja.columns = ['id', 'src', 'mt', 'list_scores', 'avg_scores']\n",
    "df_enja['critical'] = np.where(df_enja['avg_scores']=='ERR', 1, 0)\n",
    "df_enja['language_pair'] = \"en-ja\""
   ]
  },
  {
   "cell_type": "code",
   "execution_count": 8,
   "metadata": {},
   "outputs": [
    {
     "data": {
      "text/html": [
       "<div>\n",
       "<style scoped>\n",
       "    .dataframe tbody tr th:only-of-type {\n",
       "        vertical-align: middle;\n",
       "    }\n",
       "\n",
       "    .dataframe tbody tr th {\n",
       "        vertical-align: top;\n",
       "    }\n",
       "\n",
       "    .dataframe thead th {\n",
       "        text-align: right;\n",
       "    }\n",
       "</style>\n",
       "<table border=\"1\" class=\"dataframe\">\n",
       "  <thead>\n",
       "    <tr style=\"text-align: right;\">\n",
       "      <th></th>\n",
       "      <th>id</th>\n",
       "      <th>src</th>\n",
       "      <th>mt</th>\n",
       "      <th>list_scores</th>\n",
       "      <th>avg_scores</th>\n",
       "      <th>language_pair</th>\n",
       "    </tr>\n",
       "    <tr>\n",
       "      <th>critical</th>\n",
       "      <th></th>\n",
       "      <th></th>\n",
       "      <th></th>\n",
       "      <th></th>\n",
       "      <th></th>\n",
       "      <th></th>\n",
       "    </tr>\n",
       "  </thead>\n",
       "  <tbody>\n",
       "    <tr>\n",
       "      <th>0</th>\n",
       "      <td>6938</td>\n",
       "      <td>6938</td>\n",
       "      <td>6938</td>\n",
       "      <td>6938</td>\n",
       "      <td>6938</td>\n",
       "      <td>6938</td>\n",
       "    </tr>\n",
       "    <tr>\n",
       "      <th>1</th>\n",
       "      <td>719</td>\n",
       "      <td>719</td>\n",
       "      <td>719</td>\n",
       "      <td>719</td>\n",
       "      <td>719</td>\n",
       "      <td>719</td>\n",
       "    </tr>\n",
       "  </tbody>\n",
       "</table>\n",
       "</div>"
      ],
      "text/plain": [
       "            id   src    mt  list_scores  avg_scores  language_pair\n",
       "critical                                                          \n",
       "0         6938  6938  6938         6938        6938           6938\n",
       "1          719   719   719          719         719            719"
      ]
     },
     "execution_count": 8,
     "metadata": {},
     "output_type": "execute_result"
    }
   ],
   "source": [
    "df_enja.groupby(by=\"critical\").agg(\"count\")"
   ]
  },
  {
   "cell_type": "code",
   "execution_count": 9,
   "metadata": {},
   "outputs": [],
   "source": [
    "filename = \"dataset_wmt/wmt21/enzh_majority_train.tsv\"\n",
    "df_enzh = pd.read_csv(filename, sep='\\t')\n",
    "df_enzh.columns = ['id', 'src', 'mt', 'list_scores', 'avg_scores']\n",
    "df_enzh['critical'] = np.where(df_enzh['avg_scores']=='ERR', 1, 0)\n",
    "df_enzh['language_pair'] = \"en-zh\""
   ]
  },
  {
   "cell_type": "code",
   "execution_count": 10,
   "metadata": {},
   "outputs": [
    {
     "data": {
      "text/html": [
       "<div>\n",
       "<style scoped>\n",
       "    .dataframe tbody tr th:only-of-type {\n",
       "        vertical-align: middle;\n",
       "    }\n",
       "\n",
       "    .dataframe tbody tr th {\n",
       "        vertical-align: top;\n",
       "    }\n",
       "\n",
       "    .dataframe thead th {\n",
       "        text-align: right;\n",
       "    }\n",
       "</style>\n",
       "<table border=\"1\" class=\"dataframe\">\n",
       "  <thead>\n",
       "    <tr style=\"text-align: right;\">\n",
       "      <th></th>\n",
       "      <th>id</th>\n",
       "      <th>src</th>\n",
       "      <th>mt</th>\n",
       "      <th>list_scores</th>\n",
       "      <th>avg_scores</th>\n",
       "      <th>language_pair</th>\n",
       "    </tr>\n",
       "    <tr>\n",
       "      <th>critical</th>\n",
       "      <th></th>\n",
       "      <th></th>\n",
       "      <th></th>\n",
       "      <th></th>\n",
       "      <th></th>\n",
       "      <th></th>\n",
       "    </tr>\n",
       "  </thead>\n",
       "  <tbody>\n",
       "    <tr>\n",
       "      <th>0</th>\n",
       "      <td>5748</td>\n",
       "      <td>5748</td>\n",
       "      <td>5748</td>\n",
       "      <td>5748</td>\n",
       "      <td>5748</td>\n",
       "      <td>5748</td>\n",
       "    </tr>\n",
       "    <tr>\n",
       "      <th>1</th>\n",
       "      <td>1110</td>\n",
       "      <td>1110</td>\n",
       "      <td>1110</td>\n",
       "      <td>1110</td>\n",
       "      <td>1110</td>\n",
       "      <td>1110</td>\n",
       "    </tr>\n",
       "  </tbody>\n",
       "</table>\n",
       "</div>"
      ],
      "text/plain": [
       "            id   src    mt  list_scores  avg_scores  language_pair\n",
       "critical                                                          \n",
       "0         5748  5748  5748         5748        5748           5748\n",
       "1         1110  1110  1110         1110        1110           1110"
      ]
     },
     "execution_count": 10,
     "metadata": {},
     "output_type": "execute_result"
    }
   ],
   "source": [
    "df_enzh.groupby(by=\"critical\").agg(\"count\")"
   ]
  },
  {
   "cell_type": "code",
   "execution_count": 11,
   "metadata": {},
   "outputs": [],
   "source": [
    "filename = \"dataset_wmt/wmt21/ende_majority_train.tsv\"\n",
    "df_ende = pd.read_csv(filename, sep='\\t')\n",
    "df_ende.columns = ['id', 'src', 'mt', 'list_scores', 'avg_scores']\n",
    "df_ende['critical'] = np.where(df_ende['avg_scores']=='ERR', 1, 0)\n",
    "df_ende['language_pair'] = \"en-de\""
   ]
  },
  {
   "cell_type": "code",
   "execution_count": 12,
   "metadata": {},
   "outputs": [
    {
     "data": {
      "text/html": [
       "<div>\n",
       "<style scoped>\n",
       "    .dataframe tbody tr th:only-of-type {\n",
       "        vertical-align: middle;\n",
       "    }\n",
       "\n",
       "    .dataframe tbody tr th {\n",
       "        vertical-align: top;\n",
       "    }\n",
       "\n",
       "    .dataframe thead th {\n",
       "        text-align: right;\n",
       "    }\n",
       "</style>\n",
       "<table border=\"1\" class=\"dataframe\">\n",
       "  <thead>\n",
       "    <tr style=\"text-align: right;\">\n",
       "      <th></th>\n",
       "      <th>id</th>\n",
       "      <th>src</th>\n",
       "      <th>mt</th>\n",
       "      <th>list_scores</th>\n",
       "      <th>avg_scores</th>\n",
       "      <th>language_pair</th>\n",
       "    </tr>\n",
       "    <tr>\n",
       "      <th>critical</th>\n",
       "      <th></th>\n",
       "      <th></th>\n",
       "      <th></th>\n",
       "      <th></th>\n",
       "      <th></th>\n",
       "      <th></th>\n",
       "    </tr>\n",
       "  </thead>\n",
       "  <tbody>\n",
       "    <tr>\n",
       "      <th>0</th>\n",
       "      <td>5673</td>\n",
       "      <td>5673</td>\n",
       "      <td>5673</td>\n",
       "      <td>5673</td>\n",
       "      <td>5673</td>\n",
       "      <td>5673</td>\n",
       "    </tr>\n",
       "    <tr>\n",
       "      <th>1</th>\n",
       "      <td>2204</td>\n",
       "      <td>2204</td>\n",
       "      <td>2204</td>\n",
       "      <td>2204</td>\n",
       "      <td>2204</td>\n",
       "      <td>2204</td>\n",
       "    </tr>\n",
       "  </tbody>\n",
       "</table>\n",
       "</div>"
      ],
      "text/plain": [
       "            id   src    mt  list_scores  avg_scores  language_pair\n",
       "critical                                                          \n",
       "0         5673  5673  5673         5673        5673           5673\n",
       "1         2204  2204  2204         2204        2204           2204"
      ]
     },
     "execution_count": 12,
     "metadata": {},
     "output_type": "execute_result"
    }
   ],
   "source": [
    "df_ende.groupby(by=\"critical\").agg(\"count\")"
   ]
  },
  {
   "cell_type": "code",
   "execution_count": 13,
   "metadata": {},
   "outputs": [],
   "source": [
    "df = pd.concat([df_encs, df_enja, df_enzh, df_ende], axis=0)"
   ]
  },
  {
   "cell_type": "code",
   "execution_count": 18,
   "metadata": {},
   "outputs": [],
   "source": [
    "#change filenames to train\n",
    "df.to_pickle(\"wmt21_multi_train.pkl\")"
   ]
  },
  {
   "cell_type": "code",
   "execution_count": 29,
   "metadata": {},
   "outputs": [],
   "source": [
    "#change filenames to dev\n",
    "df.to_pickle(\"wmt21_multi_dev.pkl\")"
   ]
  },
  {
   "cell_type": "code",
   "execution_count": null,
   "metadata": {},
   "outputs": [],
   "source": []
  }
 ],
 "metadata": {
  "kernelspec": {
   "display_name": "Python 3",
   "language": "python",
   "name": "python3"
  },
  "language_info": {
   "codemirror_mode": {
    "name": "ipython",
    "version": 3
   },
   "file_extension": ".py",
   "mimetype": "text/x-python",
   "name": "python",
   "nbconvert_exporter": "python",
   "pygments_lexer": "ipython3",
   "version": "3.8.5"
  }
 },
 "nbformat": 4,
 "nbformat_minor": 4
}
