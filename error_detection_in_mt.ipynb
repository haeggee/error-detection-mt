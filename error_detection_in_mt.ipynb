{
  "nbformat": 4,
  "nbformat_minor": 0,
  "metadata": {
    "accelerator": "GPU",
    "colab": {
      "name": "Error Detection in MT with HuggingFace",
      "provenance": [],
      "collapsed_sections": [
        "TWJfh6DV7CB5"
      ],
      "include_colab_link": true
    },
    "kernelspec": {
      "display_name": "Python 3",
      "language": "python",
      "name": "python3"
    },
    "language_info": {
      "codemirror_mode": {
        "name": "ipython",
        "version": 3
      },
      "file_extension": ".py",
      "mimetype": "text/x-python",
      "name": "python",
      "nbconvert_exporter": "python",
      "pygments_lexer": "ipython3",
      "version": "3.8.10"
    },
    "widgets": {
      "application/vnd.jupyter.widget-state+json": {
        "063ece83ef7e41b0831e4f7d273134df": {
          "model_module": "@jupyter-widgets/controls",
          "model_name": "HBoxModel",
          "state": {
            "_dom_classes": [],
            "_model_module": "@jupyter-widgets/controls",
            "_model_module_version": "1.5.0",
            "_model_name": "HBoxModel",
            "_view_count": null,
            "_view_module": "@jupyter-widgets/controls",
            "_view_module_version": "1.5.0",
            "_view_name": "HBoxView",
            "box_style": "",
            "children": [
              "IPY_MODEL_9b249d07fdfd40a783ec421907f76bdb",
              "IPY_MODEL_b729c79ab41441878fa21cf7678ca77d"
            ],
            "layout": "IPY_MODEL_2ee0ce1237a04905a4076da52bca845c"
          }
        },
        "2ee0ce1237a04905a4076da52bca845c": {
          "model_module": "@jupyter-widgets/base",
          "model_name": "LayoutModel",
          "state": {
            "_model_module": "@jupyter-widgets/base",
            "_model_module_version": "1.2.0",
            "_model_name": "LayoutModel",
            "_view_count": null,
            "_view_module": "@jupyter-widgets/base",
            "_view_module_version": "1.2.0",
            "_view_name": "LayoutView",
            "align_content": null,
            "align_items": null,
            "align_self": null,
            "border": null,
            "bottom": null,
            "display": null,
            "flex": null,
            "flex_flow": null,
            "grid_area": null,
            "grid_auto_columns": null,
            "grid_auto_flow": null,
            "grid_auto_rows": null,
            "grid_column": null,
            "grid_gap": null,
            "grid_row": null,
            "grid_template_areas": null,
            "grid_template_columns": null,
            "grid_template_rows": null,
            "height": null,
            "justify_content": null,
            "justify_items": null,
            "left": null,
            "margin": null,
            "max_height": null,
            "max_width": null,
            "min_height": null,
            "min_width": null,
            "object_fit": null,
            "object_position": null,
            "order": null,
            "overflow": null,
            "overflow_x": null,
            "overflow_y": null,
            "padding": null,
            "right": null,
            "top": null,
            "visibility": null,
            "width": null
          }
        },
        "9b249d07fdfd40a783ec421907f76bdb": {
          "model_module": "@jupyter-widgets/controls",
          "model_name": "FloatProgressModel",
          "state": {
            "_dom_classes": [],
            "_model_module": "@jupyter-widgets/controls",
            "_model_module_version": "1.5.0",
            "_model_name": "FloatProgressModel",
            "_view_count": null,
            "_view_module": "@jupyter-widgets/controls",
            "_view_module_version": "1.5.0",
            "_view_name": "ProgressView",
            "bar_style": "success",
            "description": "Downloading: 100%",
            "description_tooltip": null,
            "layout": "IPY_MODEL_b984740e3e024be3af9c52eea586af9c",
            "max": 28,
            "min": 0,
            "orientation": "horizontal",
            "style": "IPY_MODEL_786dcb53bab94576b2258c926b2b53b5",
            "value": 28
          }
        },
        "b729c79ab41441878fa21cf7678ca77d": {
          "model_module": "@jupyter-widgets/controls",
          "model_name": "HTMLModel",
          "state": {
            "_dom_classes": [],
            "_model_module": "@jupyter-widgets/controls",
            "_model_module_version": "1.5.0",
            "_model_name": "HTMLModel",
            "_view_count": null,
            "_view_module": "@jupyter-widgets/controls",
            "_view_module_version": "1.5.0",
            "_view_name": "HTMLView",
            "description": "",
            "description_tooltip": null,
            "layout": "IPY_MODEL_5cca938d7b1f448c8c9844f00ff10ce5",
            "placeholder": "​",
            "style": "IPY_MODEL_afeba37785a6414cad2f1dc7a7b1d1b1",
            "value": " 28.0/28.0 [00:37&lt;00:00, 1.33s/B]"
          }
        },
        "786dcb53bab94576b2258c926b2b53b5": {
          "model_module": "@jupyter-widgets/controls",
          "model_name": "ProgressStyleModel",
          "state": {
            "_model_module": "@jupyter-widgets/controls",
            "_model_module_version": "1.5.0",
            "_model_name": "ProgressStyleModel",
            "_view_count": null,
            "_view_module": "@jupyter-widgets/base",
            "_view_module_version": "1.2.0",
            "_view_name": "StyleView",
            "bar_color": null,
            "description_width": "initial"
          }
        },
        "b984740e3e024be3af9c52eea586af9c": {
          "model_module": "@jupyter-widgets/base",
          "model_name": "LayoutModel",
          "state": {
            "_model_module": "@jupyter-widgets/base",
            "_model_module_version": "1.2.0",
            "_model_name": "LayoutModel",
            "_view_count": null,
            "_view_module": "@jupyter-widgets/base",
            "_view_module_version": "1.2.0",
            "_view_name": "LayoutView",
            "align_content": null,
            "align_items": null,
            "align_self": null,
            "border": null,
            "bottom": null,
            "display": null,
            "flex": null,
            "flex_flow": null,
            "grid_area": null,
            "grid_auto_columns": null,
            "grid_auto_flow": null,
            "grid_auto_rows": null,
            "grid_column": null,
            "grid_gap": null,
            "grid_row": null,
            "grid_template_areas": null,
            "grid_template_columns": null,
            "grid_template_rows": null,
            "height": null,
            "justify_content": null,
            "justify_items": null,
            "left": null,
            "margin": null,
            "max_height": null,
            "max_width": null,
            "min_height": null,
            "min_width": null,
            "object_fit": null,
            "object_position": null,
            "order": null,
            "overflow": null,
            "overflow_x": null,
            "overflow_y": null,
            "padding": null,
            "right": null,
            "top": null,
            "visibility": null,
            "width": null
          }
        },
        "afeba37785a6414cad2f1dc7a7b1d1b1": {
          "model_module": "@jupyter-widgets/controls",
          "model_name": "DescriptionStyleModel",
          "state": {
            "_model_module": "@jupyter-widgets/controls",
            "_model_module_version": "1.5.0",
            "_model_name": "DescriptionStyleModel",
            "_view_count": null,
            "_view_module": "@jupyter-widgets/base",
            "_view_module_version": "1.2.0",
            "_view_name": "StyleView",
            "description_width": ""
          }
        },
        "5cca938d7b1f448c8c9844f00ff10ce5": {
          "model_module": "@jupyter-widgets/base",
          "model_name": "LayoutModel",
          "state": {
            "_model_module": "@jupyter-widgets/base",
            "_model_module_version": "1.2.0",
            "_model_name": "LayoutModel",
            "_view_count": null,
            "_view_module": "@jupyter-widgets/base",
            "_view_module_version": "1.2.0",
            "_view_name": "LayoutView",
            "align_content": null,
            "align_items": null,
            "align_self": null,
            "border": null,
            "bottom": null,
            "display": null,
            "flex": null,
            "flex_flow": null,
            "grid_area": null,
            "grid_auto_columns": null,
            "grid_auto_flow": null,
            "grid_auto_rows": null,
            "grid_column": null,
            "grid_gap": null,
            "grid_row": null,
            "grid_template_areas": null,
            "grid_template_columns": null,
            "grid_template_rows": null,
            "height": null,
            "justify_content": null,
            "justify_items": null,
            "left": null,
            "margin": null,
            "max_height": null,
            "max_width": null,
            "min_height": null,
            "min_width": null,
            "object_fit": null,
            "object_position": null,
            "order": null,
            "overflow": null,
            "overflow_x": null,
            "overflow_y": null,
            "padding": null,
            "right": null,
            "top": null,
            "visibility": null,
            "width": null
          }
        },
        "5542a2572dcb49adb2cd5301a39c75ba": {
          "model_module": "@jupyter-widgets/controls",
          "model_name": "HBoxModel",
          "state": {
            "_dom_classes": [],
            "_model_module": "@jupyter-widgets/controls",
            "_model_module_version": "1.5.0",
            "_model_name": "HBoxModel",
            "_view_count": null,
            "_view_module": "@jupyter-widgets/controls",
            "_view_module_version": "1.5.0",
            "_view_name": "HBoxView",
            "box_style": "",
            "children": [
              "IPY_MODEL_998c5cc705124cceaa69887a64a174a1",
              "IPY_MODEL_41023de98dad44dd90ea2b794115c69b"
            ],
            "layout": "IPY_MODEL_a3b6e2e2053d4b13a24c82a57c1c9794"
          }
        },
        "a3b6e2e2053d4b13a24c82a57c1c9794": {
          "model_module": "@jupyter-widgets/base",
          "model_name": "LayoutModel",
          "state": {
            "_model_module": "@jupyter-widgets/base",
            "_model_module_version": "1.2.0",
            "_model_name": "LayoutModel",
            "_view_count": null,
            "_view_module": "@jupyter-widgets/base",
            "_view_module_version": "1.2.0",
            "_view_name": "LayoutView",
            "align_content": null,
            "align_items": null,
            "align_self": null,
            "border": null,
            "bottom": null,
            "display": null,
            "flex": null,
            "flex_flow": null,
            "grid_area": null,
            "grid_auto_columns": null,
            "grid_auto_flow": null,
            "grid_auto_rows": null,
            "grid_column": null,
            "grid_gap": null,
            "grid_row": null,
            "grid_template_areas": null,
            "grid_template_columns": null,
            "grid_template_rows": null,
            "height": null,
            "justify_content": null,
            "justify_items": null,
            "left": null,
            "margin": null,
            "max_height": null,
            "max_width": null,
            "min_height": null,
            "min_width": null,
            "object_fit": null,
            "object_position": null,
            "order": null,
            "overflow": null,
            "overflow_x": null,
            "overflow_y": null,
            "padding": null,
            "right": null,
            "top": null,
            "visibility": null,
            "width": null
          }
        },
        "998c5cc705124cceaa69887a64a174a1": {
          "model_module": "@jupyter-widgets/controls",
          "model_name": "FloatProgressModel",
          "state": {
            "_dom_classes": [],
            "_model_module": "@jupyter-widgets/controls",
            "_model_module_version": "1.5.0",
            "_model_name": "FloatProgressModel",
            "_view_count": null,
            "_view_module": "@jupyter-widgets/controls",
            "_view_module_version": "1.5.0",
            "_view_name": "ProgressView",
            "bar_style": "success",
            "description": "Downloading: 100%",
            "description_tooltip": null,
            "layout": "IPY_MODEL_40fef7b3153948cbac2a1e5ab04c3b43",
            "max": 570,
            "min": 0,
            "orientation": "horizontal",
            "style": "IPY_MODEL_af76f2a70675446884bb29c64472e5a9",
            "value": 570
          }
        },
        "41023de98dad44dd90ea2b794115c69b": {
          "model_module": "@jupyter-widgets/controls",
          "model_name": "HTMLModel",
          "state": {
            "_dom_classes": [],
            "_model_module": "@jupyter-widgets/controls",
            "_model_module_version": "1.5.0",
            "_model_name": "HTMLModel",
            "_view_count": null,
            "_view_module": "@jupyter-widgets/controls",
            "_view_module_version": "1.5.0",
            "_view_name": "HTMLView",
            "description": "",
            "description_tooltip": null,
            "layout": "IPY_MODEL_fcabc25d6bb74c98a5f9e4641a3d1e94",
            "placeholder": "​",
            "style": "IPY_MODEL_1500d6e8ecb64281aa525769600cc5db",
            "value": " 570/570 [00:35&lt;00:00, 15.9B/s]"
          }
        },
        "af76f2a70675446884bb29c64472e5a9": {
          "model_module": "@jupyter-widgets/controls",
          "model_name": "ProgressStyleModel",
          "state": {
            "_model_module": "@jupyter-widgets/controls",
            "_model_module_version": "1.5.0",
            "_model_name": "ProgressStyleModel",
            "_view_count": null,
            "_view_module": "@jupyter-widgets/base",
            "_view_module_version": "1.2.0",
            "_view_name": "StyleView",
            "bar_color": null,
            "description_width": "initial"
          }
        },
        "40fef7b3153948cbac2a1e5ab04c3b43": {
          "model_module": "@jupyter-widgets/base",
          "model_name": "LayoutModel",
          "state": {
            "_model_module": "@jupyter-widgets/base",
            "_model_module_version": "1.2.0",
            "_model_name": "LayoutModel",
            "_view_count": null,
            "_view_module": "@jupyter-widgets/base",
            "_view_module_version": "1.2.0",
            "_view_name": "LayoutView",
            "align_content": null,
            "align_items": null,
            "align_self": null,
            "border": null,
            "bottom": null,
            "display": null,
            "flex": null,
            "flex_flow": null,
            "grid_area": null,
            "grid_auto_columns": null,
            "grid_auto_flow": null,
            "grid_auto_rows": null,
            "grid_column": null,
            "grid_gap": null,
            "grid_row": null,
            "grid_template_areas": null,
            "grid_template_columns": null,
            "grid_template_rows": null,
            "height": null,
            "justify_content": null,
            "justify_items": null,
            "left": null,
            "margin": null,
            "max_height": null,
            "max_width": null,
            "min_height": null,
            "min_width": null,
            "object_fit": null,
            "object_position": null,
            "order": null,
            "overflow": null,
            "overflow_x": null,
            "overflow_y": null,
            "padding": null,
            "right": null,
            "top": null,
            "visibility": null,
            "width": null
          }
        },
        "1500d6e8ecb64281aa525769600cc5db": {
          "model_module": "@jupyter-widgets/controls",
          "model_name": "DescriptionStyleModel",
          "state": {
            "_model_module": "@jupyter-widgets/controls",
            "_model_module_version": "1.5.0",
            "_model_name": "DescriptionStyleModel",
            "_view_count": null,
            "_view_module": "@jupyter-widgets/base",
            "_view_module_version": "1.2.0",
            "_view_name": "StyleView",
            "description_width": ""
          }
        },
        "fcabc25d6bb74c98a5f9e4641a3d1e94": {
          "model_module": "@jupyter-widgets/base",
          "model_name": "LayoutModel",
          "state": {
            "_model_module": "@jupyter-widgets/base",
            "_model_module_version": "1.2.0",
            "_model_name": "LayoutModel",
            "_view_count": null,
            "_view_module": "@jupyter-widgets/base",
            "_view_module_version": "1.2.0",
            "_view_name": "LayoutView",
            "align_content": null,
            "align_items": null,
            "align_self": null,
            "border": null,
            "bottom": null,
            "display": null,
            "flex": null,
            "flex_flow": null,
            "grid_area": null,
            "grid_auto_columns": null,
            "grid_auto_flow": null,
            "grid_auto_rows": null,
            "grid_column": null,
            "grid_gap": null,
            "grid_row": null,
            "grid_template_areas": null,
            "grid_template_columns": null,
            "grid_template_rows": null,
            "height": null,
            "justify_content": null,
            "justify_items": null,
            "left": null,
            "margin": null,
            "max_height": null,
            "max_width": null,
            "min_height": null,
            "min_width": null,
            "object_fit": null,
            "object_position": null,
            "order": null,
            "overflow": null,
            "overflow_x": null,
            "overflow_y": null,
            "padding": null,
            "right": null,
            "top": null,
            "visibility": null,
            "width": null
          }
        },
        "2dfc56695e074ee9a2ec10914f325341": {
          "model_module": "@jupyter-widgets/controls",
          "model_name": "HBoxModel",
          "state": {
            "_dom_classes": [],
            "_model_module": "@jupyter-widgets/controls",
            "_model_module_version": "1.5.0",
            "_model_name": "HBoxModel",
            "_view_count": null,
            "_view_module": "@jupyter-widgets/controls",
            "_view_module_version": "1.5.0",
            "_view_name": "HBoxView",
            "box_style": "",
            "children": [
              "IPY_MODEL_593008c795f9404a9dcef94681ea87e9",
              "IPY_MODEL_dac1e037385640d787c2a4004d9a28a2"
            ],
            "layout": "IPY_MODEL_264554a157e248b99b5299e4bdc42c79"
          }
        },
        "264554a157e248b99b5299e4bdc42c79": {
          "model_module": "@jupyter-widgets/base",
          "model_name": "LayoutModel",
          "state": {
            "_model_module": "@jupyter-widgets/base",
            "_model_module_version": "1.2.0",
            "_model_name": "LayoutModel",
            "_view_count": null,
            "_view_module": "@jupyter-widgets/base",
            "_view_module_version": "1.2.0",
            "_view_name": "LayoutView",
            "align_content": null,
            "align_items": null,
            "align_self": null,
            "border": null,
            "bottom": null,
            "display": null,
            "flex": null,
            "flex_flow": null,
            "grid_area": null,
            "grid_auto_columns": null,
            "grid_auto_flow": null,
            "grid_auto_rows": null,
            "grid_column": null,
            "grid_gap": null,
            "grid_row": null,
            "grid_template_areas": null,
            "grid_template_columns": null,
            "grid_template_rows": null,
            "height": null,
            "justify_content": null,
            "justify_items": null,
            "left": null,
            "margin": null,
            "max_height": null,
            "max_width": null,
            "min_height": null,
            "min_width": null,
            "object_fit": null,
            "object_position": null,
            "order": null,
            "overflow": null,
            "overflow_x": null,
            "overflow_y": null,
            "padding": null,
            "right": null,
            "top": null,
            "visibility": null,
            "width": null
          }
        },
        "593008c795f9404a9dcef94681ea87e9": {
          "model_module": "@jupyter-widgets/controls",
          "model_name": "FloatProgressModel",
          "state": {
            "_dom_classes": [],
            "_model_module": "@jupyter-widgets/controls",
            "_model_module_version": "1.5.0",
            "_model_name": "FloatProgressModel",
            "_view_count": null,
            "_view_module": "@jupyter-widgets/controls",
            "_view_module_version": "1.5.0",
            "_view_name": "ProgressView",
            "bar_style": "success",
            "description": "Downloading: 100%",
            "description_tooltip": null,
            "layout": "IPY_MODEL_48b673037a944b34a7edd918f8a4614a",
            "max": 231508,
            "min": 0,
            "orientation": "horizontal",
            "style": "IPY_MODEL_a7909a0c691a43538cb1892d4657002e",
            "value": 231508
          }
        },
        "dac1e037385640d787c2a4004d9a28a2": {
          "model_module": "@jupyter-widgets/controls",
          "model_name": "HTMLModel",
          "state": {
            "_dom_classes": [],
            "_model_module": "@jupyter-widgets/controls",
            "_model_module_version": "1.5.0",
            "_model_name": "HTMLModel",
            "_view_count": null,
            "_view_module": "@jupyter-widgets/controls",
            "_view_module_version": "1.5.0",
            "_view_name": "HTMLView",
            "description": "",
            "description_tooltip": null,
            "layout": "IPY_MODEL_497816da6d6c4acc92e7536c7b9d2e53",
            "placeholder": "​",
            "style": "IPY_MODEL_8ec20c1df74b4db5b6f888dae94d386e",
            "value": " 232k/232k [00:02&lt;00:00, 92.2kB/s]"
          }
        },
        "a7909a0c691a43538cb1892d4657002e": {
          "model_module": "@jupyter-widgets/controls",
          "model_name": "ProgressStyleModel",
          "state": {
            "_model_module": "@jupyter-widgets/controls",
            "_model_module_version": "1.5.0",
            "_model_name": "ProgressStyleModel",
            "_view_count": null,
            "_view_module": "@jupyter-widgets/base",
            "_view_module_version": "1.2.0",
            "_view_name": "StyleView",
            "bar_color": null,
            "description_width": "initial"
          }
        },
        "48b673037a944b34a7edd918f8a4614a": {
          "model_module": "@jupyter-widgets/base",
          "model_name": "LayoutModel",
          "state": {
            "_model_module": "@jupyter-widgets/base",
            "_model_module_version": "1.2.0",
            "_model_name": "LayoutModel",
            "_view_count": null,
            "_view_module": "@jupyter-widgets/base",
            "_view_module_version": "1.2.0",
            "_view_name": "LayoutView",
            "align_content": null,
            "align_items": null,
            "align_self": null,
            "border": null,
            "bottom": null,
            "display": null,
            "flex": null,
            "flex_flow": null,
            "grid_area": null,
            "grid_auto_columns": null,
            "grid_auto_flow": null,
            "grid_auto_rows": null,
            "grid_column": null,
            "grid_gap": null,
            "grid_row": null,
            "grid_template_areas": null,
            "grid_template_columns": null,
            "grid_template_rows": null,
            "height": null,
            "justify_content": null,
            "justify_items": null,
            "left": null,
            "margin": null,
            "max_height": null,
            "max_width": null,
            "min_height": null,
            "min_width": null,
            "object_fit": null,
            "object_position": null,
            "order": null,
            "overflow": null,
            "overflow_x": null,
            "overflow_y": null,
            "padding": null,
            "right": null,
            "top": null,
            "visibility": null,
            "width": null
          }
        },
        "8ec20c1df74b4db5b6f888dae94d386e": {
          "model_module": "@jupyter-widgets/controls",
          "model_name": "DescriptionStyleModel",
          "state": {
            "_model_module": "@jupyter-widgets/controls",
            "_model_module_version": "1.5.0",
            "_model_name": "DescriptionStyleModel",
            "_view_count": null,
            "_view_module": "@jupyter-widgets/base",
            "_view_module_version": "1.2.0",
            "_view_name": "StyleView",
            "description_width": ""
          }
        },
        "497816da6d6c4acc92e7536c7b9d2e53": {
          "model_module": "@jupyter-widgets/base",
          "model_name": "LayoutModel",
          "state": {
            "_model_module": "@jupyter-widgets/base",
            "_model_module_version": "1.2.0",
            "_model_name": "LayoutModel",
            "_view_count": null,
            "_view_module": "@jupyter-widgets/base",
            "_view_module_version": "1.2.0",
            "_view_name": "LayoutView",
            "align_content": null,
            "align_items": null,
            "align_self": null,
            "border": null,
            "bottom": null,
            "display": null,
            "flex": null,
            "flex_flow": null,
            "grid_area": null,
            "grid_auto_columns": null,
            "grid_auto_flow": null,
            "grid_auto_rows": null,
            "grid_column": null,
            "grid_gap": null,
            "grid_row": null,
            "grid_template_areas": null,
            "grid_template_columns": null,
            "grid_template_rows": null,
            "height": null,
            "justify_content": null,
            "justify_items": null,
            "left": null,
            "margin": null,
            "max_height": null,
            "max_width": null,
            "min_height": null,
            "min_width": null,
            "object_fit": null,
            "object_position": null,
            "order": null,
            "overflow": null,
            "overflow_x": null,
            "overflow_y": null,
            "padding": null,
            "right": null,
            "top": null,
            "visibility": null,
            "width": null
          }
        },
        "23a5bb5237c5431c991bf9f83da2acb5": {
          "model_module": "@jupyter-widgets/controls",
          "model_name": "HBoxModel",
          "state": {
            "_dom_classes": [],
            "_model_module": "@jupyter-widgets/controls",
            "_model_module_version": "1.5.0",
            "_model_name": "HBoxModel",
            "_view_count": null,
            "_view_module": "@jupyter-widgets/controls",
            "_view_module_version": "1.5.0",
            "_view_name": "HBoxView",
            "box_style": "",
            "children": [
              "IPY_MODEL_dfc2133b190a48b3891a5071ab2da1f6",
              "IPY_MODEL_1d8398882d6c460d9339ee83c924ceb1"
            ],
            "layout": "IPY_MODEL_8a86b527bd4e455ca57387e583f02fda"
          }
        },
        "8a86b527bd4e455ca57387e583f02fda": {
          "model_module": "@jupyter-widgets/base",
          "model_name": "LayoutModel",
          "state": {
            "_model_module": "@jupyter-widgets/base",
            "_model_module_version": "1.2.0",
            "_model_name": "LayoutModel",
            "_view_count": null,
            "_view_module": "@jupyter-widgets/base",
            "_view_module_version": "1.2.0",
            "_view_name": "LayoutView",
            "align_content": null,
            "align_items": null,
            "align_self": null,
            "border": null,
            "bottom": null,
            "display": null,
            "flex": null,
            "flex_flow": null,
            "grid_area": null,
            "grid_auto_columns": null,
            "grid_auto_flow": null,
            "grid_auto_rows": null,
            "grid_column": null,
            "grid_gap": null,
            "grid_row": null,
            "grid_template_areas": null,
            "grid_template_columns": null,
            "grid_template_rows": null,
            "height": null,
            "justify_content": null,
            "justify_items": null,
            "left": null,
            "margin": null,
            "max_height": null,
            "max_width": null,
            "min_height": null,
            "min_width": null,
            "object_fit": null,
            "object_position": null,
            "order": null,
            "overflow": null,
            "overflow_x": null,
            "overflow_y": null,
            "padding": null,
            "right": null,
            "top": null,
            "visibility": null,
            "width": null
          }
        },
        "dfc2133b190a48b3891a5071ab2da1f6": {
          "model_module": "@jupyter-widgets/controls",
          "model_name": "FloatProgressModel",
          "state": {
            "_dom_classes": [],
            "_model_module": "@jupyter-widgets/controls",
            "_model_module_version": "1.5.0",
            "_model_name": "FloatProgressModel",
            "_view_count": null,
            "_view_module": "@jupyter-widgets/controls",
            "_view_module_version": "1.5.0",
            "_view_name": "ProgressView",
            "bar_style": "success",
            "description": "Downloading: 100%",
            "description_tooltip": null,
            "layout": "IPY_MODEL_a01a2aff5a97423d90e9951e643a9b29",
            "max": 466062,
            "min": 0,
            "orientation": "horizontal",
            "style": "IPY_MODEL_b9eaf9a68c834a73b110d18110d250c1",
            "value": 466062
          }
        },
        "1d8398882d6c460d9339ee83c924ceb1": {
          "model_module": "@jupyter-widgets/controls",
          "model_name": "HTMLModel",
          "state": {
            "_dom_classes": [],
            "_model_module": "@jupyter-widgets/controls",
            "_model_module_version": "1.5.0",
            "_model_name": "HTMLModel",
            "_view_count": null,
            "_view_module": "@jupyter-widgets/controls",
            "_view_module_version": "1.5.0",
            "_view_name": "HTMLView",
            "description": "",
            "description_tooltip": null,
            "layout": "IPY_MODEL_57a11a0da1484a72bc78d6c5d5a4917b",
            "placeholder": "​",
            "style": "IPY_MODEL_24130be5709c4ad0807c4851e08c892c",
            "value": " 466k/466k [00:32&lt;00:00, 14.4kB/s]"
          }
        },
        "b9eaf9a68c834a73b110d18110d250c1": {
          "model_module": "@jupyter-widgets/controls",
          "model_name": "ProgressStyleModel",
          "state": {
            "_model_module": "@jupyter-widgets/controls",
            "_model_module_version": "1.5.0",
            "_model_name": "ProgressStyleModel",
            "_view_count": null,
            "_view_module": "@jupyter-widgets/base",
            "_view_module_version": "1.2.0",
            "_view_name": "StyleView",
            "bar_color": null,
            "description_width": "initial"
          }
        },
        "a01a2aff5a97423d90e9951e643a9b29": {
          "model_module": "@jupyter-widgets/base",
          "model_name": "LayoutModel",
          "state": {
            "_model_module": "@jupyter-widgets/base",
            "_model_module_version": "1.2.0",
            "_model_name": "LayoutModel",
            "_view_count": null,
            "_view_module": "@jupyter-widgets/base",
            "_view_module_version": "1.2.0",
            "_view_name": "LayoutView",
            "align_content": null,
            "align_items": null,
            "align_self": null,
            "border": null,
            "bottom": null,
            "display": null,
            "flex": null,
            "flex_flow": null,
            "grid_area": null,
            "grid_auto_columns": null,
            "grid_auto_flow": null,
            "grid_auto_rows": null,
            "grid_column": null,
            "grid_gap": null,
            "grid_row": null,
            "grid_template_areas": null,
            "grid_template_columns": null,
            "grid_template_rows": null,
            "height": null,
            "justify_content": null,
            "justify_items": null,
            "left": null,
            "margin": null,
            "max_height": null,
            "max_width": null,
            "min_height": null,
            "min_width": null,
            "object_fit": null,
            "object_position": null,
            "order": null,
            "overflow": null,
            "overflow_x": null,
            "overflow_y": null,
            "padding": null,
            "right": null,
            "top": null,
            "visibility": null,
            "width": null
          }
        },
        "24130be5709c4ad0807c4851e08c892c": {
          "model_module": "@jupyter-widgets/controls",
          "model_name": "DescriptionStyleModel",
          "state": {
            "_model_module": "@jupyter-widgets/controls",
            "_model_module_version": "1.5.0",
            "_model_name": "DescriptionStyleModel",
            "_view_count": null,
            "_view_module": "@jupyter-widgets/base",
            "_view_module_version": "1.2.0",
            "_view_name": "StyleView",
            "description_width": ""
          }
        },
        "57a11a0da1484a72bc78d6c5d5a4917b": {
          "model_module": "@jupyter-widgets/base",
          "model_name": "LayoutModel",
          "state": {
            "_model_module": "@jupyter-widgets/base",
            "_model_module_version": "1.2.0",
            "_model_name": "LayoutModel",
            "_view_count": null,
            "_view_module": "@jupyter-widgets/base",
            "_view_module_version": "1.2.0",
            "_view_name": "LayoutView",
            "align_content": null,
            "align_items": null,
            "align_self": null,
            "border": null,
            "bottom": null,
            "display": null,
            "flex": null,
            "flex_flow": null,
            "grid_area": null,
            "grid_auto_columns": null,
            "grid_auto_flow": null,
            "grid_auto_rows": null,
            "grid_column": null,
            "grid_gap": null,
            "grid_row": null,
            "grid_template_areas": null,
            "grid_template_columns": null,
            "grid_template_rows": null,
            "height": null,
            "justify_content": null,
            "justify_items": null,
            "left": null,
            "margin": null,
            "max_height": null,
            "max_width": null,
            "min_height": null,
            "min_width": null,
            "object_fit": null,
            "object_position": null,
            "order": null,
            "overflow": null,
            "overflow_x": null,
            "overflow_y": null,
            "padding": null,
            "right": null,
            "top": null,
            "visibility": null,
            "width": null
          }
        },
        "9d4a162317ef4680af3df830d6566e3f": {
          "model_module": "@jupyter-widgets/controls",
          "model_name": "HBoxModel",
          "state": {
            "_dom_classes": [],
            "_model_module": "@jupyter-widgets/controls",
            "_model_module_version": "1.5.0",
            "_model_name": "HBoxModel",
            "_view_count": null,
            "_view_module": "@jupyter-widgets/controls",
            "_view_module_version": "1.5.0",
            "_view_name": "HBoxView",
            "box_style": "",
            "children": [
              "IPY_MODEL_cf0f1a68fa4c47229d1bb214382d22b2",
              "IPY_MODEL_102459d5e8ee430fbb0c0114663e4d44"
            ],
            "layout": "IPY_MODEL_f7aadd8de42b4d6c9d3df7416ffb6dfb"
          }
        },
        "f7aadd8de42b4d6c9d3df7416ffb6dfb": {
          "model_module": "@jupyter-widgets/base",
          "model_name": "LayoutModel",
          "state": {
            "_model_module": "@jupyter-widgets/base",
            "_model_module_version": "1.2.0",
            "_model_name": "LayoutModel",
            "_view_count": null,
            "_view_module": "@jupyter-widgets/base",
            "_view_module_version": "1.2.0",
            "_view_name": "LayoutView",
            "align_content": null,
            "align_items": null,
            "align_self": null,
            "border": null,
            "bottom": null,
            "display": null,
            "flex": null,
            "flex_flow": null,
            "grid_area": null,
            "grid_auto_columns": null,
            "grid_auto_flow": null,
            "grid_auto_rows": null,
            "grid_column": null,
            "grid_gap": null,
            "grid_row": null,
            "grid_template_areas": null,
            "grid_template_columns": null,
            "grid_template_rows": null,
            "height": null,
            "justify_content": null,
            "justify_items": null,
            "left": null,
            "margin": null,
            "max_height": null,
            "max_width": null,
            "min_height": null,
            "min_width": null,
            "object_fit": null,
            "object_position": null,
            "order": null,
            "overflow": null,
            "overflow_x": null,
            "overflow_y": null,
            "padding": null,
            "right": null,
            "top": null,
            "visibility": null,
            "width": null
          }
        },
        "cf0f1a68fa4c47229d1bb214382d22b2": {
          "model_module": "@jupyter-widgets/controls",
          "model_name": "FloatProgressModel",
          "state": {
            "_dom_classes": [],
            "_model_module": "@jupyter-widgets/controls",
            "_model_module_version": "1.5.0",
            "_model_name": "FloatProgressModel",
            "_view_count": null,
            "_view_module": "@jupyter-widgets/controls",
            "_view_module_version": "1.5.0",
            "_view_name": "ProgressView",
            "bar_style": "success",
            "description": "Downloading: 100%",
            "description_tooltip": null,
            "layout": "IPY_MODEL_e28b3b4f41ac447a9f00e095dd65d162",
            "max": 440473133,
            "min": 0,
            "orientation": "horizontal",
            "style": "IPY_MODEL_40e4f22226ba4b86a1e428ac22d1cd8d",
            "value": 440473133
          }
        },
        "102459d5e8ee430fbb0c0114663e4d44": {
          "model_module": "@jupyter-widgets/controls",
          "model_name": "HTMLModel",
          "state": {
            "_dom_classes": [],
            "_model_module": "@jupyter-widgets/controls",
            "_model_module_version": "1.5.0",
            "_model_name": "HTMLModel",
            "_view_count": null,
            "_view_module": "@jupyter-widgets/controls",
            "_view_module_version": "1.5.0",
            "_view_name": "HTMLView",
            "description": "",
            "description_tooltip": null,
            "layout": "IPY_MODEL_f58d265045ca44649e0755ccec417b22",
            "placeholder": "​",
            "style": "IPY_MODEL_452df53597c04f27b6561171e8eb63e8",
            "value": " 440M/440M [00:17&lt;00:00, 25.5MB/s]"
          }
        },
        "40e4f22226ba4b86a1e428ac22d1cd8d": {
          "model_module": "@jupyter-widgets/controls",
          "model_name": "ProgressStyleModel",
          "state": {
            "_model_module": "@jupyter-widgets/controls",
            "_model_module_version": "1.5.0",
            "_model_name": "ProgressStyleModel",
            "_view_count": null,
            "_view_module": "@jupyter-widgets/base",
            "_view_module_version": "1.2.0",
            "_view_name": "StyleView",
            "bar_color": null,
            "description_width": "initial"
          }
        },
        "e28b3b4f41ac447a9f00e095dd65d162": {
          "model_module": "@jupyter-widgets/base",
          "model_name": "LayoutModel",
          "state": {
            "_model_module": "@jupyter-widgets/base",
            "_model_module_version": "1.2.0",
            "_model_name": "LayoutModel",
            "_view_count": null,
            "_view_module": "@jupyter-widgets/base",
            "_view_module_version": "1.2.0",
            "_view_name": "LayoutView",
            "align_content": null,
            "align_items": null,
            "align_self": null,
            "border": null,
            "bottom": null,
            "display": null,
            "flex": null,
            "flex_flow": null,
            "grid_area": null,
            "grid_auto_columns": null,
            "grid_auto_flow": null,
            "grid_auto_rows": null,
            "grid_column": null,
            "grid_gap": null,
            "grid_row": null,
            "grid_template_areas": null,
            "grid_template_columns": null,
            "grid_template_rows": null,
            "height": null,
            "justify_content": null,
            "justify_items": null,
            "left": null,
            "margin": null,
            "max_height": null,
            "max_width": null,
            "min_height": null,
            "min_width": null,
            "object_fit": null,
            "object_position": null,
            "order": null,
            "overflow": null,
            "overflow_x": null,
            "overflow_y": null,
            "padding": null,
            "right": null,
            "top": null,
            "visibility": null,
            "width": null
          }
        },
        "452df53597c04f27b6561171e8eb63e8": {
          "model_module": "@jupyter-widgets/controls",
          "model_name": "DescriptionStyleModel",
          "state": {
            "_model_module": "@jupyter-widgets/controls",
            "_model_module_version": "1.5.0",
            "_model_name": "DescriptionStyleModel",
            "_view_count": null,
            "_view_module": "@jupyter-widgets/base",
            "_view_module_version": "1.2.0",
            "_view_name": "StyleView",
            "description_width": ""
          }
        },
        "f58d265045ca44649e0755ccec417b22": {
          "model_module": "@jupyter-widgets/base",
          "model_name": "LayoutModel",
          "state": {
            "_model_module": "@jupyter-widgets/base",
            "_model_module_version": "1.2.0",
            "_model_name": "LayoutModel",
            "_view_count": null,
            "_view_module": "@jupyter-widgets/base",
            "_view_module_version": "1.2.0",
            "_view_name": "LayoutView",
            "align_content": null,
            "align_items": null,
            "align_self": null,
            "border": null,
            "bottom": null,
            "display": null,
            "flex": null,
            "flex_flow": null,
            "grid_area": null,
            "grid_auto_columns": null,
            "grid_auto_flow": null,
            "grid_auto_rows": null,
            "grid_column": null,
            "grid_gap": null,
            "grid_row": null,
            "grid_template_areas": null,
            "grid_template_columns": null,
            "grid_template_rows": null,
            "height": null,
            "justify_content": null,
            "justify_items": null,
            "left": null,
            "margin": null,
            "max_height": null,
            "max_width": null,
            "min_height": null,
            "min_width": null,
            "object_fit": null,
            "object_position": null,
            "order": null,
            "overflow": null,
            "overflow_x": null,
            "overflow_y": null,
            "padding": null,
            "right": null,
            "top": null,
            "visibility": null,
            "width": null
          }
        },
        "a51699d80ae4417188e67009ac2f283d": {
          "model_module": "@jupyter-widgets/controls",
          "model_name": "HBoxModel",
          "state": {
            "_dom_classes": [],
            "_model_module": "@jupyter-widgets/controls",
            "_model_module_version": "1.5.0",
            "_model_name": "HBoxModel",
            "_view_count": null,
            "_view_module": "@jupyter-widgets/controls",
            "_view_module_version": "1.5.0",
            "_view_name": "HBoxView",
            "box_style": "",
            "children": [
              "IPY_MODEL_0b698717ff4346d7ade2fb66dfa7a45c",
              "IPY_MODEL_eabe5acd9d4748c7b90ddb148c3b7de4"
            ],
            "layout": "IPY_MODEL_93276664d5e6478082ce0f68a5293386"
          }
        },
        "93276664d5e6478082ce0f68a5293386": {
          "model_module": "@jupyter-widgets/base",
          "model_name": "LayoutModel",
          "state": {
            "_model_module": "@jupyter-widgets/base",
            "_model_module_version": "1.2.0",
            "_model_name": "LayoutModel",
            "_view_count": null,
            "_view_module": "@jupyter-widgets/base",
            "_view_module_version": "1.2.0",
            "_view_name": "LayoutView",
            "align_content": null,
            "align_items": null,
            "align_self": null,
            "border": null,
            "bottom": null,
            "display": null,
            "flex": null,
            "flex_flow": null,
            "grid_area": null,
            "grid_auto_columns": null,
            "grid_auto_flow": null,
            "grid_auto_rows": null,
            "grid_column": null,
            "grid_gap": null,
            "grid_row": null,
            "grid_template_areas": null,
            "grid_template_columns": null,
            "grid_template_rows": null,
            "height": null,
            "justify_content": null,
            "justify_items": null,
            "left": null,
            "margin": null,
            "max_height": null,
            "max_width": null,
            "min_height": null,
            "min_width": null,
            "object_fit": null,
            "object_position": null,
            "order": null,
            "overflow": null,
            "overflow_x": null,
            "overflow_y": null,
            "padding": null,
            "right": null,
            "top": null,
            "visibility": null,
            "width": null
          }
        },
        "0b698717ff4346d7ade2fb66dfa7a45c": {
          "model_module": "@jupyter-widgets/controls",
          "model_name": "FloatProgressModel",
          "state": {
            "_dom_classes": [],
            "_model_module": "@jupyter-widgets/controls",
            "_model_module_version": "1.5.0",
            "_model_name": "FloatProgressModel",
            "_view_count": null,
            "_view_module": "@jupyter-widgets/controls",
            "_view_module_version": "1.5.0",
            "_view_name": "ProgressView",
            "bar_style": "success",
            "description": "Downloading: 100%",
            "description_tooltip": null,
            "layout": "IPY_MODEL_37cdb5e9e3e1455486970e5abe49adcb",
            "max": 513,
            "min": 0,
            "orientation": "horizontal",
            "style": "IPY_MODEL_d2c9fb15413847ebbae8ad62a214061f",
            "value": 513
          }
        },
        "eabe5acd9d4748c7b90ddb148c3b7de4": {
          "model_module": "@jupyter-widgets/controls",
          "model_name": "HTMLModel",
          "state": {
            "_dom_classes": [],
            "_model_module": "@jupyter-widgets/controls",
            "_model_module_version": "1.5.0",
            "_model_name": "HTMLModel",
            "_view_count": null,
            "_view_module": "@jupyter-widgets/controls",
            "_view_module_version": "1.5.0",
            "_view_name": "HTMLView",
            "description": "",
            "description_tooltip": null,
            "layout": "IPY_MODEL_63e1d13f1a5242b2b6a70188cb203bea",
            "placeholder": "​",
            "style": "IPY_MODEL_b41d45b6015b4b0eb965f7bfbef72503",
            "value": " 513/513 [00:00&lt;00:00, 2.21kB/s]"
          }
        },
        "d2c9fb15413847ebbae8ad62a214061f": {
          "model_module": "@jupyter-widgets/controls",
          "model_name": "ProgressStyleModel",
          "state": {
            "_model_module": "@jupyter-widgets/controls",
            "_model_module_version": "1.5.0",
            "_model_name": "ProgressStyleModel",
            "_view_count": null,
            "_view_module": "@jupyter-widgets/base",
            "_view_module_version": "1.2.0",
            "_view_name": "StyleView",
            "bar_color": null,
            "description_width": "initial"
          }
        },
        "37cdb5e9e3e1455486970e5abe49adcb": {
          "model_module": "@jupyter-widgets/base",
          "model_name": "LayoutModel",
          "state": {
            "_model_module": "@jupyter-widgets/base",
            "_model_module_version": "1.2.0",
            "_model_name": "LayoutModel",
            "_view_count": null,
            "_view_module": "@jupyter-widgets/base",
            "_view_module_version": "1.2.0",
            "_view_name": "LayoutView",
            "align_content": null,
            "align_items": null,
            "align_self": null,
            "border": null,
            "bottom": null,
            "display": null,
            "flex": null,
            "flex_flow": null,
            "grid_area": null,
            "grid_auto_columns": null,
            "grid_auto_flow": null,
            "grid_auto_rows": null,
            "grid_column": null,
            "grid_gap": null,
            "grid_row": null,
            "grid_template_areas": null,
            "grid_template_columns": null,
            "grid_template_rows": null,
            "height": null,
            "justify_content": null,
            "justify_items": null,
            "left": null,
            "margin": null,
            "max_height": null,
            "max_width": null,
            "min_height": null,
            "min_width": null,
            "object_fit": null,
            "object_position": null,
            "order": null,
            "overflow": null,
            "overflow_x": null,
            "overflow_y": null,
            "padding": null,
            "right": null,
            "top": null,
            "visibility": null,
            "width": null
          }
        },
        "b41d45b6015b4b0eb965f7bfbef72503": {
          "model_module": "@jupyter-widgets/controls",
          "model_name": "DescriptionStyleModel",
          "state": {
            "_model_module": "@jupyter-widgets/controls",
            "_model_module_version": "1.5.0",
            "_model_name": "DescriptionStyleModel",
            "_view_count": null,
            "_view_module": "@jupyter-widgets/base",
            "_view_module_version": "1.2.0",
            "_view_name": "StyleView",
            "description_width": ""
          }
        },
        "63e1d13f1a5242b2b6a70188cb203bea": {
          "model_module": "@jupyter-widgets/base",
          "model_name": "LayoutModel",
          "state": {
            "_model_module": "@jupyter-widgets/base",
            "_model_module_version": "1.2.0",
            "_model_name": "LayoutModel",
            "_view_count": null,
            "_view_module": "@jupyter-widgets/base",
            "_view_module_version": "1.2.0",
            "_view_name": "LayoutView",
            "align_content": null,
            "align_items": null,
            "align_self": null,
            "border": null,
            "bottom": null,
            "display": null,
            "flex": null,
            "flex_flow": null,
            "grid_area": null,
            "grid_auto_columns": null,
            "grid_auto_flow": null,
            "grid_auto_rows": null,
            "grid_column": null,
            "grid_gap": null,
            "grid_row": null,
            "grid_template_areas": null,
            "grid_template_columns": null,
            "grid_template_rows": null,
            "height": null,
            "justify_content": null,
            "justify_items": null,
            "left": null,
            "margin": null,
            "max_height": null,
            "max_width": null,
            "min_height": null,
            "min_width": null,
            "object_fit": null,
            "object_position": null,
            "order": null,
            "overflow": null,
            "overflow_x": null,
            "overflow_y": null,
            "padding": null,
            "right": null,
            "top": null,
            "visibility": null,
            "width": null
          }
        },
        "dbb4ca6fe3824938a683365088a739fd": {
          "model_module": "@jupyter-widgets/controls",
          "model_name": "HBoxModel",
          "state": {
            "_dom_classes": [],
            "_model_module": "@jupyter-widgets/controls",
            "_model_module_version": "1.5.0",
            "_model_name": "HBoxModel",
            "_view_count": null,
            "_view_module": "@jupyter-widgets/controls",
            "_view_module_version": "1.5.0",
            "_view_name": "HBoxView",
            "box_style": "",
            "children": [
              "IPY_MODEL_c81d6462935c4c05a862cb13bbc7f9df",
              "IPY_MODEL_c5c80f653c8d44f7815fdc95aa0e89ee"
            ],
            "layout": "IPY_MODEL_1083e9c45106454fbae9fdd922893c64"
          }
        },
        "1083e9c45106454fbae9fdd922893c64": {
          "model_module": "@jupyter-widgets/base",
          "model_name": "LayoutModel",
          "state": {
            "_model_module": "@jupyter-widgets/base",
            "_model_module_version": "1.2.0",
            "_model_name": "LayoutModel",
            "_view_count": null,
            "_view_module": "@jupyter-widgets/base",
            "_view_module_version": "1.2.0",
            "_view_name": "LayoutView",
            "align_content": null,
            "align_items": null,
            "align_self": null,
            "border": null,
            "bottom": null,
            "display": null,
            "flex": null,
            "flex_flow": null,
            "grid_area": null,
            "grid_auto_columns": null,
            "grid_auto_flow": null,
            "grid_auto_rows": null,
            "grid_column": null,
            "grid_gap": null,
            "grid_row": null,
            "grid_template_areas": null,
            "grid_template_columns": null,
            "grid_template_rows": null,
            "height": null,
            "justify_content": null,
            "justify_items": null,
            "left": null,
            "margin": null,
            "max_height": null,
            "max_width": null,
            "min_height": null,
            "min_width": null,
            "object_fit": null,
            "object_position": null,
            "order": null,
            "overflow": null,
            "overflow_x": null,
            "overflow_y": null,
            "padding": null,
            "right": null,
            "top": null,
            "visibility": null,
            "width": null
          }
        },
        "c81d6462935c4c05a862cb13bbc7f9df": {
          "model_module": "@jupyter-widgets/controls",
          "model_name": "FloatProgressModel",
          "state": {
            "_dom_classes": [],
            "_model_module": "@jupyter-widgets/controls",
            "_model_module_version": "1.5.0",
            "_model_name": "FloatProgressModel",
            "_view_count": null,
            "_view_module": "@jupyter-widgets/controls",
            "_view_module_version": "1.5.0",
            "_view_name": "ProgressView",
            "bar_style": "success",
            "description": "Downloading: 100%",
            "description_tooltip": null,
            "layout": "IPY_MODEL_fa88ffeb671448a2a264ee289e581f06",
            "max": 5069051,
            "min": 0,
            "orientation": "horizontal",
            "style": "IPY_MODEL_d6e88000ecfb499eaee8c084f63ce98e",
            "value": 5069051
          }
        },
        "c5c80f653c8d44f7815fdc95aa0e89ee": {
          "model_module": "@jupyter-widgets/controls",
          "model_name": "HTMLModel",
          "state": {
            "_dom_classes": [],
            "_model_module": "@jupyter-widgets/controls",
            "_model_module_version": "1.5.0",
            "_model_name": "HTMLModel",
            "_view_count": null,
            "_view_module": "@jupyter-widgets/controls",
            "_view_module_version": "1.5.0",
            "_view_name": "HTMLView",
            "description": "",
            "description_tooltip": null,
            "layout": "IPY_MODEL_b2884ec035294299bb64bc0fb7b4d09e",
            "placeholder": "​",
            "style": "IPY_MODEL_0369d3f3b02e424e86a5e8605eaaead7",
            "value": " 5.07M/5.07M [00:18&lt;00:00, 273kB/s]"
          }
        },
        "d6e88000ecfb499eaee8c084f63ce98e": {
          "model_module": "@jupyter-widgets/controls",
          "model_name": "ProgressStyleModel",
          "state": {
            "_model_module": "@jupyter-widgets/controls",
            "_model_module_version": "1.5.0",
            "_model_name": "ProgressStyleModel",
            "_view_count": null,
            "_view_module": "@jupyter-widgets/base",
            "_view_module_version": "1.2.0",
            "_view_name": "StyleView",
            "bar_color": null,
            "description_width": "initial"
          }
        },
        "fa88ffeb671448a2a264ee289e581f06": {
          "model_module": "@jupyter-widgets/base",
          "model_name": "LayoutModel",
          "state": {
            "_model_module": "@jupyter-widgets/base",
            "_model_module_version": "1.2.0",
            "_model_name": "LayoutModel",
            "_view_count": null,
            "_view_module": "@jupyter-widgets/base",
            "_view_module_version": "1.2.0",
            "_view_name": "LayoutView",
            "align_content": null,
            "align_items": null,
            "align_self": null,
            "border": null,
            "bottom": null,
            "display": null,
            "flex": null,
            "flex_flow": null,
            "grid_area": null,
            "grid_auto_columns": null,
            "grid_auto_flow": null,
            "grid_auto_rows": null,
            "grid_column": null,
            "grid_gap": null,
            "grid_row": null,
            "grid_template_areas": null,
            "grid_template_columns": null,
            "grid_template_rows": null,
            "height": null,
            "justify_content": null,
            "justify_items": null,
            "left": null,
            "margin": null,
            "max_height": null,
            "max_width": null,
            "min_height": null,
            "min_width": null,
            "object_fit": null,
            "object_position": null,
            "order": null,
            "overflow": null,
            "overflow_x": null,
            "overflow_y": null,
            "padding": null,
            "right": null,
            "top": null,
            "visibility": null,
            "width": null
          }
        },
        "0369d3f3b02e424e86a5e8605eaaead7": {
          "model_module": "@jupyter-widgets/controls",
          "model_name": "DescriptionStyleModel",
          "state": {
            "_model_module": "@jupyter-widgets/controls",
            "_model_module_version": "1.5.0",
            "_model_name": "DescriptionStyleModel",
            "_view_count": null,
            "_view_module": "@jupyter-widgets/base",
            "_view_module_version": "1.2.0",
            "_view_name": "StyleView",
            "description_width": ""
          }
        },
        "b2884ec035294299bb64bc0fb7b4d09e": {
          "model_module": "@jupyter-widgets/base",
          "model_name": "LayoutModel",
          "state": {
            "_model_module": "@jupyter-widgets/base",
            "_model_module_version": "1.2.0",
            "_model_name": "LayoutModel",
            "_view_count": null,
            "_view_module": "@jupyter-widgets/base",
            "_view_module_version": "1.2.0",
            "_view_name": "LayoutView",
            "align_content": null,
            "align_items": null,
            "align_self": null,
            "border": null,
            "bottom": null,
            "display": null,
            "flex": null,
            "flex_flow": null,
            "grid_area": null,
            "grid_auto_columns": null,
            "grid_auto_flow": null,
            "grid_auto_rows": null,
            "grid_column": null,
            "grid_gap": null,
            "grid_row": null,
            "grid_template_areas": null,
            "grid_template_columns": null,
            "grid_template_rows": null,
            "height": null,
            "justify_content": null,
            "justify_items": null,
            "left": null,
            "margin": null,
            "max_height": null,
            "max_width": null,
            "min_height": null,
            "min_width": null,
            "object_fit": null,
            "object_position": null,
            "order": null,
            "overflow": null,
            "overflow_x": null,
            "overflow_y": null,
            "padding": null,
            "right": null,
            "top": null,
            "visibility": null,
            "width": null
          }
        },
        "92b9fd5133374eadbf940150692d616d": {
          "model_module": "@jupyter-widgets/controls",
          "model_name": "HBoxModel",
          "state": {
            "_dom_classes": [],
            "_model_module": "@jupyter-widgets/controls",
            "_model_module_version": "1.5.0",
            "_model_name": "HBoxModel",
            "_view_count": null,
            "_view_module": "@jupyter-widgets/controls",
            "_view_module_version": "1.5.0",
            "_view_name": "HBoxView",
            "box_style": "",
            "children": [
              "IPY_MODEL_62b40275683c464da438b8c14ad7c200",
              "IPY_MODEL_8a469cd3333f45cab75cd869263d5867"
            ],
            "layout": "IPY_MODEL_dc6f3b6c800148bd83bd429fb12509a8"
          }
        },
        "dc6f3b6c800148bd83bd429fb12509a8": {
          "model_module": "@jupyter-widgets/base",
          "model_name": "LayoutModel",
          "state": {
            "_model_module": "@jupyter-widgets/base",
            "_model_module_version": "1.2.0",
            "_model_name": "LayoutModel",
            "_view_count": null,
            "_view_module": "@jupyter-widgets/base",
            "_view_module_version": "1.2.0",
            "_view_name": "LayoutView",
            "align_content": null,
            "align_items": null,
            "align_self": null,
            "border": null,
            "bottom": null,
            "display": null,
            "flex": null,
            "flex_flow": null,
            "grid_area": null,
            "grid_auto_columns": null,
            "grid_auto_flow": null,
            "grid_auto_rows": null,
            "grid_column": null,
            "grid_gap": null,
            "grid_row": null,
            "grid_template_areas": null,
            "grid_template_columns": null,
            "grid_template_rows": null,
            "height": null,
            "justify_content": null,
            "justify_items": null,
            "left": null,
            "margin": null,
            "max_height": null,
            "max_width": null,
            "min_height": null,
            "min_width": null,
            "object_fit": null,
            "object_position": null,
            "order": null,
            "overflow": null,
            "overflow_x": null,
            "overflow_y": null,
            "padding": null,
            "right": null,
            "top": null,
            "visibility": null,
            "width": null
          }
        },
        "62b40275683c464da438b8c14ad7c200": {
          "model_module": "@jupyter-widgets/controls",
          "model_name": "FloatProgressModel",
          "state": {
            "_dom_classes": [],
            "_model_module": "@jupyter-widgets/controls",
            "_model_module_version": "1.5.0",
            "_model_name": "FloatProgressModel",
            "_view_count": null,
            "_view_module": "@jupyter-widgets/controls",
            "_view_module_version": "1.5.0",
            "_view_name": "ProgressView",
            "bar_style": "success",
            "description": "Downloading: 100%",
            "description_tooltip": null,
            "layout": "IPY_MODEL_5bcabf47d5ad48e18f13b348316c9471",
            "max": 9096718,
            "min": 0,
            "orientation": "horizontal",
            "style": "IPY_MODEL_a75ac9b22dcf43269d9713269226f366",
            "value": 9096718
          }
        },
        "8a469cd3333f45cab75cd869263d5867": {
          "model_module": "@jupyter-widgets/controls",
          "model_name": "HTMLModel",
          "state": {
            "_dom_classes": [],
            "_model_module": "@jupyter-widgets/controls",
            "_model_module_version": "1.5.0",
            "_model_name": "HTMLModel",
            "_view_count": null,
            "_view_module": "@jupyter-widgets/controls",
            "_view_module_version": "1.5.0",
            "_view_name": "HTMLView",
            "description": "",
            "description_tooltip": null,
            "layout": "IPY_MODEL_2664b940d91b4164be49d2c19bb2dc15",
            "placeholder": "​",
            "style": "IPY_MODEL_1d688e820b8346bfba7399765920e3bf",
            "value": " 9.10M/9.10M [00:16&lt;00:00, 567kB/s]"
          }
        },
        "a75ac9b22dcf43269d9713269226f366": {
          "model_module": "@jupyter-widgets/controls",
          "model_name": "ProgressStyleModel",
          "state": {
            "_model_module": "@jupyter-widgets/controls",
            "_model_module_version": "1.5.0",
            "_model_name": "ProgressStyleModel",
            "_view_count": null,
            "_view_module": "@jupyter-widgets/base",
            "_view_module_version": "1.2.0",
            "_view_name": "StyleView",
            "bar_color": null,
            "description_width": "initial"
          }
        },
        "5bcabf47d5ad48e18f13b348316c9471": {
          "model_module": "@jupyter-widgets/base",
          "model_name": "LayoutModel",
          "state": {
            "_model_module": "@jupyter-widgets/base",
            "_model_module_version": "1.2.0",
            "_model_name": "LayoutModel",
            "_view_count": null,
            "_view_module": "@jupyter-widgets/base",
            "_view_module_version": "1.2.0",
            "_view_name": "LayoutView",
            "align_content": null,
            "align_items": null,
            "align_self": null,
            "border": null,
            "bottom": null,
            "display": null,
            "flex": null,
            "flex_flow": null,
            "grid_area": null,
            "grid_auto_columns": null,
            "grid_auto_flow": null,
            "grid_auto_rows": null,
            "grid_column": null,
            "grid_gap": null,
            "grid_row": null,
            "grid_template_areas": null,
            "grid_template_columns": null,
            "grid_template_rows": null,
            "height": null,
            "justify_content": null,
            "justify_items": null,
            "left": null,
            "margin": null,
            "max_height": null,
            "max_width": null,
            "min_height": null,
            "min_width": null,
            "object_fit": null,
            "object_position": null,
            "order": null,
            "overflow": null,
            "overflow_x": null,
            "overflow_y": null,
            "padding": null,
            "right": null,
            "top": null,
            "visibility": null,
            "width": null
          }
        },
        "1d688e820b8346bfba7399765920e3bf": {
          "model_module": "@jupyter-widgets/controls",
          "model_name": "DescriptionStyleModel",
          "state": {
            "_model_module": "@jupyter-widgets/controls",
            "_model_module_version": "1.5.0",
            "_model_name": "DescriptionStyleModel",
            "_view_count": null,
            "_view_module": "@jupyter-widgets/base",
            "_view_module_version": "1.2.0",
            "_view_name": "StyleView",
            "description_width": ""
          }
        },
        "2664b940d91b4164be49d2c19bb2dc15": {
          "model_module": "@jupyter-widgets/base",
          "model_name": "LayoutModel",
          "state": {
            "_model_module": "@jupyter-widgets/base",
            "_model_module_version": "1.2.0",
            "_model_name": "LayoutModel",
            "_view_count": null,
            "_view_module": "@jupyter-widgets/base",
            "_view_module_version": "1.2.0",
            "_view_name": "LayoutView",
            "align_content": null,
            "align_items": null,
            "align_self": null,
            "border": null,
            "bottom": null,
            "display": null,
            "flex": null,
            "flex_flow": null,
            "grid_area": null,
            "grid_auto_columns": null,
            "grid_auto_flow": null,
            "grid_auto_rows": null,
            "grid_column": null,
            "grid_gap": null,
            "grid_row": null,
            "grid_template_areas": null,
            "grid_template_columns": null,
            "grid_template_rows": null,
            "height": null,
            "justify_content": null,
            "justify_items": null,
            "left": null,
            "margin": null,
            "max_height": null,
            "max_width": null,
            "min_height": null,
            "min_width": null,
            "object_fit": null,
            "object_position": null,
            "order": null,
            "overflow": null,
            "overflow_x": null,
            "overflow_y": null,
            "padding": null,
            "right": null,
            "top": null,
            "visibility": null,
            "width": null
          }
        },
        "ea2d6ca736754396867264c688c18130": {
          "model_module": "@jupyter-widgets/controls",
          "model_name": "HBoxModel",
          "state": {
            "_dom_classes": [],
            "_model_module": "@jupyter-widgets/controls",
            "_model_module_version": "1.5.0",
            "_model_name": "HBoxModel",
            "_view_count": null,
            "_view_module": "@jupyter-widgets/controls",
            "_view_module_version": "1.5.0",
            "_view_name": "HBoxView",
            "box_style": "",
            "children": [
              "IPY_MODEL_1472c4cdf8fa44a8a043ac5464ffbb82",
              "IPY_MODEL_47135755d275406c8ca6aa203e1f2cd4"
            ],
            "layout": "IPY_MODEL_914969982ad14130a375ce8879b95724"
          }
        },
        "914969982ad14130a375ce8879b95724": {
          "model_module": "@jupyter-widgets/base",
          "model_name": "LayoutModel",
          "state": {
            "_model_module": "@jupyter-widgets/base",
            "_model_module_version": "1.2.0",
            "_model_name": "LayoutModel",
            "_view_count": null,
            "_view_module": "@jupyter-widgets/base",
            "_view_module_version": "1.2.0",
            "_view_name": "LayoutView",
            "align_content": null,
            "align_items": null,
            "align_self": null,
            "border": null,
            "bottom": null,
            "display": null,
            "flex": null,
            "flex_flow": null,
            "grid_area": null,
            "grid_auto_columns": null,
            "grid_auto_flow": null,
            "grid_auto_rows": null,
            "grid_column": null,
            "grid_gap": null,
            "grid_row": null,
            "grid_template_areas": null,
            "grid_template_columns": null,
            "grid_template_rows": null,
            "height": null,
            "justify_content": null,
            "justify_items": null,
            "left": null,
            "margin": null,
            "max_height": null,
            "max_width": null,
            "min_height": null,
            "min_width": null,
            "object_fit": null,
            "object_position": null,
            "order": null,
            "overflow": null,
            "overflow_x": null,
            "overflow_y": null,
            "padding": null,
            "right": null,
            "top": null,
            "visibility": null,
            "width": null
          }
        },
        "1472c4cdf8fa44a8a043ac5464ffbb82": {
          "model_module": "@jupyter-widgets/controls",
          "model_name": "FloatProgressModel",
          "state": {
            "_dom_classes": [],
            "_model_module": "@jupyter-widgets/controls",
            "_model_module_version": "1.5.0",
            "_model_name": "FloatProgressModel",
            "_view_count": null,
            "_view_module": "@jupyter-widgets/controls",
            "_view_module_version": "1.5.0",
            "_view_name": "ProgressView",
            "bar_style": "success",
            "description": "Downloading: 100%",
            "description_tooltip": null,
            "layout": "IPY_MODEL_8f585769e42c46368742cbd31a3e7905",
            "max": 2244861551,
            "min": 0,
            "orientation": "horizontal",
            "style": "IPY_MODEL_01a6d7289bc54f7aa94401666b8e5d2f",
            "value": 2244861551
          }
        },
        "47135755d275406c8ca6aa203e1f2cd4": {
          "model_module": "@jupyter-widgets/controls",
          "model_name": "HTMLModel",
          "state": {
            "_dom_classes": [],
            "_model_module": "@jupyter-widgets/controls",
            "_model_module_version": "1.5.0",
            "_model_name": "HTMLModel",
            "_view_count": null,
            "_view_module": "@jupyter-widgets/controls",
            "_view_module_version": "1.5.0",
            "_view_name": "HTMLView",
            "description": "",
            "description_tooltip": null,
            "layout": "IPY_MODEL_e4f88a0935444f61b1c2ebc227196a63",
            "placeholder": "​",
            "style": "IPY_MODEL_050f71a9250f4e62b2b178c17ec9b3e3",
            "value": " 2.24G/2.24G [00:51&lt;00:00, 43.5MB/s]"
          }
        },
        "01a6d7289bc54f7aa94401666b8e5d2f": {
          "model_module": "@jupyter-widgets/controls",
          "model_name": "ProgressStyleModel",
          "state": {
            "_model_module": "@jupyter-widgets/controls",
            "_model_module_version": "1.5.0",
            "_model_name": "ProgressStyleModel",
            "_view_count": null,
            "_view_module": "@jupyter-widgets/base",
            "_view_module_version": "1.2.0",
            "_view_name": "StyleView",
            "bar_color": null,
            "description_width": "initial"
          }
        },
        "8f585769e42c46368742cbd31a3e7905": {
          "model_module": "@jupyter-widgets/base",
          "model_name": "LayoutModel",
          "state": {
            "_model_module": "@jupyter-widgets/base",
            "_model_module_version": "1.2.0",
            "_model_name": "LayoutModel",
            "_view_count": null,
            "_view_module": "@jupyter-widgets/base",
            "_view_module_version": "1.2.0",
            "_view_name": "LayoutView",
            "align_content": null,
            "align_items": null,
            "align_self": null,
            "border": null,
            "bottom": null,
            "display": null,
            "flex": null,
            "flex_flow": null,
            "grid_area": null,
            "grid_auto_columns": null,
            "grid_auto_flow": null,
            "grid_auto_rows": null,
            "grid_column": null,
            "grid_gap": null,
            "grid_row": null,
            "grid_template_areas": null,
            "grid_template_columns": null,
            "grid_template_rows": null,
            "height": null,
            "justify_content": null,
            "justify_items": null,
            "left": null,
            "margin": null,
            "max_height": null,
            "max_width": null,
            "min_height": null,
            "min_width": null,
            "object_fit": null,
            "object_position": null,
            "order": null,
            "overflow": null,
            "overflow_x": null,
            "overflow_y": null,
            "padding": null,
            "right": null,
            "top": null,
            "visibility": null,
            "width": null
          }
        },
        "050f71a9250f4e62b2b178c17ec9b3e3": {
          "model_module": "@jupyter-widgets/controls",
          "model_name": "DescriptionStyleModel",
          "state": {
            "_model_module": "@jupyter-widgets/controls",
            "_model_module_version": "1.5.0",
            "_model_name": "DescriptionStyleModel",
            "_view_count": null,
            "_view_module": "@jupyter-widgets/base",
            "_view_module_version": "1.2.0",
            "_view_name": "StyleView",
            "description_width": ""
          }
        },
        "e4f88a0935444f61b1c2ebc227196a63": {
          "model_module": "@jupyter-widgets/base",
          "model_name": "LayoutModel",
          "state": {
            "_model_module": "@jupyter-widgets/base",
            "_model_module_version": "1.2.0",
            "_model_name": "LayoutModel",
            "_view_count": null,
            "_view_module": "@jupyter-widgets/base",
            "_view_module_version": "1.2.0",
            "_view_name": "LayoutView",
            "align_content": null,
            "align_items": null,
            "align_self": null,
            "border": null,
            "bottom": null,
            "display": null,
            "flex": null,
            "flex_flow": null,
            "grid_area": null,
            "grid_auto_columns": null,
            "grid_auto_flow": null,
            "grid_auto_rows": null,
            "grid_column": null,
            "grid_gap": null,
            "grid_row": null,
            "grid_template_areas": null,
            "grid_template_columns": null,
            "grid_template_rows": null,
            "height": null,
            "justify_content": null,
            "justify_items": null,
            "left": null,
            "margin": null,
            "max_height": null,
            "max_width": null,
            "min_height": null,
            "min_width": null,
            "object_fit": null,
            "object_position": null,
            "order": null,
            "overflow": null,
            "overflow_x": null,
            "overflow_y": null,
            "padding": null,
            "right": null,
            "top": null,
            "visibility": null,
            "width": null
          }
        },
        "c94ab6665ac84671b8532753f635c9e6": {
          "model_module": "@jupyter-widgets/controls",
          "model_name": "HBoxModel",
          "state": {
            "_dom_classes": [],
            "_model_module": "@jupyter-widgets/controls",
            "_model_module_version": "1.5.0",
            "_model_name": "HBoxModel",
            "_view_count": null,
            "_view_module": "@jupyter-widgets/controls",
            "_view_module_version": "1.5.0",
            "_view_name": "HBoxView",
            "box_style": "",
            "children": [
              "IPY_MODEL_9c3f2f1205ed49908b8e5c11586324c3",
              "IPY_MODEL_b044a1df89fd4877ac387a6a2201294b"
            ],
            "layout": "IPY_MODEL_297086a9925a4a23b1e607aa3cf08861"
          }
        },
        "297086a9925a4a23b1e607aa3cf08861": {
          "model_module": "@jupyter-widgets/base",
          "model_name": "LayoutModel",
          "state": {
            "_model_module": "@jupyter-widgets/base",
            "_model_module_version": "1.2.0",
            "_model_name": "LayoutModel",
            "_view_count": null,
            "_view_module": "@jupyter-widgets/base",
            "_view_module_version": "1.2.0",
            "_view_name": "LayoutView",
            "align_content": null,
            "align_items": null,
            "align_self": null,
            "border": null,
            "bottom": null,
            "display": null,
            "flex": null,
            "flex_flow": null,
            "grid_area": null,
            "grid_auto_columns": null,
            "grid_auto_flow": null,
            "grid_auto_rows": null,
            "grid_column": null,
            "grid_gap": null,
            "grid_row": null,
            "grid_template_areas": null,
            "grid_template_columns": null,
            "grid_template_rows": null,
            "height": null,
            "justify_content": null,
            "justify_items": null,
            "left": null,
            "margin": null,
            "max_height": null,
            "max_width": null,
            "min_height": null,
            "min_width": null,
            "object_fit": null,
            "object_position": null,
            "order": null,
            "overflow": null,
            "overflow_x": null,
            "overflow_y": null,
            "padding": null,
            "right": null,
            "top": null,
            "visibility": null,
            "width": null
          }
        },
        "9c3f2f1205ed49908b8e5c11586324c3": {
          "model_module": "@jupyter-widgets/controls",
          "model_name": "FloatProgressModel",
          "state": {
            "_dom_classes": [],
            "_model_module": "@jupyter-widgets/controls",
            "_model_module_version": "1.5.0",
            "_model_name": "FloatProgressModel",
            "_view_count": null,
            "_view_module": "@jupyter-widgets/controls",
            "_view_module_version": "1.5.0",
            "_view_name": "ProgressView",
            "bar_style": "success",
            "description": "Downloading: 100%",
            "description_tooltip": null,
            "layout": "IPY_MODEL_0f9f8b2849be420496787e27e9fe0829",
            "max": 236,
            "min": 0,
            "orientation": "horizontal",
            "style": "IPY_MODEL_ea5708141cf54c0998ec91c3222a373b",
            "value": 236
          }
        },
        "b044a1df89fd4877ac387a6a2201294b": {
          "model_module": "@jupyter-widgets/controls",
          "model_name": "HTMLModel",
          "state": {
            "_dom_classes": [],
            "_model_module": "@jupyter-widgets/controls",
            "_model_module_version": "1.5.0",
            "_model_name": "HTMLModel",
            "_view_count": null,
            "_view_module": "@jupyter-widgets/controls",
            "_view_module_version": "1.5.0",
            "_view_name": "HTMLView",
            "description": "",
            "description_tooltip": null,
            "layout": "IPY_MODEL_dcf5943027734e97b426028c9570d75f",
            "placeholder": "​",
            "style": "IPY_MODEL_3dcab9708e9543399b01fa5cfd9a45d0",
            "value": " 236/236 [00:10&lt;00:00, 23.1B/s]"
          }
        },
        "ea5708141cf54c0998ec91c3222a373b": {
          "model_module": "@jupyter-widgets/controls",
          "model_name": "ProgressStyleModel",
          "state": {
            "_model_module": "@jupyter-widgets/controls",
            "_model_module_version": "1.5.0",
            "_model_name": "ProgressStyleModel",
            "_view_count": null,
            "_view_module": "@jupyter-widgets/base",
            "_view_module_version": "1.2.0",
            "_view_name": "StyleView",
            "bar_color": null,
            "description_width": "initial"
          }
        },
        "0f9f8b2849be420496787e27e9fe0829": {
          "model_module": "@jupyter-widgets/base",
          "model_name": "LayoutModel",
          "state": {
            "_model_module": "@jupyter-widgets/base",
            "_model_module_version": "1.2.0",
            "_model_name": "LayoutModel",
            "_view_count": null,
            "_view_module": "@jupyter-widgets/base",
            "_view_module_version": "1.2.0",
            "_view_name": "LayoutView",
            "align_content": null,
            "align_items": null,
            "align_self": null,
            "border": null,
            "bottom": null,
            "display": null,
            "flex": null,
            "flex_flow": null,
            "grid_area": null,
            "grid_auto_columns": null,
            "grid_auto_flow": null,
            "grid_auto_rows": null,
            "grid_column": null,
            "grid_gap": null,
            "grid_row": null,
            "grid_template_areas": null,
            "grid_template_columns": null,
            "grid_template_rows": null,
            "height": null,
            "justify_content": null,
            "justify_items": null,
            "left": null,
            "margin": null,
            "max_height": null,
            "max_width": null,
            "min_height": null,
            "min_width": null,
            "object_fit": null,
            "object_position": null,
            "order": null,
            "overflow": null,
            "overflow_x": null,
            "overflow_y": null,
            "padding": null,
            "right": null,
            "top": null,
            "visibility": null,
            "width": null
          }
        },
        "3dcab9708e9543399b01fa5cfd9a45d0": {
          "model_module": "@jupyter-widgets/controls",
          "model_name": "DescriptionStyleModel",
          "state": {
            "_model_module": "@jupyter-widgets/controls",
            "_model_module_version": "1.5.0",
            "_model_name": "DescriptionStyleModel",
            "_view_count": null,
            "_view_module": "@jupyter-widgets/base",
            "_view_module_version": "1.2.0",
            "_view_name": "StyleView",
            "description_width": ""
          }
        },
        "dcf5943027734e97b426028c9570d75f": {
          "model_module": "@jupyter-widgets/base",
          "model_name": "LayoutModel",
          "state": {
            "_model_module": "@jupyter-widgets/base",
            "_model_module_version": "1.2.0",
            "_model_name": "LayoutModel",
            "_view_count": null,
            "_view_module": "@jupyter-widgets/base",
            "_view_module_version": "1.2.0",
            "_view_name": "LayoutView",
            "align_content": null,
            "align_items": null,
            "align_self": null,
            "border": null,
            "bottom": null,
            "display": null,
            "flex": null,
            "flex_flow": null,
            "grid_area": null,
            "grid_auto_columns": null,
            "grid_auto_flow": null,
            "grid_auto_rows": null,
            "grid_column": null,
            "grid_gap": null,
            "grid_row": null,
            "grid_template_areas": null,
            "grid_template_columns": null,
            "grid_template_rows": null,
            "height": null,
            "justify_content": null,
            "justify_items": null,
            "left": null,
            "margin": null,
            "max_height": null,
            "max_width": null,
            "min_height": null,
            "min_width": null,
            "object_fit": null,
            "object_position": null,
            "order": null,
            "overflow": null,
            "overflow_x": null,
            "overflow_y": null,
            "padding": null,
            "right": null,
            "top": null,
            "visibility": null,
            "width": null
          }
        },
        "2513490d6a064ecc9343e06c3491dad5": {
          "model_module": "@jupyter-widgets/controls",
          "model_name": "HBoxModel",
          "state": {
            "_dom_classes": [],
            "_model_module": "@jupyter-widgets/controls",
            "_model_module_version": "1.5.0",
            "_model_name": "HBoxModel",
            "_view_count": null,
            "_view_module": "@jupyter-widgets/controls",
            "_view_module_version": "1.5.0",
            "_view_name": "HBoxView",
            "box_style": "",
            "children": [
              "IPY_MODEL_27a1447394184f61b339a15317e64189",
              "IPY_MODEL_a55a2a479f354750a94d93828809ab5c"
            ],
            "layout": "IPY_MODEL_054062031b354d60a736f2b0be8ab01c"
          }
        },
        "054062031b354d60a736f2b0be8ab01c": {
          "model_module": "@jupyter-widgets/base",
          "model_name": "LayoutModel",
          "state": {
            "_model_module": "@jupyter-widgets/base",
            "_model_module_version": "1.2.0",
            "_model_name": "LayoutModel",
            "_view_count": null,
            "_view_module": "@jupyter-widgets/base",
            "_view_module_version": "1.2.0",
            "_view_name": "LayoutView",
            "align_content": null,
            "align_items": null,
            "align_self": null,
            "border": null,
            "bottom": null,
            "display": null,
            "flex": null,
            "flex_flow": null,
            "grid_area": null,
            "grid_auto_columns": null,
            "grid_auto_flow": null,
            "grid_auto_rows": null,
            "grid_column": null,
            "grid_gap": null,
            "grid_row": null,
            "grid_template_areas": null,
            "grid_template_columns": null,
            "grid_template_rows": null,
            "height": null,
            "justify_content": null,
            "justify_items": null,
            "left": null,
            "margin": null,
            "max_height": null,
            "max_width": null,
            "min_height": null,
            "min_width": null,
            "object_fit": null,
            "object_position": null,
            "order": null,
            "overflow": null,
            "overflow_x": null,
            "overflow_y": null,
            "padding": null,
            "right": null,
            "top": null,
            "visibility": null,
            "width": null
          }
        },
        "27a1447394184f61b339a15317e64189": {
          "model_module": "@jupyter-widgets/controls",
          "model_name": "FloatProgressModel",
          "state": {
            "_dom_classes": [],
            "_model_module": "@jupyter-widgets/controls",
            "_model_module_version": "1.5.0",
            "_model_name": "FloatProgressModel",
            "_view_count": null,
            "_view_module": "@jupyter-widgets/controls",
            "_view_module_version": "1.5.0",
            "_view_name": "ProgressView",
            "bar_style": "success",
            "description": "Downloading: 100%",
            "description_tooltip": null,
            "layout": "IPY_MODEL_f62802b443f64ceda2034dffc885e0a2",
            "max": 721,
            "min": 0,
            "orientation": "horizontal",
            "style": "IPY_MODEL_b654ab3477ee449ebebc29b0e78ad51d",
            "value": 721
          }
        },
        "a55a2a479f354750a94d93828809ab5c": {
          "model_module": "@jupyter-widgets/controls",
          "model_name": "HTMLModel",
          "state": {
            "_dom_classes": [],
            "_model_module": "@jupyter-widgets/controls",
            "_model_module_version": "1.5.0",
            "_model_name": "HTMLModel",
            "_view_count": null,
            "_view_module": "@jupyter-widgets/controls",
            "_view_module_version": "1.5.0",
            "_view_name": "HTMLView",
            "description": "",
            "description_tooltip": null,
            "layout": "IPY_MODEL_b031d54d6a304cb4b98e0b884c16d63b",
            "placeholder": "​",
            "style": "IPY_MODEL_4664015586fe472eb1044d353ad16b77",
            "value": " 721/721 [00:07&lt;00:00, 99.9B/s]"
          }
        },
        "b654ab3477ee449ebebc29b0e78ad51d": {
          "model_module": "@jupyter-widgets/controls",
          "model_name": "ProgressStyleModel",
          "state": {
            "_model_module": "@jupyter-widgets/controls",
            "_model_module_version": "1.5.0",
            "_model_name": "ProgressStyleModel",
            "_view_count": null,
            "_view_module": "@jupyter-widgets/base",
            "_view_module_version": "1.2.0",
            "_view_name": "StyleView",
            "bar_color": null,
            "description_width": "initial"
          }
        },
        "f62802b443f64ceda2034dffc885e0a2": {
          "model_module": "@jupyter-widgets/base",
          "model_name": "LayoutModel",
          "state": {
            "_model_module": "@jupyter-widgets/base",
            "_model_module_version": "1.2.0",
            "_model_name": "LayoutModel",
            "_view_count": null,
            "_view_module": "@jupyter-widgets/base",
            "_view_module_version": "1.2.0",
            "_view_name": "LayoutView",
            "align_content": null,
            "align_items": null,
            "align_self": null,
            "border": null,
            "bottom": null,
            "display": null,
            "flex": null,
            "flex_flow": null,
            "grid_area": null,
            "grid_auto_columns": null,
            "grid_auto_flow": null,
            "grid_auto_rows": null,
            "grid_column": null,
            "grid_gap": null,
            "grid_row": null,
            "grid_template_areas": null,
            "grid_template_columns": null,
            "grid_template_rows": null,
            "height": null,
            "justify_content": null,
            "justify_items": null,
            "left": null,
            "margin": null,
            "max_height": null,
            "max_width": null,
            "min_height": null,
            "min_width": null,
            "object_fit": null,
            "object_position": null,
            "order": null,
            "overflow": null,
            "overflow_x": null,
            "overflow_y": null,
            "padding": null,
            "right": null,
            "top": null,
            "visibility": null,
            "width": null
          }
        },
        "4664015586fe472eb1044d353ad16b77": {
          "model_module": "@jupyter-widgets/controls",
          "model_name": "DescriptionStyleModel",
          "state": {
            "_model_module": "@jupyter-widgets/controls",
            "_model_module_version": "1.5.0",
            "_model_name": "DescriptionStyleModel",
            "_view_count": null,
            "_view_module": "@jupyter-widgets/base",
            "_view_module_version": "1.2.0",
            "_view_name": "StyleView",
            "description_width": ""
          }
        },
        "b031d54d6a304cb4b98e0b884c16d63b": {
          "model_module": "@jupyter-widgets/base",
          "model_name": "LayoutModel",
          "state": {
            "_model_module": "@jupyter-widgets/base",
            "_model_module_version": "1.2.0",
            "_model_name": "LayoutModel",
            "_view_count": null,
            "_view_module": "@jupyter-widgets/base",
            "_view_module_version": "1.2.0",
            "_view_name": "LayoutView",
            "align_content": null,
            "align_items": null,
            "align_self": null,
            "border": null,
            "bottom": null,
            "display": null,
            "flex": null,
            "flex_flow": null,
            "grid_area": null,
            "grid_auto_columns": null,
            "grid_auto_flow": null,
            "grid_auto_rows": null,
            "grid_column": null,
            "grid_gap": null,
            "grid_row": null,
            "grid_template_areas": null,
            "grid_template_columns": null,
            "grid_template_rows": null,
            "height": null,
            "justify_content": null,
            "justify_items": null,
            "left": null,
            "margin": null,
            "max_height": null,
            "max_width": null,
            "min_height": null,
            "min_width": null,
            "object_fit": null,
            "object_position": null,
            "order": null,
            "overflow": null,
            "overflow_x": null,
            "overflow_y": null,
            "padding": null,
            "right": null,
            "top": null,
            "visibility": null,
            "width": null
          }
        },
        "570ba1a11e7a4b2a9c98f85e7f20cc86": {
          "model_module": "@jupyter-widgets/controls",
          "model_name": "HBoxModel",
          "state": {
            "_dom_classes": [],
            "_model_module": "@jupyter-widgets/controls",
            "_model_module_version": "1.5.0",
            "_model_name": "HBoxModel",
            "_view_count": null,
            "_view_module": "@jupyter-widgets/controls",
            "_view_module_version": "1.5.0",
            "_view_name": "HBoxView",
            "box_style": "",
            "children": [
              "IPY_MODEL_48ea796371e149de9f5fd0a9f01b00b0",
              "IPY_MODEL_4e6970a4422f492eb2979f6c1a3ff228"
            ],
            "layout": "IPY_MODEL_9b81fc09eff64b1bb0461666672f5d7b"
          }
        },
        "9b81fc09eff64b1bb0461666672f5d7b": {
          "model_module": "@jupyter-widgets/base",
          "model_name": "LayoutModel",
          "state": {
            "_model_module": "@jupyter-widgets/base",
            "_model_module_version": "1.2.0",
            "_model_name": "LayoutModel",
            "_view_count": null,
            "_view_module": "@jupyter-widgets/base",
            "_view_module_version": "1.2.0",
            "_view_name": "LayoutView",
            "align_content": null,
            "align_items": null,
            "align_self": null,
            "border": null,
            "bottom": null,
            "display": null,
            "flex": null,
            "flex_flow": null,
            "grid_area": null,
            "grid_auto_columns": null,
            "grid_auto_flow": null,
            "grid_auto_rows": null,
            "grid_column": null,
            "grid_gap": null,
            "grid_row": null,
            "grid_template_areas": null,
            "grid_template_columns": null,
            "grid_template_rows": null,
            "height": null,
            "justify_content": null,
            "justify_items": null,
            "left": null,
            "margin": null,
            "max_height": null,
            "max_width": null,
            "min_height": null,
            "min_width": null,
            "object_fit": null,
            "object_position": null,
            "order": null,
            "overflow": null,
            "overflow_x": null,
            "overflow_y": null,
            "padding": null,
            "right": null,
            "top": null,
            "visibility": null,
            "width": null
          }
        },
        "48ea796371e149de9f5fd0a9f01b00b0": {
          "model_module": "@jupyter-widgets/controls",
          "model_name": "FloatProgressModel",
          "state": {
            "_dom_classes": [],
            "_model_module": "@jupyter-widgets/controls",
            "_model_module_version": "1.5.0",
            "_model_name": "FloatProgressModel",
            "_view_count": null,
            "_view_module": "@jupyter-widgets/controls",
            "_view_module_version": "1.5.0",
            "_view_name": "ProgressView",
            "bar_style": "success",
            "description": "Downloading: 100%",
            "description_tooltip": null,
            "layout": "IPY_MODEL_0d0d7a48bc2d49ce938a708743656d0e",
            "max": 5069051,
            "min": 0,
            "orientation": "horizontal",
            "style": "IPY_MODEL_89859e3c632845b3ba12e49972110d3c",
            "value": 5069051
          }
        },
        "4e6970a4422f492eb2979f6c1a3ff228": {
          "model_module": "@jupyter-widgets/controls",
          "model_name": "HTMLModel",
          "state": {
            "_dom_classes": [],
            "_model_module": "@jupyter-widgets/controls",
            "_model_module_version": "1.5.0",
            "_model_name": "HTMLModel",
            "_view_count": null,
            "_view_module": "@jupyter-widgets/controls",
            "_view_module_version": "1.5.0",
            "_view_name": "HTMLView",
            "description": "",
            "description_tooltip": null,
            "layout": "IPY_MODEL_b05b1207a7cd42c0be6428c69841bf4e",
            "placeholder": "​",
            "style": "IPY_MODEL_3591d195c8e3405a9e61dae15e07d3cb",
            "value": " 5.07M/5.07M [00:04&lt;00:00, 1.04MB/s]"
          }
        },
        "89859e3c632845b3ba12e49972110d3c": {
          "model_module": "@jupyter-widgets/controls",
          "model_name": "ProgressStyleModel",
          "state": {
            "_model_module": "@jupyter-widgets/controls",
            "_model_module_version": "1.5.0",
            "_model_name": "ProgressStyleModel",
            "_view_count": null,
            "_view_module": "@jupyter-widgets/base",
            "_view_module_version": "1.2.0",
            "_view_name": "StyleView",
            "bar_color": null,
            "description_width": "initial"
          }
        },
        "0d0d7a48bc2d49ce938a708743656d0e": {
          "model_module": "@jupyter-widgets/base",
          "model_name": "LayoutModel",
          "state": {
            "_model_module": "@jupyter-widgets/base",
            "_model_module_version": "1.2.0",
            "_model_name": "LayoutModel",
            "_view_count": null,
            "_view_module": "@jupyter-widgets/base",
            "_view_module_version": "1.2.0",
            "_view_name": "LayoutView",
            "align_content": null,
            "align_items": null,
            "align_self": null,
            "border": null,
            "bottom": null,
            "display": null,
            "flex": null,
            "flex_flow": null,
            "grid_area": null,
            "grid_auto_columns": null,
            "grid_auto_flow": null,
            "grid_auto_rows": null,
            "grid_column": null,
            "grid_gap": null,
            "grid_row": null,
            "grid_template_areas": null,
            "grid_template_columns": null,
            "grid_template_rows": null,
            "height": null,
            "justify_content": null,
            "justify_items": null,
            "left": null,
            "margin": null,
            "max_height": null,
            "max_width": null,
            "min_height": null,
            "min_width": null,
            "object_fit": null,
            "object_position": null,
            "order": null,
            "overflow": null,
            "overflow_x": null,
            "overflow_y": null,
            "padding": null,
            "right": null,
            "top": null,
            "visibility": null,
            "width": null
          }
        },
        "3591d195c8e3405a9e61dae15e07d3cb": {
          "model_module": "@jupyter-widgets/controls",
          "model_name": "DescriptionStyleModel",
          "state": {
            "_model_module": "@jupyter-widgets/controls",
            "_model_module_version": "1.5.0",
            "_model_name": "DescriptionStyleModel",
            "_view_count": null,
            "_view_module": "@jupyter-widgets/base",
            "_view_module_version": "1.2.0",
            "_view_name": "StyleView",
            "description_width": ""
          }
        },
        "b05b1207a7cd42c0be6428c69841bf4e": {
          "model_module": "@jupyter-widgets/base",
          "model_name": "LayoutModel",
          "state": {
            "_model_module": "@jupyter-widgets/base",
            "_model_module_version": "1.2.0",
            "_model_name": "LayoutModel",
            "_view_count": null,
            "_view_module": "@jupyter-widgets/base",
            "_view_module_version": "1.2.0",
            "_view_name": "LayoutView",
            "align_content": null,
            "align_items": null,
            "align_self": null,
            "border": null,
            "bottom": null,
            "display": null,
            "flex": null,
            "flex_flow": null,
            "grid_area": null,
            "grid_auto_columns": null,
            "grid_auto_flow": null,
            "grid_auto_rows": null,
            "grid_column": null,
            "grid_gap": null,
            "grid_row": null,
            "grid_template_areas": null,
            "grid_template_columns": null,
            "grid_template_rows": null,
            "height": null,
            "justify_content": null,
            "justify_items": null,
            "left": null,
            "margin": null,
            "max_height": null,
            "max_width": null,
            "min_height": null,
            "min_width": null,
            "object_fit": null,
            "object_position": null,
            "order": null,
            "overflow": null,
            "overflow_x": null,
            "overflow_y": null,
            "padding": null,
            "right": null,
            "top": null,
            "visibility": null,
            "width": null
          }
        },
        "08a48847458146fa96f860a02c95808e": {
          "model_module": "@jupyter-widgets/controls",
          "model_name": "HBoxModel",
          "state": {
            "_dom_classes": [],
            "_model_module": "@jupyter-widgets/controls",
            "_model_module_version": "1.5.0",
            "_model_name": "HBoxModel",
            "_view_count": null,
            "_view_module": "@jupyter-widgets/controls",
            "_view_module_version": "1.5.0",
            "_view_name": "HBoxView",
            "box_style": "",
            "children": [
              "IPY_MODEL_737f128df95c412191e5402cbbed42c0",
              "IPY_MODEL_20629f76a8b44f5a988bd42ae4fb3c5d"
            ],
            "layout": "IPY_MODEL_8df8ca7ee58443808f06416dd36c00bc"
          }
        },
        "8df8ca7ee58443808f06416dd36c00bc": {
          "model_module": "@jupyter-widgets/base",
          "model_name": "LayoutModel",
          "state": {
            "_model_module": "@jupyter-widgets/base",
            "_model_module_version": "1.2.0",
            "_model_name": "LayoutModel",
            "_view_count": null,
            "_view_module": "@jupyter-widgets/base",
            "_view_module_version": "1.2.0",
            "_view_name": "LayoutView",
            "align_content": null,
            "align_items": null,
            "align_self": null,
            "border": null,
            "bottom": null,
            "display": null,
            "flex": null,
            "flex_flow": null,
            "grid_area": null,
            "grid_auto_columns": null,
            "grid_auto_flow": null,
            "grid_auto_rows": null,
            "grid_column": null,
            "grid_gap": null,
            "grid_row": null,
            "grid_template_areas": null,
            "grid_template_columns": null,
            "grid_template_rows": null,
            "height": null,
            "justify_content": null,
            "justify_items": null,
            "left": null,
            "margin": null,
            "max_height": null,
            "max_width": null,
            "min_height": null,
            "min_width": null,
            "object_fit": null,
            "object_position": null,
            "order": null,
            "overflow": null,
            "overflow_x": null,
            "overflow_y": null,
            "padding": null,
            "right": null,
            "top": null,
            "visibility": null,
            "width": null
          }
        },
        "737f128df95c412191e5402cbbed42c0": {
          "model_module": "@jupyter-widgets/controls",
          "model_name": "FloatProgressModel",
          "state": {
            "_dom_classes": [],
            "_model_module": "@jupyter-widgets/controls",
            "_model_module_version": "1.5.0",
            "_model_name": "FloatProgressModel",
            "_view_count": null,
            "_view_module": "@jupyter-widgets/controls",
            "_view_module_version": "1.5.0",
            "_view_name": "ProgressView",
            "bar_style": "success",
            "description": "Downloading: 100%",
            "description_tooltip": null,
            "layout": "IPY_MODEL_338bce132b22478484745703ac17d1ad",
            "max": 150,
            "min": 0,
            "orientation": "horizontal",
            "style": "IPY_MODEL_ca174dffa27d40cd9fedf2f375330fd2",
            "value": 150
          }
        },
        "20629f76a8b44f5a988bd42ae4fb3c5d": {
          "model_module": "@jupyter-widgets/controls",
          "model_name": "HTMLModel",
          "state": {
            "_dom_classes": [],
            "_model_module": "@jupyter-widgets/controls",
            "_model_module_version": "1.5.0",
            "_model_name": "HTMLModel",
            "_view_count": null,
            "_view_module": "@jupyter-widgets/controls",
            "_view_module_version": "1.5.0",
            "_view_name": "HTMLView",
            "description": "",
            "description_tooltip": null,
            "layout": "IPY_MODEL_0a1721d8d2504d2089371912103cf0ce",
            "placeholder": "​",
            "style": "IPY_MODEL_d30be2cc774a4000aab7ffcf3e238043",
            "value": " 150/150 [00:01&lt;00:00, 99.8B/s]"
          }
        },
        "ca174dffa27d40cd9fedf2f375330fd2": {
          "model_module": "@jupyter-widgets/controls",
          "model_name": "ProgressStyleModel",
          "state": {
            "_model_module": "@jupyter-widgets/controls",
            "_model_module_version": "1.5.0",
            "_model_name": "ProgressStyleModel",
            "_view_count": null,
            "_view_module": "@jupyter-widgets/base",
            "_view_module_version": "1.2.0",
            "_view_name": "StyleView",
            "bar_color": null,
            "description_width": "initial"
          }
        },
        "338bce132b22478484745703ac17d1ad": {
          "model_module": "@jupyter-widgets/base",
          "model_name": "LayoutModel",
          "state": {
            "_model_module": "@jupyter-widgets/base",
            "_model_module_version": "1.2.0",
            "_model_name": "LayoutModel",
            "_view_count": null,
            "_view_module": "@jupyter-widgets/base",
            "_view_module_version": "1.2.0",
            "_view_name": "LayoutView",
            "align_content": null,
            "align_items": null,
            "align_self": null,
            "border": null,
            "bottom": null,
            "display": null,
            "flex": null,
            "flex_flow": null,
            "grid_area": null,
            "grid_auto_columns": null,
            "grid_auto_flow": null,
            "grid_auto_rows": null,
            "grid_column": null,
            "grid_gap": null,
            "grid_row": null,
            "grid_template_areas": null,
            "grid_template_columns": null,
            "grid_template_rows": null,
            "height": null,
            "justify_content": null,
            "justify_items": null,
            "left": null,
            "margin": null,
            "max_height": null,
            "max_width": null,
            "min_height": null,
            "min_width": null,
            "object_fit": null,
            "object_position": null,
            "order": null,
            "overflow": null,
            "overflow_x": null,
            "overflow_y": null,
            "padding": null,
            "right": null,
            "top": null,
            "visibility": null,
            "width": null
          }
        },
        "d30be2cc774a4000aab7ffcf3e238043": {
          "model_module": "@jupyter-widgets/controls",
          "model_name": "DescriptionStyleModel",
          "state": {
            "_model_module": "@jupyter-widgets/controls",
            "_model_module_version": "1.5.0",
            "_model_name": "DescriptionStyleModel",
            "_view_count": null,
            "_view_module": "@jupyter-widgets/base",
            "_view_module_version": "1.2.0",
            "_view_name": "StyleView",
            "description_width": ""
          }
        },
        "0a1721d8d2504d2089371912103cf0ce": {
          "model_module": "@jupyter-widgets/base",
          "model_name": "LayoutModel",
          "state": {
            "_model_module": "@jupyter-widgets/base",
            "_model_module_version": "1.2.0",
            "_model_name": "LayoutModel",
            "_view_count": null,
            "_view_module": "@jupyter-widgets/base",
            "_view_module_version": "1.2.0",
            "_view_name": "LayoutView",
            "align_content": null,
            "align_items": null,
            "align_self": null,
            "border": null,
            "bottom": null,
            "display": null,
            "flex": null,
            "flex_flow": null,
            "grid_area": null,
            "grid_auto_columns": null,
            "grid_auto_flow": null,
            "grid_auto_rows": null,
            "grid_column": null,
            "grid_gap": null,
            "grid_row": null,
            "grid_template_areas": null,
            "grid_template_columns": null,
            "grid_template_rows": null,
            "height": null,
            "justify_content": null,
            "justify_items": null,
            "left": null,
            "margin": null,
            "max_height": null,
            "max_width": null,
            "min_height": null,
            "min_width": null,
            "object_fit": null,
            "object_position": null,
            "order": null,
            "overflow": null,
            "overflow_x": null,
            "overflow_y": null,
            "padding": null,
            "right": null,
            "top": null,
            "visibility": null,
            "width": null
          }
        },
        "2cffb0a952c54b8baf4f14df678311a2": {
          "model_module": "@jupyter-widgets/controls",
          "model_name": "HBoxModel",
          "state": {
            "_dom_classes": [],
            "_model_module": "@jupyter-widgets/controls",
            "_model_module_version": "1.5.0",
            "_model_name": "HBoxModel",
            "_view_count": null,
            "_view_module": "@jupyter-widgets/controls",
            "_view_module_version": "1.5.0",
            "_view_name": "HBoxView",
            "box_style": "",
            "children": [
              "IPY_MODEL_f9147ce7232a498da7f8a8deae3e8e66",
              "IPY_MODEL_c30a07f12a424df4a980fdc7342b8b3f"
            ],
            "layout": "IPY_MODEL_005fc16487a24dcc8663a9df8bd6c18b"
          }
        },
        "005fc16487a24dcc8663a9df8bd6c18b": {
          "model_module": "@jupyter-widgets/base",
          "model_name": "LayoutModel",
          "state": {
            "_model_module": "@jupyter-widgets/base",
            "_model_module_version": "1.2.0",
            "_model_name": "LayoutModel",
            "_view_count": null,
            "_view_module": "@jupyter-widgets/base",
            "_view_module_version": "1.2.0",
            "_view_name": "LayoutView",
            "align_content": null,
            "align_items": null,
            "align_self": null,
            "border": null,
            "bottom": null,
            "display": null,
            "flex": null,
            "flex_flow": null,
            "grid_area": null,
            "grid_auto_columns": null,
            "grid_auto_flow": null,
            "grid_auto_rows": null,
            "grid_column": null,
            "grid_gap": null,
            "grid_row": null,
            "grid_template_areas": null,
            "grid_template_columns": null,
            "grid_template_rows": null,
            "height": null,
            "justify_content": null,
            "justify_items": null,
            "left": null,
            "margin": null,
            "max_height": null,
            "max_width": null,
            "min_height": null,
            "min_width": null,
            "object_fit": null,
            "object_position": null,
            "order": null,
            "overflow": null,
            "overflow_x": null,
            "overflow_y": null,
            "padding": null,
            "right": null,
            "top": null,
            "visibility": null,
            "width": null
          }
        },
        "f9147ce7232a498da7f8a8deae3e8e66": {
          "model_module": "@jupyter-widgets/controls",
          "model_name": "FloatProgressModel",
          "state": {
            "_dom_classes": [],
            "_model_module": "@jupyter-widgets/controls",
            "_model_module_version": "1.5.0",
            "_model_name": "FloatProgressModel",
            "_view_count": null,
            "_view_module": "@jupyter-widgets/controls",
            "_view_module_version": "1.5.0",
            "_view_name": "ProgressView",
            "bar_style": "success",
            "description": "Downloading: 100%",
            "description_tooltip": null,
            "layout": "IPY_MODEL_382dc05c8e0e454fb519ae864c676027",
            "max": 2243934574,
            "min": 0,
            "orientation": "horizontal",
            "style": "IPY_MODEL_1048c8a356554da196e552f54e64808f",
            "value": 2243934574
          }
        },
        "c30a07f12a424df4a980fdc7342b8b3f": {
          "model_module": "@jupyter-widgets/controls",
          "model_name": "HTMLModel",
          "state": {
            "_dom_classes": [],
            "_model_module": "@jupyter-widgets/controls",
            "_model_module_version": "1.5.0",
            "_model_name": "HTMLModel",
            "_view_count": null,
            "_view_module": "@jupyter-widgets/controls",
            "_view_module_version": "1.5.0",
            "_view_name": "HTMLView",
            "description": "",
            "description_tooltip": null,
            "layout": "IPY_MODEL_27e632822c7747af9478d12083d1572e",
            "placeholder": "​",
            "style": "IPY_MODEL_67973b9d2bd344d6985cd5125e4e3024",
            "value": " 2.24G/2.24G [00:53&lt;00:00, 41.6MB/s]"
          }
        },
        "1048c8a356554da196e552f54e64808f": {
          "model_module": "@jupyter-widgets/controls",
          "model_name": "ProgressStyleModel",
          "state": {
            "_model_module": "@jupyter-widgets/controls",
            "_model_module_version": "1.5.0",
            "_model_name": "ProgressStyleModel",
            "_view_count": null,
            "_view_module": "@jupyter-widgets/base",
            "_view_module_version": "1.2.0",
            "_view_name": "StyleView",
            "bar_color": null,
            "description_width": "initial"
          }
        },
        "382dc05c8e0e454fb519ae864c676027": {
          "model_module": "@jupyter-widgets/base",
          "model_name": "LayoutModel",
          "state": {
            "_model_module": "@jupyter-widgets/base",
            "_model_module_version": "1.2.0",
            "_model_name": "LayoutModel",
            "_view_count": null,
            "_view_module": "@jupyter-widgets/base",
            "_view_module_version": "1.2.0",
            "_view_name": "LayoutView",
            "align_content": null,
            "align_items": null,
            "align_self": null,
            "border": null,
            "bottom": null,
            "display": null,
            "flex": null,
            "flex_flow": null,
            "grid_area": null,
            "grid_auto_columns": null,
            "grid_auto_flow": null,
            "grid_auto_rows": null,
            "grid_column": null,
            "grid_gap": null,
            "grid_row": null,
            "grid_template_areas": null,
            "grid_template_columns": null,
            "grid_template_rows": null,
            "height": null,
            "justify_content": null,
            "justify_items": null,
            "left": null,
            "margin": null,
            "max_height": null,
            "max_width": null,
            "min_height": null,
            "min_width": null,
            "object_fit": null,
            "object_position": null,
            "order": null,
            "overflow": null,
            "overflow_x": null,
            "overflow_y": null,
            "padding": null,
            "right": null,
            "top": null,
            "visibility": null,
            "width": null
          }
        },
        "67973b9d2bd344d6985cd5125e4e3024": {
          "model_module": "@jupyter-widgets/controls",
          "model_name": "DescriptionStyleModel",
          "state": {
            "_model_module": "@jupyter-widgets/controls",
            "_model_module_version": "1.5.0",
            "_model_name": "DescriptionStyleModel",
            "_view_count": null,
            "_view_module": "@jupyter-widgets/base",
            "_view_module_version": "1.2.0",
            "_view_name": "StyleView",
            "description_width": ""
          }
        },
        "27e632822c7747af9478d12083d1572e": {
          "model_module": "@jupyter-widgets/base",
          "model_name": "LayoutModel",
          "state": {
            "_model_module": "@jupyter-widgets/base",
            "_model_module_version": "1.2.0",
            "_model_name": "LayoutModel",
            "_view_count": null,
            "_view_module": "@jupyter-widgets/base",
            "_view_module_version": "1.2.0",
            "_view_name": "LayoutView",
            "align_content": null,
            "align_items": null,
            "align_self": null,
            "border": null,
            "bottom": null,
            "display": null,
            "flex": null,
            "flex_flow": null,
            "grid_area": null,
            "grid_auto_columns": null,
            "grid_auto_flow": null,
            "grid_auto_rows": null,
            "grid_column": null,
            "grid_gap": null,
            "grid_row": null,
            "grid_template_areas": null,
            "grid_template_columns": null,
            "grid_template_rows": null,
            "height": null,
            "justify_content": null,
            "justify_items": null,
            "left": null,
            "margin": null,
            "max_height": null,
            "max_width": null,
            "min_height": null,
            "min_width": null,
            "object_fit": null,
            "object_position": null,
            "order": null,
            "overflow": null,
            "overflow_x": null,
            "overflow_y": null,
            "padding": null,
            "right": null,
            "top": null,
            "visibility": null,
            "width": null
          }
        }
      }
    }
  },
  "cells": [
    {
      "cell_type": "markdown",
      "metadata": {
        "id": "view-in-github",
        "colab_type": "text"
      },
      "source": [
        "<a href=\"https://colab.research.google.com/github/haeggee/error-detection-mt/blob/main/error_detection_in_mt.ipynb\" target=\"_parent\"><img src=\"https://colab.research.google.com/assets/colab-badge.svg\" alt=\"Open In Colab\"/></a>"
      ]
    },
    {
      "cell_type": "markdown",
      "metadata": {
        "id": "SZIHhCYNhN-H"
      },
      "source": [
        "# *Critical Error Detection in Machine Translation with BERT, XLM-RoBERTa and HuggingFace*\n",
        "### Introduction \n",
        "\n",
        "In this notebook, we tackle the problem of critical-error detection in machine translation. To that end, we show how to fine-tune different transformer based language models, including BERT and the multilingual XLM-RoBERTa model, and facilitate extensive evaluation. This PyTorch implementation leverages the Hugging face *transformers* to download pre-trained models, enable quick research experiments, access datasets and evaluation metrics.\n",
        "\n",
        "This task is part of the WMT'21 [shared task on quality estimation](http://www.statmt.org/wmt21/quality-estimation-task.html).\n",
        "\n",
        "---\n",
        "### Task and Dataset\n",
        "The goal of this task is to predict sentence-level binary scores indicating whether or not a translation contains (at least one) critical error. Translations with such errors are defined as translations that deviate in meaning as compared to the source sentence in such a way that they are misleading and may carry health, safety, legal, reputation, religious or financial implications. \n",
        "\n",
        "The data consists of Wikipedia comments in English extracted from two sources: the Jigsaw Toxic Comment Classification Challenge and the Wikipedia Comments Corpus, with translations generated by the ML50 multilingual translation model by FAIR. It contains instances in the following languages:\n",
        "\n",
        "* English-Czech\n",
        "* English-Japanese\n",
        "* English-Chinese\n",
        "* English-German\n",
        "\n",
        "The dataset used in this notebook has been prepared by ourselves for the purpose of this task, and should be uploaded to the ```datasets``` directory as provided by the ```wmt21_multi_btr_{train,dev}.pkl``` in our [GitHub repository](https://github.com/haeggee/error-detection-mt).  \n",
        "\n",
        "---\n",
        "\n",
        "The main features of this notebook are: \n",
        "- End-to-end ML implementation (training, validation, prediction, evaluation)\n",
        "- Easy adaptability\n",
        "- Facilitation of quick experiments and extensions\n",
        "- Quick training with limited computational resources (mixed-precision, gradient accumulation, ...)\n",
        "- Threshold choice for the classification decision (not necessarily 0.5)\n",
        "- Reproducible results with seed settings\n",
        "\n",
        "Parts of this code have been taken and adapted from [NadirEM](https://github.com/NadirEM/nlp-notebooks/blob/master/Fine_tune_ALBERT_sentence_pair_classification.ipynb) and we thank the author for providing such a nice template. "
      ]
    },
    {
      "cell_type": "markdown",
      "metadata": {
        "id": "YIv7rF4V6lyE"
      },
      "source": [
        "## Installation of libraries and imports"
      ]
    },
    {
      "cell_type": "code",
      "metadata": {
        "id": "42-lJ1u9IHT6",
        "colab": {
          "base_uri": "https://localhost:8080/"
        },
        "outputId": "c9372824-233a-4762-fe17-84dd1ea43237"
      },
      "source": [
        "!pip install transformers==4.8.2 -q\n",
        "!pip install sentencepiece -q\n",
        "!pip install pickle5 -q"
      ],
      "execution_count": null,
      "outputs": [
        {
          "output_type": "stream",
          "text": [
            "\u001b[K     |████████████████████████████████| 2.5 MB 15.7 MB/s \n",
            "\u001b[K     |████████████████████████████████| 895 kB 64.6 MB/s \n",
            "\u001b[K     |████████████████████████████████| 3.3 MB 62.5 MB/s \n",
            "\u001b[K     |████████████████████████████████| 1.2 MB 12.6 MB/s \n",
            "\u001b[K     |████████████████████████████████| 132 kB 12.0 MB/s \n",
            "\u001b[?25h  Building wheel for pickle5 (setup.py) ... \u001b[?25l\u001b[?25hdone\n"
          ],
          "name": "stdout"
        }
      ]
    },
    {
      "cell_type": "code",
      "metadata": {
        "id": "KE_TpNaSZQ5n"
      },
      "source": [
        "import torch\n",
        "import torch.nn as nn\n",
        "import os\n",
        "import matplotlib.pyplot as plt\n",
        "import copy\n",
        "import torch.optim as optim\n",
        "import random\n",
        "import numpy as np\n",
        "import pandas as pd\n",
        "import pickle5 as pickle\n",
        "from torch.utils.data import DataLoader, Dataset\n",
        "from torch.cuda.amp import autocast, GradScaler\n",
        "from tqdm import tqdm\n",
        "from transformers import AutoTokenizer, AutoModel, AdamW, \\\n",
        "                         get_linear_schedule_with_warmup\n",
        "from sklearn.model_selection import train_test_split\n",
        "from sklearn.metrics import accuracy_score, balanced_accuracy_score, \\\n",
        "                            f1_score, precision_score, recall_score, \\\n",
        "                            confusion_matrix, matthews_corrcoef, \\\n",
        "                            precision_recall_curve\n",
        "import gc # garbage collector\n",
        "os.environ[\"TOKENIZERS_PARALLELISM\"] = \"false\""
      ],
      "execution_count": null,
      "outputs": []
    },
    {
      "cell_type": "code",
      "metadata": {
        "colab": {
          "base_uri": "https://localhost:8080/"
        },
        "id": "aF8IWdEowPP-",
        "outputId": "a9353549-1a62-43f1-fb2d-cdd93a32a6de"
      },
      "source": [
        "# Check that we are using 100% of GPU memory footprint support libraries/code\n",
        "# from https://github.com/patrickvonplaten/notebooks/blob/master/PyTorch_Reformer.ipynb\n",
        "!ln -sf /opt/bin/nvidia-smi /usr/bin/nvidia-smi\n",
        "!pip -q install gputil\n",
        "!pip -q install psutil\n",
        "!pip -q install humanize\n",
        "import psutil\n",
        "import humanize\n",
        "import os\n",
        "import GPUtil as GPU\n",
        "GPUs = GPU.getGPUs()\n",
        "# XXX: only one GPU on Colab and isn’t guaranteed\n",
        "def printm():\n",
        "  if torch.cuda.is_available():\n",
        "    gpu = GPUs[0]\n",
        "    process = psutil.Process(os.getpid())\n",
        "    print(\"Gen RAM Free: \" + \\\n",
        "          humanize.naturalsize( psutil.virtual_memory().available ),\\\n",
        "          \" | Proc size: \" + humanize.naturalsize( process.memory_info().rss))\n",
        "    print(\"GPU RAM Free: {0:.0f}MB | Used: {1:.0f}MB | Util {2:3.0f}% \\\n",
        "          Total {3:.0f}MB\".format(gpu.memoryFree, gpu.memoryUsed,\\\n",
        "                                  gpu.memoryUtil*100, gpu.memoryTotal))\n",
        "  else:\n",
        "    print(\"No GPU in use.\")\n",
        "printm()"
      ],
      "execution_count": null,
      "outputs": [
        {
          "output_type": "stream",
          "text": [
            "  Building wheel for gputil (setup.py) ... \u001b[?25l\u001b[?25hdone\n",
            "Gen RAM Free: 12.5 GB  | Proc size: 600.6 MB\n",
            "GPU RAM Free: 16280MB | Used: 0MB | Util   0%           Total 16280MB\n"
          ],
          "name": "stdout"
        }
      ]
    },
    {
      "cell_type": "code",
      "metadata": {
        "id": "gtjKu__JLaYp"
      },
      "source": [
        "device = torch.device(\"cuda:0\" if torch.cuda.is_available() else \"cpu\")"
      ],
      "execution_count": null,
      "outputs": []
    },
    {
      "cell_type": "markdown",
      "metadata": {
        "id": "yoGB7Arrwb4A"
      },
      "source": [
        "\n",
        "In case GPU utilisation (Util) is not at 0%, you can uncomment and run the following line to kill all processes to get the full GPU afterwards. Make sure to comment out the line again to not constantly crash the notebook on purpose."
      ]
    },
    {
      "cell_type": "code",
      "metadata": {
        "id": "CNdVkubWwdiD"
      },
      "source": [
        "#!kill -9 -1"
      ],
      "execution_count": null,
      "outputs": []
    },
    {
      "cell_type": "markdown",
      "metadata": {
        "id": "lpKx43Iq6znw"
      },
      "source": [
        "## Loading the dataset"
      ]
    },
    {
      "cell_type": "markdown",
      "metadata": {
        "id": "GxgSZSnszkcK"
      },
      "source": [
        "The easiest way to run the experiments on the dataset of WMT'21 is to clone our GitHub Repo [here](https://github.com/haeggee/mt-error-detection/) and inside the directory create a zip of the ```dataset/``` folder via\n",
        "\n",
        "```\n",
        "zip -q -r dataset dataset\n",
        "```\n",
        "\n",
        "Then upload the zip file to the instance of this Colab VM."
      ]
    },
    {
      "cell_type": "code",
      "metadata": {
        "id": "uyjQfhEda6HC"
      },
      "source": [
        "!unzip -qq -o dataset"
      ],
      "execution_count": null,
      "outputs": []
    },
    {
      "cell_type": "code",
      "metadata": {
        "id": "x0hfGEe2LB9s"
      },
      "source": [
        "# Load the MRPC dataset (train, validation and test)\n",
        "filename_train = \"dataset/wmt21_multi_btr_train.pkl\" \n",
        "dataset_train = pickle.load(open(filename_train,'rb'))\n",
        "filename_dev = \"dataset/wmt21_multi_btr_dev.pkl\" \n",
        "dataset_dev = pickle.load(open(filename_dev, 'rb'))"
      ],
      "execution_count": null,
      "outputs": []
    },
    {
      "cell_type": "code",
      "metadata": {
        "colab": {
          "base_uri": "https://localhost:8080/",
          "height": 297
        },
        "id": "4Vsaa4SeiV4C",
        "outputId": "84d39498-f6a8-45b2-af57-4cf1af86e0d1"
      },
      "source": [
        "max_src = 0\n",
        "avg_src = 0\n",
        "max_mt = 0\n",
        "avg_mt = 0\n",
        "len_src = []\n",
        "len_mt = []\n",
        "len_btr = []\n",
        "for src in dataset_train.src:\n",
        "  len_src.append(len(src))\n",
        "for mt in dataset_train.mt:\n",
        "  len_mt.append(len(mt))\n",
        "for btr in dataset_train.btr:\n",
        "  len_btr.append(len(btr))\n",
        "df_length = pd.DataFrame()\n",
        "df_length[\"src\"] = len_src\n",
        "df_length[\"mt\"] = len_mt\n",
        "df_length[\"btr\"] = len_btr\n",
        "df_length.describe()"
      ],
      "execution_count": null,
      "outputs": [
        {
          "output_type": "execute_result",
          "data": {
            "text/html": [
              "<div>\n",
              "<style scoped>\n",
              "    .dataframe tbody tr th:only-of-type {\n",
              "        vertical-align: middle;\n",
              "    }\n",
              "\n",
              "    .dataframe tbody tr th {\n",
              "        vertical-align: top;\n",
              "    }\n",
              "\n",
              "    .dataframe thead th {\n",
              "        text-align: right;\n",
              "    }\n",
              "</style>\n",
              "<table border=\"1\" class=\"dataframe\">\n",
              "  <thead>\n",
              "    <tr style=\"text-align: right;\">\n",
              "      <th></th>\n",
              "      <th>src</th>\n",
              "      <th>mt</th>\n",
              "      <th>btr</th>\n",
              "    </tr>\n",
              "  </thead>\n",
              "  <tbody>\n",
              "    <tr>\n",
              "      <th>count</th>\n",
              "      <td>29867.000000</td>\n",
              "      <td>29867.000000</td>\n",
              "      <td>29867.000000</td>\n",
              "    </tr>\n",
              "    <tr>\n",
              "      <th>mean</th>\n",
              "      <td>90.432986</td>\n",
              "      <td>78.861519</td>\n",
              "      <td>85.427227</td>\n",
              "    </tr>\n",
              "    <tr>\n",
              "      <th>std</th>\n",
              "      <td>28.269123</td>\n",
              "      <td>35.620897</td>\n",
              "      <td>30.758577</td>\n",
              "    </tr>\n",
              "    <tr>\n",
              "      <th>min</th>\n",
              "      <td>45.000000</td>\n",
              "      <td>12.000000</td>\n",
              "      <td>13.000000</td>\n",
              "    </tr>\n",
              "    <tr>\n",
              "      <th>25%</th>\n",
              "      <td>66.000000</td>\n",
              "      <td>52.000000</td>\n",
              "      <td>61.000000</td>\n",
              "    </tr>\n",
              "    <tr>\n",
              "      <th>50%</th>\n",
              "      <td>87.000000</td>\n",
              "      <td>72.000000</td>\n",
              "      <td>81.000000</td>\n",
              "    </tr>\n",
              "    <tr>\n",
              "      <th>75%</th>\n",
              "      <td>113.000000</td>\n",
              "      <td>102.000000</td>\n",
              "      <td>107.000000</td>\n",
              "    </tr>\n",
              "    <tr>\n",
              "      <th>max</th>\n",
              "      <td>148.000000</td>\n",
              "      <td>402.000000</td>\n",
              "      <td>984.000000</td>\n",
              "    </tr>\n",
              "  </tbody>\n",
              "</table>\n",
              "</div>"
            ],
            "text/plain": [
              "                src            mt           btr\n",
              "count  29867.000000  29867.000000  29867.000000\n",
              "mean      90.432986     78.861519     85.427227\n",
              "std       28.269123     35.620897     30.758577\n",
              "min       45.000000     12.000000     13.000000\n",
              "25%       66.000000     52.000000     61.000000\n",
              "50%       87.000000     72.000000     81.000000\n",
              "75%      113.000000    102.000000    107.000000\n",
              "max      148.000000    402.000000    984.000000"
            ]
          },
          "metadata": {
            "tags": []
          },
          "execution_count": 8
        }
      ]
    },
    {
      "cell_type": "code",
      "metadata": {
        "colab": {
          "base_uri": "https://localhost:8080/"
        },
        "id": "De_RpKyA6mTU",
        "outputId": "f5175644-1cbd-4022-ef1d-ded19038dc02"
      },
      "source": [
        "len(dataset_train)"
      ],
      "execution_count": null,
      "outputs": [
        {
          "output_type": "execute_result",
          "data": {
            "text/plain": [
              "29867"
            ]
          },
          "metadata": {
            "tags": []
          },
          "execution_count": 9
        }
      ]
    },
    {
      "cell_type": "code",
      "metadata": {
        "id": "mpobOzx-Lht7"
      },
      "source": [
        "# split the original training data for validation\n",
        "df_train, df_val = train_test_split(dataset_train,\n",
        "                                    test_size = 0.05,\n",
        "                                    random_state=42)\n",
        "df_test = dataset_dev\n",
        "\n",
        "df_train = df_train.reset_index(drop=True)\n",
        "df_val = df_val.reset_index(drop=True)\n",
        "df_test = df_test.reset_index(drop=True)\n"
      ],
      "execution_count": null,
      "outputs": []
    },
    {
      "cell_type": "code",
      "metadata": {
        "colab": {
          "base_uri": "https://localhost:8080/"
        },
        "id": "nNs2FWNJSLSq",
        "outputId": "738e810d-a99b-46b9-cd15-1984927e1c43"
      },
      "source": [
        "print(df_train.shape)\n",
        "print(df_val.shape)\n",
        "print(df_test.shape)"
      ],
      "execution_count": null,
      "outputs": [
        {
          "output_type": "stream",
          "text": [
            "(28373, 8)\n",
            "(1494, 8)\n",
            "(3996, 8)\n"
          ],
          "name": "stdout"
        }
      ]
    },
    {
      "cell_type": "code",
      "metadata": {
        "colab": {
          "base_uri": "https://localhost:8080/",
          "height": 493
        },
        "id": "irj7itV0UCF_",
        "outputId": "c8ee65dd-3a55-470b-c273-0958a990548b"
      },
      "source": [
        "df_train.head()"
      ],
      "execution_count": null,
      "outputs": [
        {
          "output_type": "execute_result",
          "data": {
            "text/html": [
              "<div>\n",
              "<style scoped>\n",
              "    .dataframe tbody tr th:only-of-type {\n",
              "        vertical-align: middle;\n",
              "    }\n",
              "\n",
              "    .dataframe tbody tr th {\n",
              "        vertical-align: top;\n",
              "    }\n",
              "\n",
              "    .dataframe thead th {\n",
              "        text-align: right;\n",
              "    }\n",
              "</style>\n",
              "<table border=\"1\" class=\"dataframe\">\n",
              "  <thead>\n",
              "    <tr style=\"text-align: right;\">\n",
              "      <th></th>\n",
              "      <th>id</th>\n",
              "      <th>src</th>\n",
              "      <th>mt</th>\n",
              "      <th>list_scores</th>\n",
              "      <th>avg_scores</th>\n",
              "      <th>critical</th>\n",
              "      <th>language_pair</th>\n",
              "      <th>btr</th>\n",
              "    </tr>\n",
              "  </thead>\n",
              "  <tbody>\n",
              "    <tr>\n",
              "      <th>0</th>\n",
              "      <td>2527</td>\n",
              "      <td>REDIRECT Talk:Royal Canadian Mounted Police Pr...</td>\n",
              "      <td>リダイレクト トーク : カナダ 王立 騎兵 警察 の 保護 警察</td>\n",
              "      <td>[0, 0, 0]</td>\n",
              "      <td>NOT</td>\n",
              "      <td>0</td>\n",
              "      <td>en-ja</td>\n",
              "      <td>Redirect Talk : Protective Police of the Royal...</td>\n",
              "    </tr>\n",
              "    <tr>\n",
              "      <th>1</th>\n",
              "      <td>4131</td>\n",
              "      <td>He mentions the apartheid controversy in great...</td>\n",
              "      <td>Zmiňuje spor o apartheid velmi podrobně ve své...</td>\n",
              "      <td>[0, 0, 0]</td>\n",
              "      <td>NOT</td>\n",
              "      <td>0</td>\n",
              "      <td>en-cs</td>\n",
              "      <td>He mentions the apartheid dispute in great det...</td>\n",
              "    </tr>\n",
              "    <tr>\n",
              "      <th>2</th>\n",
              "      <td>9447</td>\n",
              "      <td>As you may have noticed, I am waiting until th...</td>\n",
              "      <td>Jak jste si možná všiml , čekám , až budou mén...</td>\n",
              "      <td>[0, 0, 0]</td>\n",
              "      <td>NOT</td>\n",
              "      <td>0</td>\n",
              "      <td>en-cs</td>\n",
              "      <td>As you may have noticed, I'm waiting for them ...</td>\n",
              "    </tr>\n",
              "    <tr>\n",
              "      <th>3</th>\n",
              "      <td>6168</td>\n",
              "      <td>Niteshift you are one seriously ignorant indiv...</td>\n",
              "      <td>ナイト シフト あなた は 1 つ の 深刻 な 無知 の 個人 笑 で す 。</td>\n",
              "      <td>[0, 0, 0]</td>\n",
              "      <td>NOT</td>\n",
              "      <td>0</td>\n",
              "      <td>en-ja</td>\n",
              "      <td>Night Shift You are one serious ignorant indiv...</td>\n",
              "    </tr>\n",
              "    <tr>\n",
              "      <th>4</th>\n",
              "      <td>4888</td>\n",
              "      <td>RR down with relentless recussant!!! the empir...</td>\n",
              "      <td>RR nach unten mit unermüdlichen wiederkehrende...</td>\n",
              "      <td>[0, 0, 0]</td>\n",
              "      <td>NOT</td>\n",
              "      <td>0</td>\n",
              "      <td>en-de</td>\n",
              "      <td>RR down with tireless recurring!!! the empire ...</td>\n",
              "    </tr>\n",
              "  </tbody>\n",
              "</table>\n",
              "</div>"
            ],
            "text/plain": [
              "     id  ...                                                btr\n",
              "0  2527  ...  Redirect Talk : Protective Police of the Royal...\n",
              "1  4131  ...  He mentions the apartheid dispute in great det...\n",
              "2  9447  ...  As you may have noticed, I'm waiting for them ...\n",
              "3  6168  ...  Night Shift You are one serious ignorant indiv...\n",
              "4  4888  ...  RR down with tireless recurring!!! the empire ...\n",
              "\n",
              "[5 rows x 8 columns]"
            ]
          },
          "metadata": {
            "tags": []
          },
          "execution_count": 12
        }
      ]
    },
    {
      "cell_type": "markdown",
      "metadata": {
        "id": "TWJfh6DV7CB5"
      },
      "source": [
        "## Classes and functions"
      ]
    },
    {
      "cell_type": "code",
      "metadata": {
        "id": "Tc1GQh7yEm4C"
      },
      "source": [
        "class CustomDataset(Dataset):\n",
        "\n",
        "    def __init__(self, data, maxlen, bert_model='xlm-roberta-large',\n",
        "                 with_labels=True, mask_prob=0.0, eval_set=False,\n",
        "                 use_flip=False, mask_tokens=False):\n",
        "\n",
        "        self.data = data  # pandas dataframe\n",
        "        self.bert_model = bert_model\n",
        "        # Initialize the tokenizer\n",
        "        self.tokenizer = AutoTokenizer.from_pretrained(bert_model)  \n",
        "        self.maxlen = maxlen\n",
        "        self.with_labels = with_labels \n",
        "        self.mask_prob = mask_prob\n",
        "        self.eval_set = eval_set\n",
        "        self.flip = use_flip\n",
        "        self.mask_tokens = mask_tokens\n",
        "\n",
        "    def __len__(self):\n",
        "        return len(self.data)\n",
        "\n",
        "    def __getitem__(self, index):\n",
        "\n",
        "        # Selecting sentence1 and sentence2 at the specified index\n",
        "        # in the dataframe\n",
        "        sent1 = str(self.data.loc[index, 'src'])\n",
        "        if self.bert_model == 'bert-base-uncased':\n",
        "          sent2 = str(self.data.loc[index, 'btr'])\n",
        "        else:\n",
        "          sent2 = str(self.data.loc[index, 'mt'])\n",
        "        flip = (torch.rand(1) <= 0.5).int().item()\n",
        "        if self.flip and (flip and not self.eval_set):\n",
        "          sent1, sent2 = sent2, sent1\n",
        "        # Tokenize the pair of sentences to get token ids, attention masks\n",
        "        # and token type ids\n",
        "        encoded_pair = self.tokenizer(sent1, sent2, \n",
        "                                      padding='max_length', # Pad to max_length\n",
        "                                      truncation=True, # Truncate to max_length\n",
        "                                      max_length=self.maxlen, \n",
        "                                      return_token_type_ids=True,\n",
        "                                      return_tensors='pt') # Return tensors\n",
        "        # tensor of token ids\n",
        "        token_ids = encoded_pair['input_ids'].squeeze(0)\n",
        "        \n",
        "        # set fraction mask_prob of tokens to [MASK]\n",
        "        if self.mask_tokens and (self.mask_prob > 0.0 and not self.eval_set):\n",
        "          probability_matrix = torch.full(token_ids.shape, self.mask_prob)\n",
        "          special_tokens_mask = \\\n",
        "                  self.tokenizer.get_special_tokens_mask(token_ids.tolist(), \\\n",
        "                  already_has_special_tokens=True)\n",
        "          special_tokens_mask = \\\n",
        "                torch.tensor(special_tokens_mask, dtype=torch.bool)\n",
        "          probability_matrix.masked_fill_(special_tokens_mask, value=0.0)\n",
        "          masked_indices = torch.bernoulli(probability_matrix).bool()\n",
        "          token_ids[masked_indices] = \\\n",
        "                self.tokenizer.convert_tokens_to_ids(self.tokenizer.mask_token)\n",
        "\n",
        "  \n",
        "        # binary tensor with \"0\" for padded values and \"1\" for the other values\n",
        "        attn_masks = encoded_pair['attention_mask'].squeeze(0)\n",
        "        \n",
        "        # binary tensor with \"0\" for the 1st sentence tokens & \"1\"\n",
        "        # for the 2nd sentence tokens. note xml-roberta doesn't make use it\n",
        "        token_type_ids = encoded_pair['token_type_ids'].squeeze(0)\n",
        "        \n",
        "        if self.with_labels:  # True if the dataset has labels\n",
        "            label = int(self.data.loc[index, 'critical'])\n",
        "            return token_ids, attn_masks, token_type_ids, label, flip \n",
        "        else:\n",
        "            return token_ids, attn_masks, token_type_ids, flip"
      ],
      "execution_count": null,
      "outputs": []
    },
    {
      "cell_type": "code",
      "metadata": {
        "id": "hm0lAXvTZChm"
      },
      "source": [
        "class SentencePairClassifier(nn.Module):\n",
        "\n",
        "    def __init__(self, bert_model=\"xlm-roberta-base\", freeze_bert=False,\n",
        "                 num_classes=1):\n",
        "        super(SentencePairClassifier, self).__init__()\n",
        "        \n",
        "        self.bert_model = bert_model\n",
        "        # Instantiating BERT-based model object\n",
        "        self.bert_layer = AutoModel.from_pretrained(bert_model)\n",
        "        # Fix the hidden-state size of the encoder outputs \n",
        "        if bert_model == \"xlm-roberta-base\":\n",
        "            hidden_size = 768\n",
        "        elif bert_model == \"xlm-roberta-large\":\n",
        "            hidden_size = 1024\n",
        "        elif bert_model == \"bert-base-uncased\":\n",
        "            hidden_size = 768\n",
        "        elif bert_model.startswith('TransQuest'):\n",
        "            hidden_size = 1024\n",
        "        else:\n",
        "            raise Exception('Unsupported model for this notebook.')\n",
        "\n",
        "        # Freeze bert layers and only train the classification layer weights\n",
        "        if freeze_bert:\n",
        "            for p in self.bert_layer.parameters():\n",
        "                p.requires_grad = False\n",
        "\n",
        "        # Classification layer for error\n",
        "        self.cls_layer = nn.Linear(hidden_size, num_classes)\n",
        "        # Classification layer for flipping\n",
        "        self.cls_layer_flip = nn.Linear(hidden_size, num_classes)\n",
        "\n",
        "        self.dropout = nn.Dropout(p=0.5)\n",
        "\n",
        "    @autocast()  # run in mixed precision\n",
        "    def forward(self, input_ids, attn_masks, token_type_ids=None):\n",
        "        '''\n",
        "        Inputs:\n",
        "            -input_ids : Tensor  containing token ids\n",
        "            -attn_masks : Tensor containing attention masks to be used to\n",
        "                          focus on non-padded values\n",
        "            -token_type_ids : Tensor containing token type ids to be used to\n",
        "                              identify sentence1 and sentence2 (only used by \n",
        "                              BERT, not XLM)\n",
        "        '''\n",
        "\n",
        "        bert_output = self.bert_layer(input_ids, attn_masks)\n",
        "        pooler_output = bert_output.pooler_output\n",
        "        \n",
        "        # Feeding to the classifier layer the last layer hidden-state of the\n",
        "        # [CLS] token further processed by a Linear Layer and a Tanh activation.\n",
        "        logits = self.cls_layer(self.dropout(pooler_output))\n",
        "        logits_flip = self.cls_layer_flip(self.dropout(pooler_output))\n",
        "        return logits, logits_flip"
      ],
      "execution_count": null,
      "outputs": []
    },
    {
      "cell_type": "code",
      "metadata": {
        "id": "5SrSNNYTjwe8"
      },
      "source": [
        "def get_probs_from_logits(logits):\n",
        "    \"\"\"\n",
        "    Converts a tensor of logits into an array of probabilities by\n",
        "    applying the sigmoid function\n",
        "    \"\"\"\n",
        "    probs = torch.sigmoid(logits.unsqueeze(-1))\n",
        "    return probs.detach().cpu().numpy()\n",
        "\n",
        "def set_seed(seed):\n",
        "    \"\"\" Set all seeds to make results reproducible \"\"\"\n",
        "    torch.manual_seed(seed)\n",
        "    torch.cuda.manual_seed_all(seed)\n",
        "    torch.backends.cudnn.deterministic = True\n",
        "    torch.backends.cudnn.benchmark = False\n",
        "    np.random.seed(seed)\n",
        "    random.seed(seed)\n",
        "    os.environ['PYTHONHASHSEED'] = str(seed)\n",
        "    \n",
        "\n",
        "def evaluate_loss(net, device, criterion, dataloader):\n",
        "    \"\"\" \n",
        "    Evaluate the loss for the critial error classification wrt. \n",
        "    a specific criterion and dataloader, averaged over all samples.\n",
        "    Does not collect gradients.\n",
        "    \"\"\"\n",
        "    net.eval()\n",
        "\n",
        "    mean_loss = 0\n",
        "    count = 0\n",
        "    probs_all = []\n",
        "    with torch.no_grad():\n",
        "        for it, (seq, attn_masks, token_type_ids, labels, labels_flip) in \\\n",
        "                enumerate(tqdm(dataloader)):\n",
        "            seq, attn_masks, token_type_ids, labels = \\\n",
        "                seq.to(device), attn_masks.to(device), \\\n",
        "                token_type_ids.to(device), labels.to(device)\n",
        "              \n",
        "            logits, _ = net(seq, attn_masks, token_type_ids)\n",
        "            probs = get_probs_from_logits(logits.squeeze(-1)).squeeze(-1)\n",
        "            probs_all += probs.tolist()\n",
        "            mean_loss += criterion(logits.squeeze(-1), labels.float()).item()\n",
        "            count += 1\n",
        "\n",
        "    return mean_loss / count, np.array(probs_all)"
      ],
      "execution_count": null,
      "outputs": []
    },
    {
      "cell_type": "code",
      "metadata": {
        "colab": {
          "base_uri": "https://localhost:8080/"
        },
        "id": "Hl-rhuWsrg01",
        "outputId": "4a102779-4a24-48d6-e66e-230c92f92148"
      },
      "source": [
        "print(\"Creation of the models' folder...\")\n",
        "!mkdir -p models/TransQuest"
      ],
      "execution_count": null,
      "outputs": [
        {
          "output_type": "stream",
          "text": [
            "Creation of the models' folder...\n"
          ],
          "name": "stdout"
        }
      ]
    },
    {
      "cell_type": "markdown",
      "metadata": {
        "id": "ZsL9VvmX0NLC"
      },
      "source": [
        "Link for mixed precision training, gradient scaling and gradient accumulation  : https://pytorch.org/docs/stable/notes/amp_examples.html#amp-examples\n",
        "\n",
        "If you would like to learn more about Training Neural Nets on Larger Batches, I suggest reading this post of Thomas Wolf :\n",
        "https://medium.com/huggingface/training-larger-batches-practical-tips-on-1-gpu-multi-gpu-distributed-setups-ec88c3e51255"
      ]
    },
    {
      "cell_type": "code",
      "metadata": {
        "id": "I-o6KyaFkU5u"
      },
      "source": [
        "def train_bert(bert_model, net, criterions, opti, lr, lr_scheduler, train_loader,\n",
        "               minitrain_loader, labels_minitrain, val_loader, labels_val, \n",
        "               epochs, iters_to_accumulate, use_flip):\n",
        "    \"\"\"\n",
        "    Train the model for a specified set of parameters.\n",
        "    In particular, `net` is a SentencePairClassifier as specified above,\n",
        "    and criterions is a tuple (crit_1, crit_2) where crit_1 is the \n",
        "    criterion of interest (here, BCE for error classification).\n",
        "    \n",
        "    Moreover, we evaluate the model after every epoch for the validation set\n",
        "    as well as a small fraction of the training set and print selected metrics.\n",
        "    \"\"\"\n",
        "    best_loss = np.Inf\n",
        "    best_ep = 1\n",
        "    nb_iterations = len(train_loader)\n",
        "    # print the training loss two times per epoch\n",
        "    print_every = nb_iterations // 2\n",
        "    iters = []\n",
        "    train_losses = []\n",
        "    val_losses = []\n",
        "    \n",
        "    # the two different tasks we train on\n",
        "    criterion = criterions[0]\n",
        "    criterion_flip = criterions[1]\n",
        "    scaler = GradScaler()\n",
        "\n",
        "    for ep in range(epochs):\n",
        "\n",
        "        net.train()\n",
        "        running_loss = 0.0\n",
        "        probs_all = []\n",
        "        for it, (seq, attn_masks, token_type_ids, labels, labels_flip) in \\\n",
        "            enumerate(tqdm(train_loader)):\n",
        "\n",
        "            # Converting to cuda tensors\n",
        "            seq, attn_masks, token_type_ids, labels, labels_flip = \\\n",
        "                seq.to(device), attn_masks.to(device), \\\n",
        "                token_type_ids.to(device), labels.to(device),\\\n",
        "                labels_flip.to(device)\n",
        "            # Enables autocasting for the forward pass (model + loss)\n",
        "            with autocast():\n",
        "                # Obtaining the logits from the model\n",
        "                logits, logits_flip = net(seq, attn_masks, token_type_ids)\n",
        "                # Computing loss\n",
        "                loss = criterion(logits.squeeze(-1),\n",
        "                                    labels.float())\n",
        "                if use_flip:\n",
        "                  loss_flip = criterion_flip(logits_flip.squeeze(-1),\n",
        "                                         labels_flip.float())\n",
        "                  loss = (loss + loss_flip)\n",
        "                # Normalize the loss because it is averaged\n",
        "                loss = loss / iters_to_accumulate \n",
        "            # Backpropagating the gradients\n",
        "            # Scales loss. Calls backward() on scaled loss\n",
        "            # to create scaled gradients.\n",
        "            scaler.scale(loss).backward()\n",
        "\n",
        "            if (it + 1) % iters_to_accumulate == 0:\n",
        "                # --- Optimization step\n",
        "                # scaler.step() first unscales the gradients of the optimizer's\n",
        "                # assigned params. If these gradients do not contain infs or\n",
        "                # NaNs, opti.step() is then called. Otherwise, opti.step()\n",
        "                # is skipped.\n",
        "                # Importantly, we have to check if the optimizer step was\n",
        "                # skipped in order to also skip the lr_sched update.\n",
        "                scaler.step(opti)\n",
        "                scale = scaler.get_scale()\n",
        "                # Updates the scale for next iteration.\n",
        "                scaler.update()\n",
        "                # if scale was changed means we skipped opt.step()\n",
        "                skip_lr_schedule = (scale != scaler.get_scale())\n",
        "                # Adjust the learning rate based on the number of iterations.\n",
        "                if not skip_lr_schedule:\n",
        "                  lr_scheduler.step()\n",
        "                # Clear gradients\n",
        "                opti.zero_grad()\n",
        "\n",
        "\n",
        "            running_loss += loss.item() * iters_to_accumulate\n",
        "\n",
        "            if (it + 1) % print_every == 0:  # Print training loss information\n",
        "                print()\n",
        "                print(\"Iteration {}/{} of epoch {} complete. Loss : {} \"\n",
        "                      .format(it+1, nb_iterations,\n",
        "                              ep+1, running_loss / print_every))\n",
        "\n",
        "                running_loss = 0.0\n",
        "\n",
        "        # Compute validation loss\n",
        "        val_loss, probs_val = evaluate_loss(net, device, criterion, val_loader)\n",
        "        preds_val = probs_val >= 0.5\n",
        "        print()\n",
        "        print(\"Epoch {} complete!\\nValidation Loss : {}\".format(ep+1, val_loss))\n",
        "        print(\"Validation F1 score: {:.4f}, Recall: {:.4f}, MCC: {:.4f}\".format(\n",
        "                f1_score(labels_val, preds_val),\n",
        "                recall_score(labels_val, preds_val),\n",
        "                matthews_corrcoef(labels_val, preds_val)))\n",
        "        \n",
        "        # Compute loss on small fraction of training set\n",
        "        minitrain_loss, probs_minitrain = evaluate_loss(net,\n",
        "                                                        device,\n",
        "                                                        criterion,\n",
        "                                                        minitrain_loader)\n",
        "        preds_minitrain = probs_minitrain >= 0.5\n",
        "        print()\n",
        "        print(\"Minitrain F1 score: {:.4f}, Recall: {:.4f}, MCC: {:.4f}\".format(\n",
        "                f1_score(labels_minitrain, preds_minitrain),\n",
        "                recall_score(labels_minitrain, preds_minitrain),\n",
        "                matthews_corrcoef(labels_minitrain, preds_minitrain)))\n",
        "\n",
        "        if val_loss < best_loss:\n",
        "            print(\"Best validation loss improved from {} to {}\"\n",
        "                  .format(best_loss, val_loss))\n",
        "            print()\n",
        "            net_copy = copy.deepcopy(net)  # save a copy of the model\n",
        "            best_loss = val_loss\n",
        "            best_ep = ep + 1\n",
        "\n",
        "        torch.cuda.empty_cache()\n",
        "    \n",
        "    # Saving the model\n",
        "    path_to_model = 'models/{}_lr_{}_val_loss_{}_ep_{}.pt'.format(\n",
        "        bert_model, lr, round(best_loss, 5), best_ep)\n",
        "    torch.save(net_copy.state_dict(), path_to_model)\n",
        "    print(\"The model has been saved in {}\".format(path_to_model))\n",
        "\n",
        "    del loss\n",
        "    torch.cuda.empty_cache()\n",
        "    return path_to_model"
      ],
      "execution_count": null,
      "outputs": []
    },
    {
      "cell_type": "markdown",
      "metadata": {
        "id": "WFy9kQ2-SvQ2"
      },
      "source": [
        "## Parameters"
      ]
    },
    {
      "cell_type": "code",
      "metadata": {
        "colab": {
          "base_uri": "https://localhost:8080/"
        },
        "id": "b6bzDp4FreS6",
        "outputId": "ac832622-a6ee-4bd7-cead-076e9122f06c"
      },
      "source": [
        "# bert_model = \"xlm-roberta-base\"\n",
        "bert_model = \"TransQuest/monotransquest-da-multilingual\"\n",
        "# freeze the encoder weights and only update the classification layer weights\n",
        "freeze_bert = False\n",
        "maxlen = 200  # 75% below\n",
        "bs = 4 if bert_model.endswith('large') or bert_model.startswith('TransQuest') \\\n",
        "       else 16  # batch size\n",
        "\n",
        "# the gradient accumulation adds gradients over an\n",
        "# effective batch of size: bs * iters_to_accumulate.\n",
        "# If set to \"1\", you get the usual batch size\n",
        "iters_to_accumulate = 10\n",
        "lr = 2e-5 # learning rate\n",
        "epochs = 5  # number of training epochs\n",
        "size_minitrain = 2000\n",
        "weight_decay = 1e-2\n",
        "mask_prob = 0.2 # percentage of tokens in sentence that we mask\n",
        "\n",
        "# increase weight for pos label for data imbalance\n",
        "pos_weight = ((df_train['critical'] == 0).sum() /\n",
        "              (df_train['critical'] == 1).sum())\n",
        "pos_weight = torch.Tensor([pos_weight.item()])\n",
        "print('Positive weight for imbalance:', pos_weight)"
      ],
      "execution_count": null,
      "outputs": [
        {
          "output_type": "stream",
          "text": [
            "Positive weight for imbalance: tensor([4.6262])\n"
          ],
          "name": "stdout"
        }
      ]
    },
    {
      "cell_type": "markdown",
      "metadata": {
        "id": "y_abThXlSr6n"
      },
      "source": [
        "## Training and validation"
      ]
    },
    {
      "cell_type": "markdown",
      "metadata": {
        "id": "wwXCoj9_h1hY"
      },
      "source": [
        "Link for the AdamW optimizer and the learning rate scheduler :\n",
        "https://huggingface.co/transformers/main_classes/optimizer_schedules.html\n",
        "\n",
        "Below we define a function that does the full training depending on the which pretrained model to use as well as to the methods of random sentence flipping as well as masking of tokens. The other hyperparameters are defined above. "
      ]
    },
    {
      "cell_type": "code",
      "metadata": {
        "id": "yqlP3_l1CfQL"
      },
      "source": [
        "def train(bert_model, use_flip=False, mask_tokens=False, seed=1):\n",
        "  #  Set all seeds to make reproducible results\n",
        "  set_seed(seed)\n",
        "  # Creating instances of training and validation set\n",
        "  print(\"Reading training data...\")\n",
        "  train_set = CustomDataset(df_train, maxlen, bert_model,\n",
        "                            use_flip=use_flip, mask_tokens=mask_tokens,\n",
        "                            mask_prob=mask_prob)\n",
        "  minitrain_set = CustomDataset(df_train[:size_minitrain], maxlen,\n",
        "                                bert_model, eval_set=True)\n",
        "  # Creating instances of the dataloaders\n",
        "  train_loader = DataLoader(train_set, batch_size=bs, num_workers=2)\n",
        "  minitrain_loader = DataLoader(minitrain_set, batch_size=bs, num_workers=2)\n",
        "\n",
        "  print(\"Reading validation data...\")\n",
        "  val_set = CustomDataset(df_val, maxlen, bert_model, eval_set=True)\n",
        "  val_loader = DataLoader(val_set, batch_size=bs, num_workers=2)\n",
        "\n",
        "  labels_val = df_val['critical']  # true labels\n",
        "  labels_minitrain = df_train[:size_minitrain]['critical']  # true labels\n",
        "  net = SentencePairClassifier(bert_model, freeze_bert=freeze_bert)\n",
        "  print(\"Total number of parameters:\",\n",
        "        sum(p.numel() for p in net.bert_layer.parameters()))\n",
        "\n",
        "  net.to(device)\n",
        "\n",
        "  criterion = nn.BCEWithLogitsLoss(pos_weight=pos_weight.to(device))\n",
        "  criterion_flip = nn.BCEWithLogitsLoss()\n",
        "  opti = AdamW(net.parameters(), lr=lr, weight_decay=weight_decay)\n",
        "  # The total number of training steps\n",
        "  num_training_steps = epochs * len(train_loader)\n",
        "  # The number of steps for the warmup phase.\n",
        "  # num_warmup_steps = 0\n",
        "  num_warmup_steps = int(0.1 * num_training_steps)\n",
        "  # Necessary to take into account Gradient accumulation\n",
        "  t_total = (len(train_loader) // iters_to_accumulate) * epochs\n",
        "  lr_scheduler = get_linear_schedule_with_warmup(optimizer=opti,\n",
        "                num_warmup_steps=num_warmup_steps, num_training_steps=t_total)\n",
        "\n",
        "  path_to_model = train_bert(bert_model, net, [criterion, criterion_flip], opti,\n",
        "                            lr, lr_scheduler, train_loader, minitrain_loader,\n",
        "                            labels_minitrain, val_loader, labels_val,\n",
        "                            epochs, iters_to_accumulate, use_flip)\n",
        "  return net, path_to_model"
      ],
      "execution_count": null,
      "outputs": []
    },
    {
      "cell_type": "markdown",
      "metadata": {
        "id": "UQChBJWmZ23P"
      },
      "source": [
        "An example call to training, with parameters as defined above:"
      ]
    },
    {
      "cell_type": "code",
      "metadata": {
        "colab": {
          "base_uri": "https://localhost:8080/"
        },
        "id": "8kdCoqhaNrGR",
        "outputId": "482711d9-cc4f-46c8-fba7-5ce5a9575917"
      },
      "source": [
        "net, path_to_model = train(bert_model, use_flip=True, mask_tokens=True)"
      ],
      "execution_count": null,
      "outputs": [
        {
          "output_type": "stream",
          "text": [
            "Reading training data...\n",
            "Reading validation data...\n"
          ],
          "name": "stdout"
        },
        {
          "output_type": "stream",
          "text": [
            "Some weights of the model checkpoint at TransQuest/monotransquest-da-multilingual were not used when initializing XLMRobertaModel: ['classifier.dense.weight', 'classifier.dense.bias', 'classifier.out_proj.bias', 'classifier.out_proj.weight']\n",
            "- This IS expected if you are initializing XLMRobertaModel from the checkpoint of a model trained on another task or with another architecture (e.g. initializing a BertForSequenceClassification model from a BertForPreTraining model).\n",
            "- This IS NOT expected if you are initializing XLMRobertaModel from the checkpoint of a model that you expect to be exactly identical (initializing a BertForSequenceClassification model from a BertForSequenceClassification model).\n"
          ],
          "name": "stderr"
        },
        {
          "output_type": "stream",
          "text": [
            "Total number of parameters: 559890432\n"
          ],
          "name": "stdout"
        },
        {
          "output_type": "stream",
          "text": [
            " 20%|█▉        | 1418/7094 [07:26<28:54,  3.27it/s]"
          ],
          "name": "stderr"
        },
        {
          "output_type": "stream",
          "text": [
            "\n",
            "Iteration 1418/7094 of epoch 1 complete. Loss : 1.8825710001066642 \n"
          ],
          "name": "stdout"
        },
        {
          "output_type": "stream",
          "text": [
            " 40%|███▉      | 2836/7094 [14:51<21:51,  3.25it/s]"
          ],
          "name": "stderr"
        },
        {
          "output_type": "stream",
          "text": [
            "\n",
            "Iteration 2836/7094 of epoch 1 complete. Loss : 1.8506279181589194 \n"
          ],
          "name": "stdout"
        },
        {
          "output_type": "stream",
          "text": [
            " 60%|█████▉    | 4254/7094 [22:16<14:45,  3.21it/s]"
          ],
          "name": "stderr"
        },
        {
          "output_type": "stream",
          "text": [
            "\n",
            "Iteration 4254/7094 of epoch 1 complete. Loss : 1.729325234065061 \n"
          ],
          "name": "stdout"
        },
        {
          "output_type": "stream",
          "text": [
            " 80%|███████▉  | 5672/7094 [29:41<07:34,  3.13it/s]"
          ],
          "name": "stderr"
        },
        {
          "output_type": "stream",
          "text": [
            "\n",
            "Iteration 5672/7094 of epoch 1 complete. Loss : 1.1164419859258934 \n"
          ],
          "name": "stdout"
        },
        {
          "output_type": "stream",
          "text": [
            "100%|█████████▉| 7090/7094 [37:06<00:01,  2.98it/s]"
          ],
          "name": "stderr"
        },
        {
          "output_type": "stream",
          "text": [
            "\n",
            "Iteration 7090/7094 of epoch 1 complete. Loss : 1.051784596499187 \n"
          ],
          "name": "stdout"
        },
        {
          "output_type": "stream",
          "text": [
            "100%|██████████| 7094/7094 [37:07<00:00,  3.18it/s]\n",
            "100%|██████████| 374/374 [00:41<00:00,  8.99it/s]\n",
            "  0%|          | 0/500 [00:00<?, ?it/s]"
          ],
          "name": "stderr"
        },
        {
          "output_type": "stream",
          "text": [
            "\n",
            "Epoch 1 complete!\n",
            "Validation Loss : 1.1531039057249692\n",
            "Validation F1 score: 0.2857, Recall: 0.1871, MCC: 0.2658\n"
          ],
          "name": "stdout"
        },
        {
          "output_type": "stream",
          "text": [
            "100%|██████████| 500/500 [00:55<00:00,  9.00it/s]\n",
            "  0%|          | 0/7094 [00:00<?, ?it/s]"
          ],
          "name": "stderr"
        },
        {
          "output_type": "stream",
          "text": [
            "\n",
            "Minitrain F1 score: 0.3471, Recall: 0.2319, MCC: 0.3396\n",
            "Best validation loss improved from inf to 1.1531039057249692\n",
            "\n"
          ],
          "name": "stdout"
        },
        {
          "output_type": "stream",
          "text": [
            " 20%|█▉        | 1418/7094 [07:25<28:52,  3.28it/s]"
          ],
          "name": "stderr"
        },
        {
          "output_type": "stream",
          "text": [
            "\n",
            "Iteration 1418/7094 of epoch 2 complete. Loss : 0.9947473472522832 \n"
          ],
          "name": "stdout"
        },
        {
          "output_type": "stream",
          "text": [
            " 40%|███▉      | 2836/7094 [14:51<21:47,  3.26it/s]"
          ],
          "name": "stderr"
        },
        {
          "output_type": "stream",
          "text": [
            "\n",
            "Iteration 2836/7094 of epoch 2 complete. Loss : 0.9885288822255787 \n"
          ],
          "name": "stdout"
        },
        {
          "output_type": "stream",
          "text": [
            " 60%|█████▉    | 4254/7094 [22:16<14:45,  3.21it/s]"
          ],
          "name": "stderr"
        },
        {
          "output_type": "stream",
          "text": [
            "\n",
            "Iteration 4254/7094 of epoch 2 complete. Loss : 0.9821345390586448 \n"
          ],
          "name": "stdout"
        },
        {
          "output_type": "stream",
          "text": [
            " 80%|███████▉  | 5672/7094 [29:42<07:33,  3.14it/s]"
          ],
          "name": "stderr"
        },
        {
          "output_type": "stream",
          "text": [
            "\n",
            "Iteration 5672/7094 of epoch 2 complete. Loss : 0.9794645109286135 \n"
          ],
          "name": "stdout"
        },
        {
          "output_type": "stream",
          "text": [
            "100%|█████████▉| 7090/7094 [37:07<00:01,  2.99it/s]"
          ],
          "name": "stderr"
        },
        {
          "output_type": "stream",
          "text": [
            "\n",
            "Iteration 7090/7094 of epoch 2 complete. Loss : 0.9789623124511815 \n"
          ],
          "name": "stdout"
        },
        {
          "output_type": "stream",
          "text": [
            "100%|██████████| 7094/7094 [37:08<00:00,  3.18it/s]\n",
            "100%|██████████| 374/374 [00:41<00:00,  8.97it/s]\n",
            "  0%|          | 0/500 [00:00<?, ?it/s]"
          ],
          "name": "stderr"
        },
        {
          "output_type": "stream",
          "text": [
            "\n",
            "Epoch 2 complete!\n",
            "Validation Loss : 1.0467503838998111\n",
            "Validation F1 score: 0.4381, Recall: 0.3561, MCC: 0.3572\n"
          ],
          "name": "stdout"
        },
        {
          "output_type": "stream",
          "text": [
            "100%|██████████| 500/500 [00:55<00:00,  8.97it/s]\n",
            "  0%|          | 0/7094 [00:00<?, ?it/s]"
          ],
          "name": "stderr"
        },
        {
          "output_type": "stream",
          "text": [
            "\n",
            "Minitrain F1 score: 0.4723, Recall: 0.3826, MCC: 0.4071\n",
            "Best validation loss improved from 1.1531039057249692 to 1.0467503838998111\n",
            "\n"
          ],
          "name": "stdout"
        },
        {
          "output_type": "stream",
          "text": [
            " 20%|█▉        | 1418/7094 [07:25<28:57,  3.27it/s]"
          ],
          "name": "stderr"
        },
        {
          "output_type": "stream",
          "text": [
            "\n",
            "Iteration 1418/7094 of epoch 3 complete. Loss : 0.9408336227210646 \n"
          ],
          "name": "stdout"
        },
        {
          "output_type": "stream",
          "text": [
            " 40%|███▉      | 2836/7094 [14:51<21:47,  3.26it/s]"
          ],
          "name": "stderr"
        },
        {
          "output_type": "stream",
          "text": [
            "\n",
            "Iteration 2836/7094 of epoch 3 complete. Loss : 0.9299991961781393 \n"
          ],
          "name": "stdout"
        },
        {
          "output_type": "stream",
          "text": [
            " 60%|█████▉    | 4254/7094 [22:16<14:42,  3.22it/s]"
          ],
          "name": "stderr"
        },
        {
          "output_type": "stream",
          "text": [
            "\n",
            "Iteration 4254/7094 of epoch 3 complete. Loss : 0.9443246898647235 \n"
          ],
          "name": "stdout"
        },
        {
          "output_type": "stream",
          "text": [
            " 80%|███████▉  | 5672/7094 [29:41<07:33,  3.13it/s]"
          ],
          "name": "stderr"
        },
        {
          "output_type": "stream",
          "text": [
            "\n",
            "Iteration 5672/7094 of epoch 3 complete. Loss : 0.9338609801410935 \n"
          ],
          "name": "stdout"
        },
        {
          "output_type": "stream",
          "text": [
            "100%|█████████▉| 7090/7094 [37:08<00:01,  2.98it/s]"
          ],
          "name": "stderr"
        },
        {
          "output_type": "stream",
          "text": [
            "\n",
            "Iteration 7090/7094 of epoch 3 complete. Loss : 0.9498097821387065 \n"
          ],
          "name": "stdout"
        },
        {
          "output_type": "stream",
          "text": [
            "100%|██████████| 7094/7094 [37:09<00:00,  3.18it/s]\n",
            "100%|██████████| 374/374 [00:41<00:00,  8.94it/s]\n",
            "  0%|          | 0/500 [00:00<?, ?it/s]"
          ],
          "name": "stderr"
        },
        {
          "output_type": "stream",
          "text": [
            "\n",
            "Epoch 3 complete!\n",
            "Validation Loss : 1.0185071265394674\n",
            "Validation F1 score: 0.4815, Recall: 0.4928, MCC: 0.3598\n"
          ],
          "name": "stdout"
        },
        {
          "output_type": "stream",
          "text": [
            "100%|██████████| 500/500 [00:55<00:00,  8.93it/s]\n",
            "  0%|          | 0/7094 [00:00<?, ?it/s]"
          ],
          "name": "stderr"
        },
        {
          "output_type": "stream",
          "text": [
            "\n",
            "Minitrain F1 score: 0.5509, Recall: 0.5565, MCC: 0.4562\n",
            "Best validation loss improved from 1.0467503838998111 to 1.0185071265394674\n",
            "\n"
          ],
          "name": "stdout"
        },
        {
          "output_type": "stream",
          "text": [
            " 20%|█▉        | 1418/7094 [07:26<28:59,  3.26it/s]"
          ],
          "name": "stderr"
        },
        {
          "output_type": "stream",
          "text": [
            "\n",
            "Iteration 1418/7094 of epoch 4 complete. Loss : 0.8997060141193829 \n"
          ],
          "name": "stdout"
        },
        {
          "output_type": "stream",
          "text": [
            " 40%|███▉      | 2836/7094 [14:53<21:53,  3.24it/s]"
          ],
          "name": "stderr"
        },
        {
          "output_type": "stream",
          "text": [
            "\n",
            "Iteration 2836/7094 of epoch 4 complete. Loss : 0.903159480230628 \n"
          ],
          "name": "stdout"
        },
        {
          "output_type": "stream",
          "text": [
            " 60%|█████▉    | 4254/7094 [22:20<14:40,  3.22it/s]"
          ],
          "name": "stderr"
        },
        {
          "output_type": "stream",
          "text": [
            "\n",
            "Iteration 4254/7094 of epoch 4 complete. Loss : 0.9027999686602666 \n"
          ],
          "name": "stdout"
        },
        {
          "output_type": "stream",
          "text": [
            " 80%|███████▉  | 5672/7094 [29:46<07:36,  3.12it/s]"
          ],
          "name": "stderr"
        },
        {
          "output_type": "stream",
          "text": [
            "\n",
            "Iteration 5672/7094 of epoch 4 complete. Loss : 0.9263979160582859 \n"
          ],
          "name": "stdout"
        },
        {
          "output_type": "stream",
          "text": [
            "100%|█████████▉| 7090/7094 [37:13<00:01,  2.97it/s]"
          ],
          "name": "stderr"
        },
        {
          "output_type": "stream",
          "text": [
            "\n",
            "Iteration 7090/7094 of epoch 4 complete. Loss : 0.9154447317038031 \n"
          ],
          "name": "stdout"
        },
        {
          "output_type": "stream",
          "text": [
            "100%|██████████| 7094/7094 [37:14<00:00,  3.17it/s]\n",
            "100%|██████████| 374/374 [00:41<00:00,  8.91it/s]\n",
            "  0%|          | 0/500 [00:00<?, ?it/s]"
          ],
          "name": "stderr"
        },
        {
          "output_type": "stream",
          "text": [
            "\n",
            "Epoch 4 complete!\n",
            "Validation Loss : 1.3275114418988558\n",
            "Validation F1 score: 0.4422, Recall: 0.3993, MCC: 0.3340\n"
          ],
          "name": "stdout"
        },
        {
          "output_type": "stream",
          "text": [
            "100%|██████████| 500/500 [00:56<00:00,  8.92it/s]\n",
            "  0%|          | 0/7094 [00:00<?, ?it/s]"
          ],
          "name": "stderr"
        },
        {
          "output_type": "stream",
          "text": [
            "\n",
            "Minitrain F1 score: 0.5664, Recall: 0.5130, MCC: 0.4909\n"
          ],
          "name": "stdout"
        },
        {
          "output_type": "stream",
          "text": [
            " 20%|█▉        | 1418/7094 [07:26<28:54,  3.27it/s]"
          ],
          "name": "stderr"
        },
        {
          "output_type": "stream",
          "text": [
            "\n",
            "Iteration 1418/7094 of epoch 5 complete. Loss : 0.8442859423224656 \n"
          ],
          "name": "stdout"
        },
        {
          "output_type": "stream",
          "text": [
            " 40%|███▉      | 2836/7094 [14:53<21:52,  3.24it/s]"
          ],
          "name": "stderr"
        },
        {
          "output_type": "stream",
          "text": [
            "\n",
            "Iteration 2836/7094 of epoch 5 complete. Loss : 0.8645519381651736 \n"
          ],
          "name": "stdout"
        },
        {
          "output_type": "stream",
          "text": [
            " 60%|█████▉    | 4254/7094 [22:20<14:46,  3.20it/s]"
          ],
          "name": "stderr"
        },
        {
          "output_type": "stream",
          "text": [
            "\n",
            "Iteration 4254/7094 of epoch 5 complete. Loss : 0.8431654430896948 \n"
          ],
          "name": "stdout"
        },
        {
          "output_type": "stream",
          "text": [
            " 80%|███████▉  | 5672/7094 [29:47<07:35,  3.12it/s]"
          ],
          "name": "stderr"
        },
        {
          "output_type": "stream",
          "text": [
            "\n",
            "Iteration 5672/7094 of epoch 5 complete. Loss : 0.864568694585958 \n"
          ],
          "name": "stdout"
        },
        {
          "output_type": "stream",
          "text": [
            "100%|█████████▉| 7090/7094 [37:13<00:01,  2.97it/s]"
          ],
          "name": "stderr"
        },
        {
          "output_type": "stream",
          "text": [
            "\n",
            "Iteration 7090/7094 of epoch 5 complete. Loss : 0.8807951407848591 \n"
          ],
          "name": "stdout"
        },
        {
          "output_type": "stream",
          "text": [
            "100%|██████████| 7094/7094 [37:14<00:00,  3.17it/s]\n",
            "100%|██████████| 374/374 [00:42<00:00,  8.90it/s]\n",
            "  0%|          | 0/500 [00:00<?, ?it/s]"
          ],
          "name": "stderr"
        },
        {
          "output_type": "stream",
          "text": [
            "\n",
            "Epoch 5 complete!\n",
            "Validation Loss : 1.2350023027887955\n",
            "Validation F1 score: 0.4656, Recall: 0.4388, MCC: 0.3535\n"
          ],
          "name": "stdout"
        },
        {
          "output_type": "stream",
          "text": [
            "100%|██████████| 500/500 [00:56<00:00,  8.93it/s]\n"
          ],
          "name": "stderr"
        },
        {
          "output_type": "stream",
          "text": [
            "\n",
            "Minitrain F1 score: 0.6174, Recall: 0.6058, MCC: 0.5397\n",
            "The model has been saved in models/TransQuest/monotransquest-da-multilingual_lr_2e-05_val_loss_1.01851_ep_3.pt\n"
          ],
          "name": "stdout"
        }
      ]
    },
    {
      "cell_type": "markdown",
      "metadata": {
        "id": "gw2sOrIvCEZz"
      },
      "source": [
        "You can download the model saved in the folder \"models\" by browsing the files on the left of the colab notebook.\n",
        "\n",
        "Please note that you might run out of CUDA memory. As we cannot control the GPU assignments on Colab, it is possible to have GPUs that do not have enough RAM to handle the size of the pretrained models. In our experiments, at least 15-16 GB was used."
      ]
    },
    {
      "cell_type": "code",
      "metadata": {
        "colab": {
          "base_uri": "https://localhost:8080/"
        },
        "id": "_f4zThMtvqC1",
        "outputId": "c86461be-1098-440d-f6c9-e14def0d89eb"
      },
      "source": [
        "# If you encounter a CUDA out of memory error: \n",
        "# - uncomment the kill command, run the \"kill\" command (and comment it)\n",
        "# - reduce the batch size or maxlen parameters\n",
        "# - then run all cells from the begining \n",
        "\n",
        "# If you get an ugly print of tqdm (all iterations are showed), follow the\n",
        "# above first and last steps\n",
        "printm()\n",
        "# !kill -9 -1"
      ],
      "execution_count": null,
      "outputs": [
        {
          "output_type": "stream",
          "text": [
            "Gen RAM Free: 11.1 GB  | Proc size: 6.3 GB\n",
            "GPU RAM Free: 16280MB | Used: 0MB | Util   0%           Total 16280MB\n"
          ],
          "name": "stdout"
        }
      ]
    },
    {
      "cell_type": "markdown",
      "metadata": {
        "id": "nDBtVu7JSbUK"
      },
      "source": [
        "## Prediction"
      ]
    },
    {
      "cell_type": "code",
      "metadata": {
        "colab": {
          "base_uri": "https://localhost:8080/"
        },
        "id": "kAfbt0FjkCfM",
        "outputId": "962b8ea2-0490-4bce-d10b-a75d6889ed14"
      },
      "source": [
        "print(\"Creation of the results' folder...\")\n",
        "!mkdir -p results"
      ],
      "execution_count": null,
      "outputs": [
        {
          "output_type": "stream",
          "text": [
            "Creation of the results' folder...\n"
          ],
          "name": "stdout"
        }
      ]
    },
    {
      "cell_type": "code",
      "metadata": {
        "id": "m3r8_npVf30D"
      },
      "source": [
        "def test_prediction(net, device, dataloader,\n",
        "                    with_labels=True, result_file=\"results/output.txt\"):\n",
        "    \"\"\"\n",
        "    Predict the probabilities on a dataset with\n",
        "    or without labels and print the result in a file\n",
        "    \"\"\"\n",
        "    net.eval()\n",
        "    w = open(result_file, 'w')\n",
        "    probs_all = []\n",
        "\n",
        "    with torch.no_grad():\n",
        "        if with_labels:\n",
        "            for seq, attn_masks, tt_ids, _, _ in tqdm(dataloader):\n",
        "                seq, attn_masks, tt_ids = seq.to(device), \\\n",
        "                     attn_masks.to(device), tt_ids.to(device)\n",
        "\n",
        "                logits, _ = net(seq, attn_masks, tt_ids)\n",
        "                probs = get_probs_from_logits(logits.squeeze(-1)).squeeze(-1)\n",
        "                probs_all += probs.tolist()\n",
        "        else:\n",
        "            for seq, attn_masks, tt_ids, _ in tqdm(dataloader):\n",
        "                seq, attn_masks, tt_ids = seq.to(device), \\\n",
        "                     attn_masks.to(device), tt_ids.to(device)\n",
        "\n",
        "                logits, _ = net(seq, attn_masks, tt_ids)\n",
        "                probs = get_probs_from_logits(logits.squeeze(-1)).squeeze(-1)\n",
        "                probs_all += probs.tolist()\n",
        "\n",
        "    w.writelines(str(prob)+'\\n' for prob in probs_all)\n",
        "    w.close()"
      ],
      "execution_count": null,
      "outputs": []
    },
    {
      "cell_type": "code",
      "metadata": {
        "id": "bU-U-uDcLH5k"
      },
      "source": [
        "def load_and_predict(bert_model, test_loader, path_to_model, path_to_output):\n",
        "  \"\"\"\n",
        "  Create a model and load weights from previous training, then\n",
        "  predict the probabilities for a test_loader.\n",
        "  \"\"\"\n",
        "  model = SentencePairClassifier(bert_model)\n",
        "  if torch.cuda.device_count() > 1:  # if multiple GPUs\n",
        "      print(\"Let's use\", torch.cuda.device_count(), \"GPUs!\")\n",
        "      model = nn.DataParallel(model)\n",
        "\n",
        "  print()\n",
        "  print(\"Loading the weights of the model...\")\n",
        "  model.load_state_dict(torch.load(path_to_model))\n",
        "\n",
        "  model.to(device)\n",
        "\n",
        "  print(\"Predicting on test data...\")\n",
        "  test_prediction(net=model, device=device, dataloader=test_loader,\n",
        "                  with_labels=True, \n",
        "                  result_file=path_to_output)\n",
        "  print()\n",
        "  print(\"Predictions are available in : {}\".format(path_to_output))"
      ],
      "execution_count": null,
      "outputs": []
    },
    {
      "cell_type": "code",
      "metadata": {
        "id": "4uLwnJjQeI7x"
      },
      "source": [
        "def evaluate_pred_test(labels_test, preds_test):\n",
        "  accuracy = accuracy_score(labels_test, preds_test)\n",
        "  bac = balanced_accuracy_score(labels_test, preds_test, adjusted=True)\n",
        "  f1 = f1_score(labels_test, preds_test)\n",
        "  precision = precision_score(labels_test, preds_test)\n",
        "  recall = recall_score(labels_test, preds_test)\n",
        "  cnf = confusion_matrix(labels_test, preds_test)\n",
        "  mcc = matthews_corrcoef(labels_test, preds_test)\n",
        "  print(\"-----Evaluation-----\")\n",
        "  if cnf.shape == (2,2):\n",
        "    print(\"TP: {tp}, TN: {tn}, FP: {fp}, FN: {fn}\".\n",
        "          format(tp=cnf[1][1], tn=cnf[0][0], fp=cnf[0][1], fn=cnf[1][0]))\n",
        "    print(\"F1: \", f1)\n",
        "    print(\"Precision: \", precision)\n",
        "    print(\"Recall: \", recall)\n",
        "  print(\"MCC: \", mcc)\n",
        "  print(\"Accuracy: \", accuracy)\n",
        "\n",
        "def best_threshold(labels, probs, use_f1=True):\n",
        "  if use_f1:\n",
        "    precision, recall, thresholds = precision_recall_curve(labels, probs)\n",
        "    fscore = (2 * precision * recall) / (precision + recall)\n",
        "    # locate the index of the largest f score\n",
        "    ix = np.nanargmax(fscore)\n",
        "    print('Best Threshold=%f, F-Score=%.3f' % (thresholds[ix], fscore[ix]))\n",
        "    threshold = thresholds[ix]\n",
        "  else:\n",
        "    thresholds = np.linspace(0, 1, 20)\n",
        "    mcc_thres = np.array([matthews_corrcoef(labels,\n",
        "                        (probs >= t).astype('uint8')) for t in thresholds])\n",
        "    ix = np.nanargmax(mcc_thres)\n",
        "    print('Best Threshold=%f, MCC=%.3f' % (thresholds[ix], mcc_thres[ix]))\n",
        "    threshold = thresholds[ix]\n",
        "  return threshold"
      ],
      "execution_count": null,
      "outputs": []
    },
    {
      "cell_type": "markdown",
      "metadata": {
        "id": "5-VJObbxwL6r"
      },
      "source": [
        "We share below our pretrained models in order to reproduce results.\n",
        "\n",
        "We use the model parameters that resulted in the best validation loss (saved to ```path_to_model```). Here, one can also use other pretrained models to directly compare.\n",
        "\n",
        "You can download them and upload the ```model.pt``` files in the *models* folder and edit the ```path_to_model``` variable. Link:\n",
        "\n",
        "https://drive.google.com/drive/folders/1Akt6PmfMejVW2nI-DIrdJjTGOPkCzmJD?usp=sharing"
      ]
    },
    {
      "cell_type": "markdown",
      "metadata": {
        "id": "xmRI581UZU_D"
      },
      "source": [
        "---\n",
        "The results included in the output of the cells below belong to the model as defined above. That is, we use\n",
        "* TransQuest pretrained weights from Direct Assessment (DA) training in a transfer-learning fashion\n",
        "* random flipping of the training sentences\n",
        "* random masking of 20\\% of tokens\n"
      ]
    },
    {
      "cell_type": "code",
      "metadata": {
        "id": "u7CNrn7t9XNg"
      },
      "source": [
        "# Choose threshold to maximize precision_recall (F1), else to maximize MCC\n",
        "use_f1 = True"
      ],
      "execution_count": null,
      "outputs": []
    },
    {
      "cell_type": "code",
      "metadata": {
        "id": "Uu3thDXxeV7w"
      },
      "source": [
        "predict_on_train_set = False\n",
        "if predict_on_train_set:\n",
        "  print(\"Reading training data without masking...\")\n",
        "  train_set = CustomDataset(df_train, maxlen, bert_model, mask_prob=mask_prob,\n",
        "                            eval_set=True)\n",
        "  train_loader = DataLoader(train_set, batch_size=bs, num_workers=2)\n",
        "\n",
        "  print(\"Predicting on train data...\")\n",
        "  test_prediction(net=net, device=device, dataloader=train_loader,\n",
        "                  with_labels=True, result_file='results/output_train.txt')\n",
        "  print()\n",
        "  labels_train = df_train['critical']\n",
        "  probs_train = pd.read_csv('results/output_train.txt', header=None)[0]\n",
        "  threshold = best_threshold(labels_train, probs_train, use_f1)\n",
        "  preds_train = (probs_train >= threshold).astype('uint8')\n",
        "  print(\"Eval on Training data:\")\n",
        "  evaluate_pred_test(labels_train, preds_train)"
      ],
      "execution_count": null,
      "outputs": []
    },
    {
      "cell_type": "code",
      "metadata": {
        "colab": {
          "base_uri": "https://localhost:8080/"
        },
        "id": "UE3j2mdZKjOx",
        "outputId": "532293b9-73bb-4311-fc7f-b4a919f6b8fe"
      },
      "source": [
        "# path_to_model = .... # other models here\n",
        "path_to_output_file = 'results/output.txt'\n",
        "print(\"Reading test data...\")\n",
        "test_set = CustomDataset(df_test, maxlen, bert_model, eval_set=True)\n",
        "test_loader = DataLoader(test_set, batch_size=bs, num_workers=2)\n",
        "load_and_predict(bert_model, test_loader, path_to_model, path_to_output_file)"
      ],
      "execution_count": null,
      "outputs": [
        {
          "output_type": "stream",
          "text": [
            "Reading test data...\n"
          ],
          "name": "stdout"
        },
        {
          "output_type": "stream",
          "text": [
            "Some weights of the model checkpoint at TransQuest/monotransquest-da-multilingual were not used when initializing XLMRobertaModel: ['classifier.dense.bias', 'classifier.dense.weight', 'classifier.out_proj.weight', 'classifier.out_proj.bias']\n",
            "- This IS expected if you are initializing XLMRobertaModel from the checkpoint of a model trained on another task or with another architecture (e.g. initializing a BertForSequenceClassification model from a BertForPreTraining model).\n",
            "- This IS NOT expected if you are initializing XLMRobertaModel from the checkpoint of a model that you expect to be exactly identical (initializing a BertForSequenceClassification model from a BertForSequenceClassification model).\n"
          ],
          "name": "stderr"
        },
        {
          "output_type": "stream",
          "text": [
            "\n",
            "Loading the weights of the model...\n"
          ],
          "name": "stdout"
        },
        {
          "output_type": "stream",
          "text": [
            "\r  0%|          | 0/999 [00:00<?, ?it/s]"
          ],
          "name": "stderr"
        },
        {
          "output_type": "stream",
          "text": [
            "Predicting on test data...\n"
          ],
          "name": "stdout"
        },
        {
          "output_type": "stream",
          "text": [
            "100%|██████████| 999/999 [01:49<00:00,  9.15it/s]"
          ],
          "name": "stderr"
        },
        {
          "output_type": "stream",
          "text": [
            "\n",
            "Predictions are available in : results/output.txt\n"
          ],
          "name": "stdout"
        },
        {
          "output_type": "stream",
          "text": [
            "\n"
          ],
          "name": "stderr"
        }
      ]
    },
    {
      "cell_type": "markdown",
      "metadata": {
        "id": "HCVAtClcC1qT"
      },
      "source": [
        "You can download the predictions saved in the folder \"results\" by browsing the files on the left of the Colab Notebook."
      ]
    },
    {
      "cell_type": "markdown",
      "metadata": {
        "id": "Ywxq1c8DSiV3"
      },
      "source": [
        "## Evaluation"
      ]
    },
    {
      "cell_type": "code",
      "metadata": {
        "id": "kGNcH9DeBHrk"
      },
      "source": [
        "def eval_lang_pairs(preds_test, df_test):\n",
        "  language_pairs = ['en-cs', 'en-ja', 'en-zh', 'en-de']\n",
        "  for lang in language_pairs:\n",
        "    df_test_lang = df_test[df_test['language_pair'] == lang]\n",
        "    if len(df_test_lang)==0:\n",
        "      continue\n",
        "    labels_test_lang = df_test_lang['critical'] \n",
        "    preds_test_lang = preds_test[df_test_lang.index.tolist()]\n",
        "    print(\"\\n For language pair {}\".format(lang))\n",
        "    evaluate_pred_test(labels_test_lang, preds_test_lang)"
      ],
      "execution_count": null,
      "outputs": []
    },
    {
      "cell_type": "markdown",
      "metadata": {
        "id": "iv2ut3CsfaIF"
      },
      "source": [
        "You can also directly use the predicted probabilities saved to a file such as we have saved above. The next cell loads the predictions and computes the best threshold in order to maximize the F1 score.\n",
        "\n",
        "Our other predictions can be found here:\n",
        "\n",
        "https://drive.google.com/drive/folders/1x1_T9s1VAqab9ZVtI9YyILo9MFSr9rks?usp=sharing"
      ]
    },
    {
      "cell_type": "code",
      "metadata": {
        "colab": {
          "base_uri": "https://localhost:8080/"
        },
        "id": "d9UimpndAWbt",
        "outputId": "365de9fe-f5ec-45bc-9891-7a1d827edd85"
      },
      "source": [
        "labels_test = df_test['critical']  # true labels\n",
        "#### evaluation\n",
        "probs_test = pd.read_csv(path_to_output_file, header=None)[0]\n",
        "# best threshold\n",
        "threshold = best_threshold(labels_test, probs_test, use_f1)\n",
        "preds_test = (probs_test>=threshold).astype('uint8')"
      ],
      "execution_count": null,
      "outputs": [
        {
          "output_type": "stream",
          "text": [
            "Best Threshold=0.420166, F-Score=0.494\n"
          ],
          "name": "stdout"
        }
      ]
    },
    {
      "cell_type": "markdown",
      "metadata": {
        "id": "5LGJRzdN7UOT"
      },
      "source": [
        "Link for the threshold choice problem : https://machinelearningmastery.com/threshold-moving-for-imbalanced-classification/"
      ]
    },
    {
      "cell_type": "code",
      "metadata": {
        "colab": {
          "base_uri": "https://localhost:8080/"
        },
        "id": "wxGScN6biSTw",
        "outputId": "3b7808d9-ef88-4f2d-caa8-d36b32bb0f7f"
      },
      "source": [
        "evaluate_pred_test(labels_test, preds_test)"
      ],
      "execution_count": null,
      "outputs": [
        {
          "output_type": "stream",
          "text": [
            "-----Evaluation-----\n",
            "TP: 401, TN: 2772, FP: 546, FN: 277\n",
            "F1:  0.49353846153846154\n",
            "Precision:  0.42344244984160506\n",
            "Recall:  0.5914454277286135\n",
            "MCC:  0.37680248358097124\n",
            "Accuracy:  0.794044044044044\n"
          ],
          "name": "stdout"
        }
      ]
    },
    {
      "cell_type": "markdown",
      "metadata": {
        "id": "YM_7r3dZ308j"
      },
      "source": [
        "Evaluation for each language pair"
      ]
    },
    {
      "cell_type": "code",
      "metadata": {
        "colab": {
          "base_uri": "https://localhost:8080/"
        },
        "id": "q5aR8xdM3kVk",
        "outputId": "f9325c88-aa66-4a17-e0b8-bb7cb9a9458e"
      },
      "source": [
        "eval_lang_pairs(preds_test, df_test)"
      ],
      "execution_count": null,
      "outputs": [
        {
          "output_type": "stream",
          "text": [
            "\n",
            " For language pair en-cs\n",
            "-----Evaluation-----\n",
            "TP: 88, TN: 737, FP: 102, FN: 72\n",
            "F1:  0.5028571428571429\n",
            "Precision:  0.4631578947368421\n",
            "Recall:  0.55\n",
            "MCC:  0.4003745260589834\n",
            "Accuracy:  0.8258258258258259\n",
            "\n",
            " For language pair en-ja\n",
            "-----Evaluation-----\n",
            "TP: 32, TN: 814, FP: 89, FN: 64\n",
            "F1:  0.2949308755760369\n",
            "Precision:  0.2644628099173554\n",
            "Recall:  0.3333333333333333\n",
            "MCC:  0.2120741129705655\n",
            "Accuracy:  0.8468468468468469\n",
            "\n",
            " For language pair en-zh\n",
            "-----Evaluation-----\n",
            "TP: 85, TN: 686, FP: 172, FN: 56\n",
            "F1:  0.42713567839195976\n",
            "Precision:  0.33073929961089493\n",
            "Recall:  0.6028368794326241\n",
            "MCC:  0.3204874383384705\n",
            "Accuracy:  0.7717717717717718\n",
            "\n",
            " For language pair en-de\n",
            "-----Evaluation-----\n",
            "TP: 196, TN: 535, FP: 183, FN: 85\n",
            "F1:  0.5939393939393939\n",
            "Precision:  0.5171503957783641\n",
            "Recall:  0.697508896797153\n",
            "MCC:  0.4101521033038911\n",
            "Accuracy:  0.7317317317317318\n"
          ],
          "name": "stdout"
        }
      ]
    },
    {
      "cell_type": "markdown",
      "metadata": {
        "id": "TlwUYaY6uHEp"
      },
      "source": [
        "## Comparison of different methods\n"
      ]
    },
    {
      "cell_type": "code",
      "metadata": {
        "colab": {
          "base_uri": "https://localhost:8080/"
        },
        "id": "gRQtbOfTcww0",
        "outputId": "fbdc2bd7-301b-4580-8a0e-75eceeee8ec0"
      },
      "source": [
        "freeze_bert = False\n",
        "maxlen = 200  # 75% below\n",
        "bs = 4 # batch size\n",
        "\n",
        "# the gradient accumulation adds gradients over an\n",
        "# effective batch of size: bs * iters_to_accumulate.\n",
        "# If set to \"1\", you get the usual batch size\n",
        "iters_to_accumulate = 10\n",
        "lr = 2e-5 # learning rate\n",
        "epochs = 5  # number of training epochs\n",
        "size_minitrain = 2000\n",
        "weight_decay = 1e-2\n",
        "mask_prob = 0.2 # percentage of tokens in sentence that we mask\n",
        "\n",
        "# increase weight for pos label for data imbalance\n",
        "pos_weight = ((df_train['critical'] == 0).sum() /\n",
        "              (df_train['critical'] == 1).sum())\n",
        "pos_weight = torch.Tensor([pos_weight.item()])\n",
        "print('Positive weight for imbalance:', pos_weight)"
      ],
      "execution_count": null,
      "outputs": [
        {
          "output_type": "stream",
          "text": [
            "Positive weight for imbalance: tensor([4.6262])\n"
          ],
          "name": "stdout"
        }
      ]
    },
    {
      "cell_type": "code",
      "metadata": {
        "id": "RX5kL0jalgcI"
      },
      "source": [
        "# to free up as much memory as possible for the GPU,\n",
        "# garbage collect + empty cache\n",
        "gc.collect()\n",
        "torch.cuda.empty_cache()\n",
        "# tqdm._instances.clear()"
      ],
      "execution_count": null,
      "outputs": []
    },
    {
      "cell_type": "code",
      "metadata": {
        "id": "SrNBXWM40xzp"
      },
      "source": [
        "use_f1 = True\n",
        "\n",
        "# Configs for experiments: (model, use_flip, mask_tokens)\n",
        "models = [\n",
        "          ('bert-base-uncased', False, False),\n",
        "          ('xlm-roberta-large', False, False),\n",
        "          ('TransQuest/monotransquest-da-multilingual', False, False),\n",
        "          ('TransQuest/monotransquest-da-multilingual', True, False),\n",
        "          ('TransQuest/monotransquest-da-multilingual', False, True),\n",
        "          # this was already done above:\n",
        "          #('TransQuest/monotransquest-da-multilingual', True, True),\n",
        "          \n",
        "]"
      ],
      "execution_count": null,
      "outputs": []
    },
    {
      "cell_type": "code",
      "metadata": {
        "id": "T0W22n5T0_4s"
      },
      "source": [
        "def full_experiment(model_name, use_flip, mask_tokens): \n",
        "  #### training\n",
        "  print(\"--------------- Using Model:\", model_name)\n",
        "  print(\"--------------- Flipping sentences:\", use_flip,\n",
        "        \", Masking tokens:\", mask_tokens)\n",
        "  _, path_to_model = train(model_name,\n",
        "                          use_flip=use_flip, mask_tokens=mask_tokens)\n",
        "  path_to_output = \"predictions_\"\n",
        "  path_to_output += model_name + (\"-flip\" if use_flip else \"-noflip\") + \\\n",
        "                                 (\"-masked\" if mask_tokens else \"-unmasked\") + \\\n",
        "                                 \".txt\"\n",
        "  path_to_output = path_to_output.replace(\"/\", \"-\")\n",
        "  #### testing\n",
        "  test_set = CustomDataset(df_test, maxlen, model_name, eval_set=True)\n",
        "  test_loader = DataLoader(test_set, batch_size=bs, num_workers=2)\n",
        "  load_and_predict(model_name, test_loader, path_to_model, path_to_output)\n",
        "  labels_test = df_test['critical']  # true labels\n",
        "  #### evaluation\n",
        "  probs_test = pd.read_csv(path_to_output, header=None)[0]\n",
        "  # best threshold\n",
        "  threshold = best_threshold(labels_test, probs_test, use_f1)\n",
        "  preds_test = (probs_test>=threshold).astype('uint8')\n",
        "  print(\"Predictions for \", model_name, \"flip:\", use_flip, \", masking:\", mask_tokens)\n",
        "  evaluate_pred_test(labels_test, preds_test)\n",
        "  eval_lang_pairs(preds_test, df_test)\n",
        "  "
      ],
      "execution_count": null,
      "outputs": []
    },
    {
      "cell_type": "markdown",
      "metadata": {
        "id": "bCc_-qBDC5ZG"
      },
      "source": [
        "Please not that in case you get memory errors with CUDA, the best procedure is to restart the runtime, rerun the definitions and repeat only the one experiment you want to execute."
      ]
    },
    {
      "cell_type": "code",
      "metadata": {
        "colab": {
          "base_uri": "https://localhost:8080/",
          "height": 1000,
          "referenced_widgets": [
            "063ece83ef7e41b0831e4f7d273134df",
            "2ee0ce1237a04905a4076da52bca845c",
            "9b249d07fdfd40a783ec421907f76bdb",
            "b729c79ab41441878fa21cf7678ca77d",
            "786dcb53bab94576b2258c926b2b53b5",
            "b984740e3e024be3af9c52eea586af9c",
            "afeba37785a6414cad2f1dc7a7b1d1b1",
            "5cca938d7b1f448c8c9844f00ff10ce5",
            "5542a2572dcb49adb2cd5301a39c75ba",
            "a3b6e2e2053d4b13a24c82a57c1c9794",
            "998c5cc705124cceaa69887a64a174a1",
            "41023de98dad44dd90ea2b794115c69b",
            "af76f2a70675446884bb29c64472e5a9",
            "40fef7b3153948cbac2a1e5ab04c3b43",
            "1500d6e8ecb64281aa525769600cc5db",
            "fcabc25d6bb74c98a5f9e4641a3d1e94",
            "2dfc56695e074ee9a2ec10914f325341",
            "264554a157e248b99b5299e4bdc42c79",
            "593008c795f9404a9dcef94681ea87e9",
            "dac1e037385640d787c2a4004d9a28a2",
            "a7909a0c691a43538cb1892d4657002e",
            "48b673037a944b34a7edd918f8a4614a",
            "8ec20c1df74b4db5b6f888dae94d386e",
            "497816da6d6c4acc92e7536c7b9d2e53",
            "23a5bb5237c5431c991bf9f83da2acb5",
            "8a86b527bd4e455ca57387e583f02fda",
            "dfc2133b190a48b3891a5071ab2da1f6",
            "1d8398882d6c460d9339ee83c924ceb1",
            "b9eaf9a68c834a73b110d18110d250c1",
            "a01a2aff5a97423d90e9951e643a9b29",
            "24130be5709c4ad0807c4851e08c892c",
            "57a11a0da1484a72bc78d6c5d5a4917b",
            "9d4a162317ef4680af3df830d6566e3f",
            "f7aadd8de42b4d6c9d3df7416ffb6dfb",
            "cf0f1a68fa4c47229d1bb214382d22b2",
            "102459d5e8ee430fbb0c0114663e4d44",
            "40e4f22226ba4b86a1e428ac22d1cd8d",
            "e28b3b4f41ac447a9f00e095dd65d162",
            "452df53597c04f27b6561171e8eb63e8",
            "f58d265045ca44649e0755ccec417b22",
            "a51699d80ae4417188e67009ac2f283d",
            "93276664d5e6478082ce0f68a5293386",
            "0b698717ff4346d7ade2fb66dfa7a45c",
            "eabe5acd9d4748c7b90ddb148c3b7de4",
            "d2c9fb15413847ebbae8ad62a214061f",
            "37cdb5e9e3e1455486970e5abe49adcb",
            "b41d45b6015b4b0eb965f7bfbef72503",
            "63e1d13f1a5242b2b6a70188cb203bea",
            "dbb4ca6fe3824938a683365088a739fd",
            "1083e9c45106454fbae9fdd922893c64",
            "c81d6462935c4c05a862cb13bbc7f9df",
            "c5c80f653c8d44f7815fdc95aa0e89ee",
            "d6e88000ecfb499eaee8c084f63ce98e",
            "fa88ffeb671448a2a264ee289e581f06",
            "0369d3f3b02e424e86a5e8605eaaead7",
            "b2884ec035294299bb64bc0fb7b4d09e",
            "92b9fd5133374eadbf940150692d616d",
            "dc6f3b6c800148bd83bd429fb12509a8",
            "62b40275683c464da438b8c14ad7c200",
            "8a469cd3333f45cab75cd869263d5867",
            "a75ac9b22dcf43269d9713269226f366",
            "5bcabf47d5ad48e18f13b348316c9471",
            "1d688e820b8346bfba7399765920e3bf",
            "2664b940d91b4164be49d2c19bb2dc15",
            "ea2d6ca736754396867264c688c18130",
            "914969982ad14130a375ce8879b95724",
            "1472c4cdf8fa44a8a043ac5464ffbb82",
            "47135755d275406c8ca6aa203e1f2cd4",
            "01a6d7289bc54f7aa94401666b8e5d2f",
            "8f585769e42c46368742cbd31a3e7905",
            "050f71a9250f4e62b2b178c17ec9b3e3",
            "e4f88a0935444f61b1c2ebc227196a63",
            "c94ab6665ac84671b8532753f635c9e6",
            "297086a9925a4a23b1e607aa3cf08861",
            "9c3f2f1205ed49908b8e5c11586324c3",
            "b044a1df89fd4877ac387a6a2201294b",
            "ea5708141cf54c0998ec91c3222a373b",
            "0f9f8b2849be420496787e27e9fe0829",
            "3dcab9708e9543399b01fa5cfd9a45d0",
            "dcf5943027734e97b426028c9570d75f",
            "2513490d6a064ecc9343e06c3491dad5",
            "054062031b354d60a736f2b0be8ab01c",
            "27a1447394184f61b339a15317e64189",
            "a55a2a479f354750a94d93828809ab5c",
            "b654ab3477ee449ebebc29b0e78ad51d",
            "f62802b443f64ceda2034dffc885e0a2",
            "4664015586fe472eb1044d353ad16b77",
            "b031d54d6a304cb4b98e0b884c16d63b",
            "570ba1a11e7a4b2a9c98f85e7f20cc86",
            "9b81fc09eff64b1bb0461666672f5d7b",
            "48ea796371e149de9f5fd0a9f01b00b0",
            "4e6970a4422f492eb2979f6c1a3ff228",
            "89859e3c632845b3ba12e49972110d3c",
            "0d0d7a48bc2d49ce938a708743656d0e",
            "3591d195c8e3405a9e61dae15e07d3cb",
            "b05b1207a7cd42c0be6428c69841bf4e",
            "08a48847458146fa96f860a02c95808e",
            "8df8ca7ee58443808f06416dd36c00bc",
            "737f128df95c412191e5402cbbed42c0",
            "20629f76a8b44f5a988bd42ae4fb3c5d",
            "ca174dffa27d40cd9fedf2f375330fd2",
            "338bce132b22478484745703ac17d1ad",
            "d30be2cc774a4000aab7ffcf3e238043",
            "0a1721d8d2504d2089371912103cf0ce",
            "2cffb0a952c54b8baf4f14df678311a2",
            "005fc16487a24dcc8663a9df8bd6c18b",
            "f9147ce7232a498da7f8a8deae3e8e66",
            "c30a07f12a424df4a980fdc7342b8b3f",
            "1048c8a356554da196e552f54e64808f",
            "382dc05c8e0e454fb519ae864c676027",
            "67973b9d2bd344d6985cd5125e4e3024",
            "27e632822c7747af9478d12083d1572e"
          ]
        },
        "id": "x-fxR4IBuLXe",
        "outputId": "3da0a5f5-b5f8-4233-a980-fa112ff2c819"
      },
      "source": [
        "## BERT with backtranslations\n",
        "bert_exp = models[0]\n",
        "full_experiment(bert[0], bert[1], bert[2])\n",
        "gc.collect()\n",
        "torch.cuda.empty_cache()\n",
        "tqdm._instances.clear()\n",
        "\n",
        "# XLM-RoBERTa\n",
        "xlm = models[1]\n",
        "full_experiment(xlm[0], xlm[1], xlm[2])\n",
        "gc.collect()\n",
        "torch.cuda.empty_cache()\n",
        "tqdm._instances.clear()"
      ],
      "execution_count": null,
      "outputs": [
        {
          "output_type": "stream",
          "text": [
            "--------------- Using Model: bert-base-uncased\n",
            "--------------- Flipping sentences: False , Masking tokens: False\n",
            "Reading training data...\n"
          ],
          "name": "stdout"
        },
        {
          "output_type": "display_data",
          "data": {
            "application/vnd.jupyter.widget-view+json": {
              "model_id": "063ece83ef7e41b0831e4f7d273134df",
              "version_major": 2,
              "version_minor": 0
            },
            "text/plain": [
              "HBox(children=(FloatProgress(value=0.0, description='Downloading', max=28.0, style=ProgressStyle(description_w…"
            ]
          },
          "metadata": {
            "tags": []
          }
        },
        {
          "output_type": "stream",
          "text": [
            "\n"
          ],
          "name": "stdout"
        },
        {
          "output_type": "display_data",
          "data": {
            "application/vnd.jupyter.widget-view+json": {
              "model_id": "5542a2572dcb49adb2cd5301a39c75ba",
              "version_major": 2,
              "version_minor": 0
            },
            "text/plain": [
              "HBox(children=(FloatProgress(value=0.0, description='Downloading', max=570.0, style=ProgressStyle(description_…"
            ]
          },
          "metadata": {
            "tags": []
          }
        },
        {
          "output_type": "stream",
          "text": [
            "\n"
          ],
          "name": "stdout"
        },
        {
          "output_type": "display_data",
          "data": {
            "application/vnd.jupyter.widget-view+json": {
              "model_id": "2dfc56695e074ee9a2ec10914f325341",
              "version_major": 2,
              "version_minor": 0
            },
            "text/plain": [
              "HBox(children=(FloatProgress(value=0.0, description='Downloading', max=231508.0, style=ProgressStyle(descripti…"
            ]
          },
          "metadata": {
            "tags": []
          }
        },
        {
          "output_type": "stream",
          "text": [
            "\n"
          ],
          "name": "stdout"
        },
        {
          "output_type": "display_data",
          "data": {
            "application/vnd.jupyter.widget-view+json": {
              "model_id": "23a5bb5237c5431c991bf9f83da2acb5",
              "version_major": 2,
              "version_minor": 0
            },
            "text/plain": [
              "HBox(children=(FloatProgress(value=0.0, description='Downloading', max=466062.0, style=ProgressStyle(descripti…"
            ]
          },
          "metadata": {
            "tags": []
          }
        },
        {
          "output_type": "stream",
          "text": [
            "\n",
            "Reading validation data...\n"
          ],
          "name": "stdout"
        },
        {
          "output_type": "display_data",
          "data": {
            "application/vnd.jupyter.widget-view+json": {
              "model_id": "9d4a162317ef4680af3df830d6566e3f",
              "version_major": 2,
              "version_minor": 0
            },
            "text/plain": [
              "HBox(children=(FloatProgress(value=0.0, description='Downloading', max=440473133.0, style=ProgressStyle(descri…"
            ]
          },
          "metadata": {
            "tags": []
          }
        },
        {
          "output_type": "stream",
          "text": [
            "\n"
          ],
          "name": "stdout"
        },
        {
          "output_type": "stream",
          "text": [
            "Some weights of the model checkpoint at bert-base-uncased were not used when initializing BertModel: ['cls.seq_relationship.weight', 'cls.predictions.transform.dense.bias', 'cls.predictions.transform.LayerNorm.bias', 'cls.seq_relationship.bias', 'cls.predictions.bias', 'cls.predictions.transform.LayerNorm.weight', 'cls.predictions.decoder.weight', 'cls.predictions.transform.dense.weight']\n",
            "- This IS expected if you are initializing BertModel from the checkpoint of a model trained on another task or with another architecture (e.g. initializing a BertForSequenceClassification model from a BertForPreTraining model).\n",
            "- This IS NOT expected if you are initializing BertModel from the checkpoint of a model that you expect to be exactly identical (initializing a BertForSequenceClassification model from a BertForSequenceClassification model).\n"
          ],
          "name": "stderr"
        },
        {
          "output_type": "stream",
          "text": [
            "Total number of parameters: 109482240\n"
          ],
          "name": "stdout"
        },
        {
          "output_type": "stream",
          "text": [
            " 50%|█████     | 3550/7094 [02:28<02:28, 23.86it/s]"
          ],
          "name": "stderr"
        },
        {
          "output_type": "stream",
          "text": [
            "\n",
            "Iteration 3547/7094 of epoch 1 complete. Loss : 1.1578311427192585 \n"
          ],
          "name": "stdout"
        },
        {
          "output_type": "stream",
          "text": [
            "100%|██████████| 7094/7094 [04:54<00:00, 24.05it/s]\n",
            "  0%|          | 0/374 [00:00<?, ?it/s]"
          ],
          "name": "stderr"
        },
        {
          "output_type": "stream",
          "text": [
            "\n",
            "Iteration 7094/7094 of epoch 1 complete. Loss : 1.0893193235469092 \n"
          ],
          "name": "stdout"
        },
        {
          "output_type": "stream",
          "text": [
            "100%|██████████| 374/374 [00:07<00:00, 53.14it/s]\n",
            "  0%|          | 0/500 [00:00<?, ?it/s]"
          ],
          "name": "stderr"
        },
        {
          "output_type": "stream",
          "text": [
            "\n",
            "Epoch 1 complete!\n",
            "Validation Loss : 1.0703547351500566\n",
            "Validation F1 score: 0.3939, Recall: 0.5108, MCC: 0.2243\n"
          ],
          "name": "stdout"
        },
        {
          "output_type": "stream",
          "text": [
            "100%|██████████| 500/500 [00:09<00:00, 53.63it/s]\n",
            "  0%|          | 0/7094 [00:00<?, ?it/s]"
          ],
          "name": "stderr"
        },
        {
          "output_type": "stream",
          "text": [
            "\n",
            "Minitrain F1 score: 0.4127, Recall: 0.5826, MCC: 0.2636\n",
            "Best validation loss improved from inf to 1.0703547351500566\n",
            "\n"
          ],
          "name": "stdout"
        },
        {
          "output_type": "stream",
          "text": [
            " 50%|█████     | 3550/7094 [02:28<02:30, 23.54it/s]"
          ],
          "name": "stderr"
        },
        {
          "output_type": "stream",
          "text": [
            "\n",
            "Iteration 3547/7094 of epoch 2 complete. Loss : 1.0466000386063468 \n"
          ],
          "name": "stdout"
        },
        {
          "output_type": "stream",
          "text": [
            "100%|██████████| 7094/7094 [04:56<00:00, 23.92it/s]\n",
            "  0%|          | 0/374 [00:00<?, ?it/s]"
          ],
          "name": "stderr"
        },
        {
          "output_type": "stream",
          "text": [
            "\n",
            "Iteration 7094/7094 of epoch 2 complete. Loss : 1.0160568246341168 \n"
          ],
          "name": "stdout"
        },
        {
          "output_type": "stream",
          "text": [
            "100%|██████████| 374/374 [00:07<00:00, 52.58it/s]\n",
            "  0%|          | 0/500 [00:00<?, ?it/s]"
          ],
          "name": "stderr"
        },
        {
          "output_type": "stream",
          "text": [
            "\n",
            "Epoch 2 complete!\n",
            "Validation Loss : 1.056592470184367\n",
            "Validation F1 score: 0.4094, Recall: 0.4712, MCC: 0.2555\n"
          ],
          "name": "stdout"
        },
        {
          "output_type": "stream",
          "text": [
            "100%|██████████| 500/500 [00:08<00:00, 56.18it/s]\n",
            "  0%|          | 0/7094 [00:00<?, ?it/s]"
          ],
          "name": "stderr"
        },
        {
          "output_type": "stream",
          "text": [
            "\n",
            "Minitrain F1 score: 0.4704, Recall: 0.5652, MCC: 0.3446\n",
            "Best validation loss improved from 1.0703547351500566 to 1.056592470184367\n",
            "\n"
          ],
          "name": "stdout"
        },
        {
          "output_type": "stream",
          "text": [
            " 50%|█████     | 3550/7094 [02:28<02:30, 23.52it/s]"
          ],
          "name": "stderr"
        },
        {
          "output_type": "stream",
          "text": [
            "\n",
            "Iteration 3547/7094 of epoch 3 complete. Loss : 0.9779357711656147 \n"
          ],
          "name": "stdout"
        },
        {
          "output_type": "stream",
          "text": [
            "100%|██████████| 7094/7094 [04:57<00:00, 23.86it/s]\n",
            "  0%|          | 0/374 [00:00<?, ?it/s]"
          ],
          "name": "stderr"
        },
        {
          "output_type": "stream",
          "text": [
            "\n",
            "Iteration 7094/7094 of epoch 3 complete. Loss : 0.9567903976363382 \n"
          ],
          "name": "stdout"
        },
        {
          "output_type": "stream",
          "text": [
            "100%|██████████| 374/374 [00:06<00:00, 56.90it/s]\n",
            "  0%|          | 0/500 [00:00<?, ?it/s]"
          ],
          "name": "stderr"
        },
        {
          "output_type": "stream",
          "text": [
            "\n",
            "Epoch 3 complete!\n",
            "Validation Loss : 1.0958022334996391\n",
            "Validation F1 score: 0.3939, Recall: 0.3741, MCC: 0.2649\n"
          ],
          "name": "stdout"
        },
        {
          "output_type": "stream",
          "text": [
            "100%|██████████| 500/500 [00:08<00:00, 56.29it/s]\n",
            "  0%|          | 0/7094 [00:00<?, ?it/s]"
          ],
          "name": "stderr"
        },
        {
          "output_type": "stream",
          "text": [
            "\n",
            "Minitrain F1 score: 0.5036, Recall: 0.5043, MCC: 0.4000\n"
          ],
          "name": "stdout"
        },
        {
          "output_type": "stream",
          "text": [
            " 50%|█████     | 3550/7094 [02:30<02:35, 22.85it/s]"
          ],
          "name": "stderr"
        },
        {
          "output_type": "stream",
          "text": [
            "\n",
            "Iteration 3547/7094 of epoch 4 complete. Loss : 0.8911970589747892 \n"
          ],
          "name": "stdout"
        },
        {
          "output_type": "stream",
          "text": [
            "100%|██████████| 7094/7094 [05:00<00:00, 23.59it/s]\n",
            "  0%|          | 0/374 [00:00<?, ?it/s]"
          ],
          "name": "stderr"
        },
        {
          "output_type": "stream",
          "text": [
            "\n",
            "Iteration 7094/7094 of epoch 4 complete. Loss : 0.8443090076694039 \n"
          ],
          "name": "stdout"
        },
        {
          "output_type": "stream",
          "text": [
            "100%|██████████| 374/374 [00:06<00:00, 53.92it/s]\n",
            "  0%|          | 0/500 [00:00<?, ?it/s]"
          ],
          "name": "stderr"
        },
        {
          "output_type": "stream",
          "text": [
            "\n",
            "Epoch 4 complete!\n",
            "Validation Loss : 1.231507798965602\n",
            "Validation F1 score: 0.3884, Recall: 0.3849, MCC: 0.2501\n"
          ],
          "name": "stdout"
        },
        {
          "output_type": "stream",
          "text": [
            "100%|██████████| 500/500 [00:09<00:00, 54.65it/s]\n",
            "  0%|          | 0/7094 [00:00<?, ?it/s]"
          ],
          "name": "stderr"
        },
        {
          "output_type": "stream",
          "text": [
            "\n",
            "Minitrain F1 score: 0.5984, Recall: 0.6522, MCC: 0.5088\n"
          ],
          "name": "stdout"
        },
        {
          "output_type": "stream",
          "text": [
            " 50%|█████     | 3550/7094 [02:31<02:37, 22.45it/s]"
          ],
          "name": "stderr"
        },
        {
          "output_type": "stream",
          "text": [
            "\n",
            "Iteration 3547/7094 of epoch 5 complete. Loss : 0.7347058861775437 \n"
          ],
          "name": "stdout"
        },
        {
          "output_type": "stream",
          "text": [
            "100%|██████████| 7094/7094 [05:06<00:00, 23.11it/s]\n",
            "  0%|          | 0/374 [00:00<?, ?it/s]"
          ],
          "name": "stderr"
        },
        {
          "output_type": "stream",
          "text": [
            "\n",
            "Iteration 7094/7094 of epoch 5 complete. Loss : 0.6496495280841752 \n"
          ],
          "name": "stdout"
        },
        {
          "output_type": "stream",
          "text": [
            "100%|██████████| 374/374 [00:07<00:00, 50.43it/s]\n",
            "  0%|          | 0/500 [00:00<?, ?it/s]"
          ],
          "name": "stderr"
        },
        {
          "output_type": "stream",
          "text": [
            "\n",
            "Epoch 5 complete!\n",
            "Validation Loss : 1.4987382744165028\n",
            "Validation F1 score: 0.3596, Recall: 0.4353, MCC: 0.1852\n"
          ],
          "name": "stdout"
        },
        {
          "output_type": "stream",
          "text": [
            "100%|██████████| 500/500 [00:09<00:00, 51.31it/s]\n"
          ],
          "name": "stderr"
        },
        {
          "output_type": "stream",
          "text": [
            "\n",
            "Minitrain F1 score: 0.6793, Recall: 0.8841, MCC: 0.6202\n",
            "The model has been saved in models/bert-base-uncased_lr_2e-05_val_loss_1.05659_ep_2.pt\n"
          ],
          "name": "stdout"
        },
        {
          "output_type": "stream",
          "text": [
            "Some weights of the model checkpoint at bert-base-uncased were not used when initializing BertModel: ['cls.seq_relationship.weight', 'cls.predictions.transform.dense.bias', 'cls.predictions.transform.LayerNorm.bias', 'cls.seq_relationship.bias', 'cls.predictions.bias', 'cls.predictions.transform.LayerNorm.weight', 'cls.predictions.decoder.weight', 'cls.predictions.transform.dense.weight']\n",
            "- This IS expected if you are initializing BertModel from the checkpoint of a model trained on another task or with another architecture (e.g. initializing a BertForSequenceClassification model from a BertForPreTraining model).\n",
            "- This IS NOT expected if you are initializing BertModel from the checkpoint of a model that you expect to be exactly identical (initializing a BertForSequenceClassification model from a BertForSequenceClassification model).\n"
          ],
          "name": "stderr"
        },
        {
          "output_type": "stream",
          "text": [
            "\n",
            "Loading the weights of the model...\n"
          ],
          "name": "stdout"
        },
        {
          "output_type": "stream",
          "text": [
            "\r  0%|          | 0/999 [00:00<?, ?it/s]"
          ],
          "name": "stderr"
        },
        {
          "output_type": "stream",
          "text": [
            "Predicting on test data...\n"
          ],
          "name": "stdout"
        },
        {
          "output_type": "stream",
          "text": [
            "100%|██████████| 999/999 [00:18<00:00, 54.88it/s]\n"
          ],
          "name": "stderr"
        },
        {
          "output_type": "stream",
          "text": [
            "\n",
            "Predictions are available in : predictions_bert-base-uncased-noflip-unmasked.txt\n",
            "Best Threshold=0.449707, F-Score=0.431\n",
            "Predictions for  bert-base-uncased flip: False , masking: False\n",
            "-----Evaluation-----\n",
            "TP: 428, TN: 2436, FP: 882, FN: 250\n",
            "F1:  0.43058350100603626\n",
            "Precision:  0.3267175572519084\n",
            "Recall:  0.6312684365781711\n",
            "MCC:  0.29220469158627965\n",
            "Accuracy:  0.7167167167167167\n",
            "\n",
            " For language pair en-cs\n",
            "-----Evaluation-----\n",
            "TP: 110, TN: 638, FP: 201, FN: 50\n",
            "F1:  0.46709129511677283\n",
            "Precision:  0.3536977491961415\n",
            "Recall:  0.6875\n",
            "MCC:  0.3547936337648813\n",
            "Accuracy:  0.7487487487487487\n",
            "\n",
            " For language pair en-ja\n",
            "-----Evaluation-----\n",
            "TP: 55, TN: 627, FP: 276, FN: 41\n",
            "F1:  0.2576112412177986\n",
            "Precision:  0.1661631419939577\n",
            "Recall:  0.5729166666666666\n",
            "MCC:  0.16734994337929757\n",
            "Accuracy:  0.6826826826826827\n",
            "\n",
            " For language pair en-zh\n",
            "-----Evaluation-----\n",
            "TP: 79, TN: 636, FP: 222, FN: 62\n",
            "F1:  0.35746606334841624\n",
            "Precision:  0.26245847176079734\n",
            "Recall:  0.5602836879432624\n",
            "MCC:  0.22881825553077423\n",
            "Accuracy:  0.7157157157157157\n",
            "\n",
            " For language pair en-de\n",
            "-----Evaluation-----\n",
            "TP: 184, TN: 535, FP: 183, FN: 97\n",
            "F1:  0.5679012345679013\n",
            "Precision:  0.5013623978201635\n",
            "Recall:  0.6548042704626335\n",
            "MCC:  0.3729987529522844\n",
            "Accuracy:  0.7197197197197197\n",
            "--------------- Using Model: xlm-roberta-large\n",
            "--------------- Flipping sentences: False , Masking tokens: False\n",
            "Reading training data...\n"
          ],
          "name": "stdout"
        },
        {
          "output_type": "display_data",
          "data": {
            "application/vnd.jupyter.widget-view+json": {
              "model_id": "a51699d80ae4417188e67009ac2f283d",
              "version_major": 2,
              "version_minor": 0
            },
            "text/plain": [
              "HBox(children=(FloatProgress(value=0.0, description='Downloading', max=513.0, style=ProgressStyle(description_…"
            ]
          },
          "metadata": {
            "tags": []
          }
        },
        {
          "output_type": "stream",
          "text": [
            "\n"
          ],
          "name": "stdout"
        },
        {
          "output_type": "display_data",
          "data": {
            "application/vnd.jupyter.widget-view+json": {
              "model_id": "dbb4ca6fe3824938a683365088a739fd",
              "version_major": 2,
              "version_minor": 0
            },
            "text/plain": [
              "HBox(children=(FloatProgress(value=0.0, description='Downloading', max=5069051.0, style=ProgressStyle(descript…"
            ]
          },
          "metadata": {
            "tags": []
          }
        },
        {
          "output_type": "stream",
          "text": [
            "\n"
          ],
          "name": "stdout"
        },
        {
          "output_type": "display_data",
          "data": {
            "application/vnd.jupyter.widget-view+json": {
              "model_id": "92b9fd5133374eadbf940150692d616d",
              "version_major": 2,
              "version_minor": 0
            },
            "text/plain": [
              "HBox(children=(FloatProgress(value=0.0, description='Downloading', max=9096718.0, style=ProgressStyle(descript…"
            ]
          },
          "metadata": {
            "tags": []
          }
        },
        {
          "output_type": "stream",
          "text": [
            "\n",
            "Reading validation data...\n"
          ],
          "name": "stdout"
        },
        {
          "output_type": "display_data",
          "data": {
            "application/vnd.jupyter.widget-view+json": {
              "model_id": "ea2d6ca736754396867264c688c18130",
              "version_major": 2,
              "version_minor": 0
            },
            "text/plain": [
              "HBox(children=(FloatProgress(value=0.0, description='Downloading', max=2244861551.0, style=ProgressStyle(descr…"
            ]
          },
          "metadata": {
            "tags": []
          }
        },
        {
          "output_type": "stream",
          "text": [
            "\n"
          ],
          "name": "stdout"
        },
        {
          "output_type": "stream",
          "text": [
            "Some weights of the model checkpoint at xlm-roberta-large were not used when initializing XLMRobertaModel: ['lm_head.layer_norm.weight', 'lm_head.dense.bias', 'lm_head.dense.weight', 'lm_head.layer_norm.bias', 'lm_head.decoder.weight', 'lm_head.bias']\n",
            "- This IS expected if you are initializing XLMRobertaModel from the checkpoint of a model trained on another task or with another architecture (e.g. initializing a BertForSequenceClassification model from a BertForPreTraining model).\n",
            "- This IS NOT expected if you are initializing XLMRobertaModel from the checkpoint of a model that you expect to be exactly identical (initializing a BertForSequenceClassification model from a BertForSequenceClassification model).\n"
          ],
          "name": "stderr"
        },
        {
          "output_type": "stream",
          "text": [
            "Total number of parameters: 559890432\n"
          ],
          "name": "stdout"
        },
        {
          "output_type": "stream",
          "text": [
            " 50%|█████     | 3548/7094 [05:46<05:32, 10.66it/s]"
          ],
          "name": "stderr"
        },
        {
          "output_type": "stream",
          "text": [
            "\n",
            "Iteration 3547/7094 of epoch 1 complete. Loss : 1.151241079069441 \n"
          ],
          "name": "stdout"
        },
        {
          "output_type": "stream",
          "text": [
            "100%|██████████| 7094/7094 [11:37<00:00, 10.17it/s]\n",
            "  0%|          | 0/374 [00:00<?, ?it/s]"
          ],
          "name": "stderr"
        },
        {
          "output_type": "stream",
          "text": [
            "\n",
            "Iteration 7094/7094 of epoch 1 complete. Loss : 1.04463134993898 \n"
          ],
          "name": "stdout"
        },
        {
          "output_type": "stream",
          "text": [
            "100%|██████████| 374/374 [00:13<00:00, 27.81it/s]\n",
            "  0%|          | 0/500 [00:00<?, ?it/s]"
          ],
          "name": "stderr"
        },
        {
          "output_type": "stream",
          "text": [
            "\n",
            "Epoch 1 complete!\n",
            "Validation Loss : 1.0416231850251794\n",
            "Validation F1 score: 0.4521, Recall: 0.4245, MCC: 0.3378\n"
          ],
          "name": "stdout"
        },
        {
          "output_type": "stream",
          "text": [
            "100%|██████████| 500/500 [00:17<00:00, 28.60it/s]\n",
            "  0%|          | 0/7094 [00:00<?, ?it/s]"
          ],
          "name": "stderr"
        },
        {
          "output_type": "stream",
          "text": [
            "\n",
            "Minitrain F1 score: 0.4545, Recall: 0.4348, MCC: 0.3475\n",
            "Best validation loss improved from inf to 1.0416231850251794\n",
            "\n"
          ],
          "name": "stdout"
        },
        {
          "output_type": "stream",
          "text": [
            " 50%|█████     | 3548/7094 [05:51<05:29, 10.76it/s]"
          ],
          "name": "stderr"
        },
        {
          "output_type": "stream",
          "text": [
            "\n",
            "Iteration 3547/7094 of epoch 2 complete. Loss : 0.9574102019339229 \n"
          ],
          "name": "stdout"
        },
        {
          "output_type": "stream",
          "text": [
            "100%|██████████| 7094/7094 [11:41<00:00, 10.11it/s]\n",
            "  0%|          | 0/374 [00:00<?, ?it/s]"
          ],
          "name": "stderr"
        },
        {
          "output_type": "stream",
          "text": [
            "\n",
            "Iteration 7094/7094 of epoch 2 complete. Loss : 0.9369427818476246 \n"
          ],
          "name": "stdout"
        },
        {
          "output_type": "stream",
          "text": [
            "100%|██████████| 374/374 [00:13<00:00, 28.49it/s]\n",
            "  0%|          | 0/500 [00:00<?, ?it/s]"
          ],
          "name": "stderr"
        },
        {
          "output_type": "stream",
          "text": [
            "\n",
            "Epoch 2 complete!\n",
            "Validation Loss : 1.1336892571519404\n",
            "Validation F1 score: 0.3865, Recall: 0.3489, MCC: 0.2665\n"
          ],
          "name": "stdout"
        },
        {
          "output_type": "stream",
          "text": [
            "100%|██████████| 500/500 [00:17<00:00, 29.28it/s]\n",
            "  0%|          | 0/7094 [00:00<?, ?it/s]"
          ],
          "name": "stderr"
        },
        {
          "output_type": "stream",
          "text": [
            "\n",
            "Minitrain F1 score: 0.3919, Recall: 0.3652, MCC: 0.2772\n"
          ],
          "name": "stdout"
        },
        {
          "output_type": "stream",
          "text": [
            " 50%|█████     | 3549/7094 [05:53<05:34, 10.60it/s]"
          ],
          "name": "stderr"
        },
        {
          "output_type": "stream",
          "text": [
            "\n",
            "Iteration 3547/7094 of epoch 3 complete. Loss : 0.9053326700899402 \n"
          ],
          "name": "stdout"
        },
        {
          "output_type": "stream",
          "text": [
            "100%|██████████| 7094/7094 [11:42<00:00, 10.09it/s]\n",
            "  0%|          | 0/374 [00:00<?, ?it/s]"
          ],
          "name": "stderr"
        },
        {
          "output_type": "stream",
          "text": [
            "\n",
            "Iteration 7094/7094 of epoch 3 complete. Loss : 0.8791594927479868 \n"
          ],
          "name": "stdout"
        },
        {
          "output_type": "stream",
          "text": [
            "100%|██████████| 374/374 [00:12<00:00, 29.32it/s]\n",
            "  0%|          | 0/500 [00:00<?, ?it/s]"
          ],
          "name": "stderr"
        },
        {
          "output_type": "stream",
          "text": [
            "\n",
            "Epoch 3 complete!\n",
            "Validation Loss : 1.071153827649068\n",
            "Validation F1 score: 0.4841, Recall: 0.4640, MCC: 0.3728\n"
          ],
          "name": "stdout"
        },
        {
          "output_type": "stream",
          "text": [
            "100%|██████████| 500/500 [00:16<00:00, 29.42it/s]\n",
            "  0%|          | 0/7094 [00:00<?, ?it/s]"
          ],
          "name": "stderr"
        },
        {
          "output_type": "stream",
          "text": [
            "\n",
            "Minitrain F1 score: 0.5301, Recall: 0.5101, MCC: 0.4372\n"
          ],
          "name": "stdout"
        },
        {
          "output_type": "stream",
          "text": [
            " 50%|█████     | 3548/7094 [05:52<05:31, 10.68it/s]"
          ],
          "name": "stderr"
        },
        {
          "output_type": "stream",
          "text": [
            "\n",
            "Iteration 3547/7094 of epoch 4 complete. Loss : 0.8337596579304388 \n"
          ],
          "name": "stdout"
        },
        {
          "output_type": "stream",
          "text": [
            "100%|██████████| 7094/7094 [11:42<00:00, 10.10it/s]\n",
            "  0%|          | 0/374 [00:00<?, ?it/s]"
          ],
          "name": "stderr"
        },
        {
          "output_type": "stream",
          "text": [
            "\n",
            "Iteration 7094/7094 of epoch 4 complete. Loss : 0.836537120797366 \n"
          ],
          "name": "stdout"
        },
        {
          "output_type": "stream",
          "text": [
            "100%|██████████| 374/374 [00:12<00:00, 30.38it/s]\n",
            "  0%|          | 0/500 [00:00<?, ?it/s]"
          ],
          "name": "stderr"
        },
        {
          "output_type": "stream",
          "text": [
            "\n",
            "Epoch 4 complete!\n",
            "Validation Loss : 1.0914521220135178\n",
            "Validation F1 score: 0.5027, Recall: 0.5036, MCC: 0.3887\n"
          ],
          "name": "stdout"
        },
        {
          "output_type": "stream",
          "text": [
            "100%|██████████| 500/500 [00:16<00:00, 30.11it/s]\n",
            "  0%|          | 0/7094 [00:00<?, ?it/s]"
          ],
          "name": "stderr"
        },
        {
          "output_type": "stream",
          "text": [
            "\n",
            "Minitrain F1 score: 0.5771, Recall: 0.5913, MCC: 0.4866\n"
          ],
          "name": "stdout"
        },
        {
          "output_type": "stream",
          "text": [
            " 50%|█████     | 3549/7094 [05:52<05:33, 10.62it/s]"
          ],
          "name": "stderr"
        },
        {
          "output_type": "stream",
          "text": [
            "\n",
            "Iteration 3547/7094 of epoch 5 complete. Loss : 0.7335243701516284 \n"
          ],
          "name": "stdout"
        },
        {
          "output_type": "stream",
          "text": [
            "100%|██████████| 7094/7094 [11:48<00:00, 10.02it/s]\n",
            "  0%|          | 0/374 [00:00<?, ?it/s]"
          ],
          "name": "stderr"
        },
        {
          "output_type": "stream",
          "text": [
            "\n",
            "Iteration 7094/7094 of epoch 5 complete. Loss : 0.7312807366221751 \n"
          ],
          "name": "stdout"
        },
        {
          "output_type": "stream",
          "text": [
            "100%|██████████| 374/374 [00:13<00:00, 28.10it/s]\n",
            "  0%|          | 0/500 [00:00<?, ?it/s]"
          ],
          "name": "stderr"
        },
        {
          "output_type": "stream",
          "text": [
            "\n",
            "Epoch 5 complete!\n",
            "Validation Loss : 1.0987707770723392\n",
            "Validation F1 score: 0.5073, Recall: 0.5647, MCC: 0.3834\n"
          ],
          "name": "stdout"
        },
        {
          "output_type": "stream",
          "text": [
            "100%|██████████| 500/500 [00:16<00:00, 29.54it/s]\n"
          ],
          "name": "stderr"
        },
        {
          "output_type": "stream",
          "text": [
            "\n",
            "Minitrain F1 score: 0.6856, Recall: 0.8029, MCC: 0.6185\n",
            "The model has been saved in models/xlm-roberta-large_lr_2e-05_val_loss_1.04162_ep_1.pt\n"
          ],
          "name": "stdout"
        },
        {
          "output_type": "stream",
          "text": [
            "Some weights of the model checkpoint at xlm-roberta-large were not used when initializing XLMRobertaModel: ['lm_head.layer_norm.weight', 'lm_head.dense.bias', 'lm_head.dense.weight', 'lm_head.layer_norm.bias', 'lm_head.decoder.weight', 'lm_head.bias']\n",
            "- This IS expected if you are initializing XLMRobertaModel from the checkpoint of a model trained on another task or with another architecture (e.g. initializing a BertForSequenceClassification model from a BertForPreTraining model).\n",
            "- This IS NOT expected if you are initializing XLMRobertaModel from the checkpoint of a model that you expect to be exactly identical (initializing a BertForSequenceClassification model from a BertForSequenceClassification model).\n"
          ],
          "name": "stderr"
        },
        {
          "output_type": "stream",
          "text": [
            "\n",
            "Loading the weights of the model...\n"
          ],
          "name": "stdout"
        },
        {
          "output_type": "stream",
          "text": [
            "\r  0%|          | 0/999 [00:00<?, ?it/s]"
          ],
          "name": "stderr"
        },
        {
          "output_type": "stream",
          "text": [
            "Predicting on test data...\n"
          ],
          "name": "stdout"
        },
        {
          "output_type": "stream",
          "text": [
            "100%|██████████| 999/999 [00:34<00:00, 29.27it/s]\n"
          ],
          "name": "stderr"
        },
        {
          "output_type": "stream",
          "text": [
            "\n",
            "Predictions are available in : predictions_xlm-roberta-large-noflip-unmasked.txt\n",
            "Best Threshold=0.438721, F-Score=0.469\n",
            "Predictions for  xlm-roberta-large flip: False , masking: False\n",
            "-----Evaluation-----\n",
            "TP: 360, TN: 2820, FP: 498, FN: 318\n",
            "F1:  0.46875000000000006\n",
            "Precision:  0.4195804195804196\n",
            "Recall:  0.5309734513274337\n",
            "MCC:  0.34815653689006015\n",
            "Accuracy:  0.7957957957957958\n",
            "\n",
            " For language pair en-cs\n",
            "-----Evaluation-----\n",
            "TP: 82, TN: 741, FP: 98, FN: 78\n",
            "F1:  0.4823529411764706\n",
            "Precision:  0.45555555555555555\n",
            "Recall:  0.5125\n",
            "MCC:  0.37759178703547336\n",
            "Accuracy:  0.8238238238238238\n",
            "\n",
            " For language pair en-ja\n",
            "-----Evaluation-----\n",
            "TP: 16, TN: 876, FP: 27, FN: 80\n",
            "F1:  0.2302158273381295\n",
            "Precision:  0.37209302325581395\n",
            "Recall:  0.16666666666666666\n",
            "MCC:  0.1986074452746329\n",
            "Accuracy:  0.8928928928928929\n",
            "\n",
            " For language pair en-zh\n",
            "-----Evaluation-----\n",
            "TP: 50, TN: 757, FP: 101, FN: 91\n",
            "F1:  0.34246575342465757\n",
            "Precision:  0.33112582781456956\n",
            "Recall:  0.3546099290780142\n",
            "MCC:  0.23026155459142109\n",
            "Accuracy:  0.8078078078078078\n",
            "\n",
            " For language pair en-de\n",
            "-----Evaluation-----\n",
            "TP: 212, TN: 446, FP: 272, FN: 69\n",
            "F1:  0.5542483660130719\n",
            "Precision:  0.4380165289256198\n",
            "Recall:  0.7544483985765125\n",
            "MCC:  0.33793707977975\n",
            "Accuracy:  0.6586586586586587\n"
          ],
          "name": "stdout"
        }
      ]
    },
    {
      "cell_type": "code",
      "metadata": {
        "colab": {
          "base_uri": "https://localhost:8080/"
        },
        "id": "U1iMSbY91tsI",
        "outputId": "8fd55e09-7378-4fea-d08f-a31c80e75915"
      },
      "source": [
        "## XLM-RoBERTa with TransQuest transfer-learning\n",
        "tq = models[2]\n",
        "full_experiment(tq[0], tq[1], tq[2])\n",
        "gc.collect()\n",
        "torch.cuda.empty_cache()\n",
        "tqdm._instances.clear()"
      ],
      "execution_count": null,
      "outputs": [
        {
          "output_type": "stream",
          "text": [
            "--------------- Using Model: TransQuest/monotransquest-da-multilingual\n",
            "--------------- Flipping sentences: False , Masking tokens: False\n",
            "Reading training data...\n",
            "Reading validation data...\n"
          ],
          "name": "stdout"
        },
        {
          "output_type": "stream",
          "text": [
            "Some weights of the model checkpoint at TransQuest/monotransquest-da-multilingual were not used when initializing XLMRobertaModel: ['classifier.out_proj.weight', 'classifier.out_proj.bias', 'classifier.dense.weight', 'classifier.dense.bias']\n",
            "- This IS expected if you are initializing XLMRobertaModel from the checkpoint of a model trained on another task or with another architecture (e.g. initializing a BertForSequenceClassification model from a BertForPreTraining model).\n",
            "- This IS NOT expected if you are initializing XLMRobertaModel from the checkpoint of a model that you expect to be exactly identical (initializing a BertForSequenceClassification model from a BertForSequenceClassification model).\n"
          ],
          "name": "stderr"
        },
        {
          "output_type": "stream",
          "text": [
            "Total number of parameters: 559890432\n"
          ],
          "name": "stdout"
        },
        {
          "output_type": "stream",
          "text": [
            " 50%|█████     | 3548/7094 [06:54<06:34,  9.00it/s]"
          ],
          "name": "stderr"
        },
        {
          "output_type": "stream",
          "text": [
            "\n",
            "Iteration 3547/7094 of epoch 1 complete. Loss : 1.1563235866538666 \n"
          ],
          "name": "stdout"
        },
        {
          "output_type": "stream",
          "text": [
            "100%|██████████| 7094/7094 [13:51<00:00,  8.53it/s]\n",
            "  0%|          | 0/374 [00:00<?, ?it/s]"
          ],
          "name": "stderr"
        },
        {
          "output_type": "stream",
          "text": [
            "\n",
            "Iteration 7094/7094 of epoch 1 complete. Loss : 1.014421609297819 \n"
          ],
          "name": "stdout"
        },
        {
          "output_type": "stream",
          "text": [
            "100%|██████████| 374/374 [00:15<00:00, 24.11it/s]\n",
            "  0%|          | 0/500 [00:00<?, ?it/s]"
          ],
          "name": "stderr"
        },
        {
          "output_type": "stream",
          "text": [
            "\n",
            "Epoch 1 complete!\n",
            "Validation Loss : 0.9772487200677076\n",
            "Validation F1 score: 0.5246, Recall: 0.5360, MCC: 0.4133\n"
          ],
          "name": "stdout"
        },
        {
          "output_type": "stream",
          "text": [
            "100%|██████████| 500/500 [00:20<00:00, 24.33it/s]\n",
            "  0%|          | 0/7094 [00:00<?, ?it/s]"
          ],
          "name": "stderr"
        },
        {
          "output_type": "stream",
          "text": [
            "\n",
            "Minitrain F1 score: 0.4755, Recall: 0.4783, MCC: 0.3654\n",
            "Best validation loss improved from inf to 0.9772487200677076\n",
            "\n"
          ],
          "name": "stdout"
        },
        {
          "output_type": "stream",
          "text": [
            " 50%|█████     | 3549/7094 [06:16<05:59,  9.87it/s]"
          ],
          "name": "stderr"
        },
        {
          "output_type": "stream",
          "text": [
            "\n",
            "Iteration 3547/7094 of epoch 2 complete. Loss : 0.9273506626948895 \n"
          ],
          "name": "stdout"
        },
        {
          "output_type": "stream",
          "text": [
            "100%|██████████| 7094/7094 [12:29<00:00,  9.46it/s]\n",
            "  0%|          | 0/374 [00:00<?, ?it/s]"
          ],
          "name": "stderr"
        },
        {
          "output_type": "stream",
          "text": [
            "\n",
            "Iteration 7094/7094 of epoch 2 complete. Loss : 0.8923516051425232 \n"
          ],
          "name": "stdout"
        },
        {
          "output_type": "stream",
          "text": [
            "100%|██████████| 374/374 [00:15<00:00, 24.57it/s]\n",
            "  0%|          | 0/500 [00:00<?, ?it/s]"
          ],
          "name": "stderr"
        },
        {
          "output_type": "stream",
          "text": [
            "\n",
            "Epoch 2 complete!\n",
            "Validation Loss : 1.0720392961632759\n",
            "Validation F1 score: 0.4991, Recall: 0.5000, MCC: 0.3843\n"
          ],
          "name": "stdout"
        },
        {
          "output_type": "stream",
          "text": [
            "100%|██████████| 500/500 [00:20<00:00, 24.30it/s]\n",
            "  0%|          | 0/7094 [00:00<?, ?it/s]"
          ],
          "name": "stderr"
        },
        {
          "output_type": "stream",
          "text": [
            "\n",
            "Minitrain F1 score: 0.5603, Recall: 0.5652, MCC: 0.4678\n"
          ],
          "name": "stdout"
        },
        {
          "output_type": "stream",
          "text": [
            " 50%|█████     | 3548/7094 [06:13<06:16,  9.43it/s]"
          ],
          "name": "stderr"
        },
        {
          "output_type": "stream",
          "text": [
            "\n",
            "Iteration 3547/7094 of epoch 3 complete. Loss : 0.8560445661857947 \n"
          ],
          "name": "stdout"
        },
        {
          "output_type": "stream",
          "text": [
            "100%|██████████| 7094/7094 [12:26<00:00,  9.50it/s]\n",
            "  0%|          | 0/374 [00:00<?, ?it/s]"
          ],
          "name": "stderr"
        },
        {
          "output_type": "stream",
          "text": [
            "\n",
            "Iteration 7094/7094 of epoch 3 complete. Loss : 0.8271839013856197 \n"
          ],
          "name": "stdout"
        },
        {
          "output_type": "stream",
          "text": [
            "100%|██████████| 374/374 [00:15<00:00, 24.26it/s]\n",
            "  0%|          | 0/500 [00:00<?, ?it/s]"
          ],
          "name": "stderr"
        },
        {
          "output_type": "stream",
          "text": [
            "\n",
            "Epoch 3 complete!\n",
            "Validation Loss : 1.2557736942195956\n",
            "Validation F1 score: 0.4807, Recall: 0.4245, MCC: 0.3855\n"
          ],
          "name": "stdout"
        },
        {
          "output_type": "stream",
          "text": [
            "100%|██████████| 500/500 [00:19<00:00, 25.00it/s]\n",
            "  0%|          | 0/7094 [00:00<?, ?it/s]"
          ],
          "name": "stderr"
        },
        {
          "output_type": "stream",
          "text": [
            "\n",
            "Minitrain F1 score: 0.5907, Recall: 0.5333, MCC: 0.5204\n"
          ],
          "name": "stdout"
        },
        {
          "output_type": "stream",
          "text": [
            " 50%|█████     | 3548/7094 [06:13<06:04,  9.73it/s]"
          ],
          "name": "stderr"
        },
        {
          "output_type": "stream",
          "text": [
            "\n",
            "Iteration 3547/7094 of epoch 4 complete. Loss : 0.7769241928634154 \n"
          ],
          "name": "stdout"
        },
        {
          "output_type": "stream",
          "text": [
            "100%|██████████| 7094/7094 [12:26<00:00,  9.51it/s]\n",
            "  0%|          | 0/374 [00:00<?, ?it/s]"
          ],
          "name": "stderr"
        },
        {
          "output_type": "stream",
          "text": [
            "\n",
            "Iteration 7094/7094 of epoch 4 complete. Loss : 0.7337825059570285 \n"
          ],
          "name": "stdout"
        },
        {
          "output_type": "stream",
          "text": [
            "100%|██████████| 374/374 [00:15<00:00, 24.02it/s]\n",
            "  0%|          | 0/500 [00:00<?, ?it/s]"
          ],
          "name": "stderr"
        },
        {
          "output_type": "stream",
          "text": [
            "\n",
            "Epoch 4 complete!\n",
            "Validation Loss : 1.341143104441982\n",
            "Validation F1 score: 0.4903, Recall: 0.4568, MCC: 0.3857\n"
          ],
          "name": "stdout"
        },
        {
          "output_type": "stream",
          "text": [
            "100%|██████████| 500/500 [00:19<00:00, 25.03it/s]\n",
            "  0%|          | 0/7094 [00:00<?, ?it/s]"
          ],
          "name": "stderr"
        },
        {
          "output_type": "stream",
          "text": [
            "\n",
            "Minitrain F1 score: 0.6556, Recall: 0.6319, MCC: 0.5877\n"
          ],
          "name": "stdout"
        },
        {
          "output_type": "stream",
          "text": [
            " 50%|█████     | 3549/7094 [06:13<05:58,  9.90it/s]"
          ],
          "name": "stderr"
        },
        {
          "output_type": "stream",
          "text": [
            "\n",
            "Iteration 3547/7094 of epoch 5 complete. Loss : 0.6978571637072014 \n"
          ],
          "name": "stdout"
        },
        {
          "output_type": "stream",
          "text": [
            "100%|██████████| 7094/7094 [12:27<00:00,  9.50it/s]\n",
            "  0%|          | 0/374 [00:00<?, ?it/s]"
          ],
          "name": "stderr"
        },
        {
          "output_type": "stream",
          "text": [
            "\n",
            "Iteration 7094/7094 of epoch 5 complete. Loss : 0.6433640699735169 \n"
          ],
          "name": "stdout"
        },
        {
          "output_type": "stream",
          "text": [
            "100%|██████████| 374/374 [00:14<00:00, 24.95it/s]\n",
            "  0%|          | 0/500 [00:00<?, ?it/s]"
          ],
          "name": "stderr"
        },
        {
          "output_type": "stream",
          "text": [
            "\n",
            "Epoch 5 complete!\n",
            "Validation Loss : 1.412142237100531\n",
            "Validation F1 score: 0.5082, Recall: 0.5000, MCC: 0.3981\n"
          ],
          "name": "stdout"
        },
        {
          "output_type": "stream",
          "text": [
            "100%|██████████| 500/500 [00:19<00:00, 25.23it/s]\n"
          ],
          "name": "stderr"
        },
        {
          "output_type": "stream",
          "text": [
            "\n",
            "Minitrain F1 score: 0.7145, Recall: 0.7362, MCC: 0.6533\n",
            "The model has been saved in models/TransQuest/monotransquest-da-multilingual_lr_2e-05_val_loss_0.97725_ep_1.pt\n"
          ],
          "name": "stdout"
        },
        {
          "output_type": "stream",
          "text": [
            "Some weights of the model checkpoint at TransQuest/monotransquest-da-multilingual were not used when initializing XLMRobertaModel: ['classifier.out_proj.weight', 'classifier.out_proj.bias', 'classifier.dense.weight', 'classifier.dense.bias']\n",
            "- This IS expected if you are initializing XLMRobertaModel from the checkpoint of a model trained on another task or with another architecture (e.g. initializing a BertForSequenceClassification model from a BertForPreTraining model).\n",
            "- This IS NOT expected if you are initializing XLMRobertaModel from the checkpoint of a model that you expect to be exactly identical (initializing a BertForSequenceClassification model from a BertForSequenceClassification model).\n"
          ],
          "name": "stderr"
        },
        {
          "output_type": "stream",
          "text": [
            "\n",
            "Loading the weights of the model...\n"
          ],
          "name": "stdout"
        },
        {
          "output_type": "stream",
          "text": [
            "\r  0%|          | 0/999 [00:00<?, ?it/s]"
          ],
          "name": "stderr"
        },
        {
          "output_type": "stream",
          "text": [
            "Predicting on test data...\n"
          ],
          "name": "stdout"
        },
        {
          "output_type": "stream",
          "text": [
            "100%|██████████| 999/999 [00:32<00:00, 30.54it/s]\n"
          ],
          "name": "stderr"
        },
        {
          "output_type": "stream",
          "text": [
            "\n",
            "Predictions are available in : predictions_TransQuest-monotransquest-da-multilingual-noflip-unmasked.txt\n",
            "Best Threshold=0.458252, F-Score=0.487\n",
            "Predictions for  TransQuest/monotransquest-da-multilingual flip: False , masking: False\n",
            "-----Evaluation-----\n",
            "TP: 370, TN: 2845, FP: 473, FN: 308\n",
            "F1:  0.48652202498356345\n",
            "Precision:  0.4389086595492289\n",
            "Recall:  0.5457227138643068\n",
            "MCC:  0.37090458010328053\n",
            "Accuracy:  0.8045545545545546\n",
            "\n",
            " For language pair en-cs\n",
            "-----Evaluation-----\n",
            "TP: 84, TN: 756, FP: 83, FN: 76\n",
            "F1:  0.5137614678899083\n",
            "Precision:  0.5029940119760479\n",
            "Recall:  0.525\n",
            "MCC:  0.4187981813100839\n",
            "Accuracy:  0.8408408408408409\n",
            "\n",
            " For language pair en-ja\n",
            "-----Evaluation-----\n",
            "TP: 28, TN: 834, FP: 69, FN: 68\n",
            "F1:  0.2901554404145078\n",
            "Precision:  0.28865979381443296\n",
            "Recall:  0.2916666666666667\n",
            "MCC:  0.21426094292254913\n",
            "Accuracy:  0.8628628628628628\n",
            "\n",
            " For language pair en-zh\n",
            "-----Evaluation-----\n",
            "TP: 58, TN: 735, FP: 123, FN: 83\n",
            "F1:  0.36024844720496896\n",
            "Precision:  0.32044198895027626\n",
            "Recall:  0.41134751773049644\n",
            "MCC:  0.24224636368889543\n",
            "Accuracy:  0.7937937937937938\n",
            "\n",
            " For language pair en-de\n",
            "-----Evaluation-----\n",
            "TP: 200, TN: 520, FP: 198, FN: 81\n",
            "F1:  0.5891016200294551\n",
            "Precision:  0.5025125628140703\n",
            "Recall:  0.7117437722419929\n",
            "MCC:  0.40040633616330423\n",
            "Accuracy:  0.7207207207207207\n"
          ],
          "name": "stdout"
        }
      ]
    },
    {
      "cell_type": "code",
      "metadata": {
        "colab": {
          "base_uri": "https://localhost:8080/"
        },
        "id": "pVj9pHpVEwNU",
        "outputId": "413ea10c-54f8-4f22-cf05-313543825abb"
      },
      "source": [
        "# XLM-RoBERTa with TransQuest transfer-learning + flipping\n",
        "tq_flip = models[3]\n",
        "full_experiment(tq_flip[0], tq_flip[1], tq_flip[2])\n",
        "gc.collect()\n",
        "torch.cuda.empty_cache()\n",
        "tqdm._instances.clear()"
      ],
      "execution_count": null,
      "outputs": [
        {
          "output_type": "stream",
          "text": [
            "--------------- Using Model: TransQuest/monotransquest-da-multilingual\n",
            "--------------- Flipping sentences: True , Masking tokens: False\n",
            "Reading training data...\n",
            "Reading validation data...\n"
          ],
          "name": "stdout"
        },
        {
          "output_type": "stream",
          "text": [
            "Some weights of the model checkpoint at TransQuest/monotransquest-da-multilingual were not used when initializing XLMRobertaModel: ['classifier.out_proj.weight', 'classifier.out_proj.bias', 'classifier.dense.weight', 'classifier.dense.bias']\n",
            "- This IS expected if you are initializing XLMRobertaModel from the checkpoint of a model trained on another task or with another architecture (e.g. initializing a BertForSequenceClassification model from a BertForPreTraining model).\n",
            "- This IS NOT expected if you are initializing XLMRobertaModel from the checkpoint of a model that you expect to be exactly identical (initializing a BertForSequenceClassification model from a BertForSequenceClassification model).\n"
          ],
          "name": "stderr"
        },
        {
          "output_type": "stream",
          "text": [
            "Total number of parameters: 559890432\n"
          ],
          "name": "stdout"
        },
        {
          "output_type": "stream",
          "text": [
            " 50%|█████     | 3548/7094 [05:52<05:39, 10.44it/s]"
          ],
          "name": "stderr"
        },
        {
          "output_type": "stream",
          "text": [
            "\n",
            "Iteration 3547/7094 of epoch 1 complete. Loss : 1.8602215504777375 \n"
          ],
          "name": "stdout"
        },
        {
          "output_type": "stream",
          "text": [
            "100%|██████████| 7094/7094 [11:43<00:00, 10.09it/s]\n",
            "  0%|          | 0/374 [00:00<?, ?it/s]"
          ],
          "name": "stderr"
        },
        {
          "output_type": "stream",
          "text": [
            "\n",
            "Iteration 7094/7094 of epoch 1 complete. Loss : 1.1431681461162784 \n"
          ],
          "name": "stdout"
        },
        {
          "output_type": "stream",
          "text": [
            "100%|██████████| 374/374 [00:12<00:00, 29.30it/s]\n",
            "  0%|          | 0/500 [00:00<?, ?it/s]"
          ],
          "name": "stderr"
        },
        {
          "output_type": "stream",
          "text": [
            "\n",
            "Epoch 1 complete!\n",
            "Validation Loss : 1.027298344249394\n",
            "Validation F1 score: 0.4502, Recall: 0.4065, MCC: 0.3436\n"
          ],
          "name": "stdout"
        },
        {
          "output_type": "stream",
          "text": [
            "100%|██████████| 500/500 [00:17<00:00, 28.55it/s]\n",
            "  0%|          | 0/7094 [00:00<?, ?it/s]"
          ],
          "name": "stderr"
        },
        {
          "output_type": "stream",
          "text": [
            "\n",
            "Minitrain F1 score: 0.4518, Recall: 0.4145, MCC: 0.3518\n",
            "Best validation loss improved from inf to 1.027298344249394\n",
            "\n"
          ],
          "name": "stdout"
        },
        {
          "output_type": "stream",
          "text": [
            " 50%|█████     | 3548/7094 [05:55<05:56,  9.94it/s]"
          ],
          "name": "stderr"
        },
        {
          "output_type": "stream",
          "text": [
            "\n",
            "Iteration 3547/7094 of epoch 2 complete. Loss : 0.9572139230914138 \n"
          ],
          "name": "stdout"
        },
        {
          "output_type": "stream",
          "text": [
            "100%|██████████| 7094/7094 [11:51<00:00,  9.86it/s]"
          ],
          "name": "stderr"
        },
        {
          "output_type": "stream",
          "text": [
            "\n",
            "Iteration 7094/7094 of epoch 2 complete. Loss : 0.9390217162067953 \n"
          ],
          "name": "stdout"
        },
        {
          "output_type": "stream",
          "text": [
            "100%|██████████| 7094/7094 [11:51<00:00,  9.96it/s]\n",
            "100%|██████████| 374/374 [00:13<00:00, 27.17it/s]\n",
            "  0%|          | 0/500 [00:00<?, ?it/s]"
          ],
          "name": "stderr"
        },
        {
          "output_type": "stream",
          "text": [
            "\n",
            "Epoch 2 complete!\n",
            "Validation Loss : 1.146680568867826\n",
            "Validation F1 score: 0.4694, Recall: 0.4281, MCC: 0.3647\n"
          ],
          "name": "stdout"
        },
        {
          "output_type": "stream",
          "text": [
            "100%|██████████| 500/500 [00:17<00:00, 28.25it/s]\n",
            "  0%|          | 0/7094 [00:00<?, ?it/s]"
          ],
          "name": "stderr"
        },
        {
          "output_type": "stream",
          "text": [
            "\n",
            "Minitrain F1 score: 0.4969, Recall: 0.4638, MCC: 0.4024\n"
          ],
          "name": "stdout"
        },
        {
          "output_type": "stream",
          "text": [
            " 50%|█████     | 3549/7094 [05:58<05:40, 10.42it/s]"
          ],
          "name": "stderr"
        },
        {
          "output_type": "stream",
          "text": [
            "\n",
            "Iteration 3547/7094 of epoch 3 complete. Loss : 0.9093068431866465 \n"
          ],
          "name": "stdout"
        },
        {
          "output_type": "stream",
          "text": [
            "100%|██████████| 7094/7094 [11:52<00:00,  9.95it/s]"
          ],
          "name": "stderr"
        },
        {
          "output_type": "stream",
          "text": [
            "\n",
            "Iteration 7094/7094 of epoch 3 complete. Loss : 0.8770470802895651 \n"
          ],
          "name": "stdout"
        },
        {
          "output_type": "stream",
          "text": [
            "\n",
            "100%|██████████| 374/374 [00:12<00:00, 29.77it/s]\n",
            "  0%|          | 0/500 [00:00<?, ?it/s]"
          ],
          "name": "stderr"
        },
        {
          "output_type": "stream",
          "text": [
            "\n",
            "Epoch 3 complete!\n",
            "Validation Loss : 1.1505264977321905\n",
            "Validation F1 score: 0.4954, Recall: 0.4856, MCC: 0.3830\n"
          ],
          "name": "stdout"
        },
        {
          "output_type": "stream",
          "text": [
            "100%|██████████| 500/500 [00:16<00:00, 30.56it/s]\n",
            "  0%|          | 0/7094 [00:00<?, ?it/s]"
          ],
          "name": "stderr"
        },
        {
          "output_type": "stream",
          "text": [
            "\n",
            "Minitrain F1 score: 0.5527, Recall: 0.5246, MCC: 0.4663\n"
          ],
          "name": "stdout"
        },
        {
          "output_type": "stream",
          "text": [
            " 50%|█████     | 3549/7094 [05:49<05:30, 10.73it/s]"
          ],
          "name": "stderr"
        },
        {
          "output_type": "stream",
          "text": [
            "\n",
            "Iteration 3547/7094 of epoch 4 complete. Loss : 0.8257685527129323 \n"
          ],
          "name": "stdout"
        },
        {
          "output_type": "stream",
          "text": [
            "100%|██████████| 7094/7094 [11:37<00:00, 10.17it/s]\n",
            "  0%|          | 0/374 [00:00<?, ?it/s]"
          ],
          "name": "stderr"
        },
        {
          "output_type": "stream",
          "text": [
            "\n",
            "Iteration 7094/7094 of epoch 4 complete. Loss : 0.794012410243123 \n"
          ],
          "name": "stdout"
        },
        {
          "output_type": "stream",
          "text": [
            "100%|██████████| 374/374 [00:12<00:00, 30.35it/s]\n",
            "  0%|          | 0/500 [00:00<?, ?it/s]"
          ],
          "name": "stderr"
        },
        {
          "output_type": "stream",
          "text": [
            "\n",
            "Epoch 4 complete!\n",
            "Validation Loss : 1.3510101900540572\n",
            "Validation F1 score: 0.4454, Recall: 0.3597, MCC: 0.3683\n"
          ],
          "name": "stdout"
        },
        {
          "output_type": "stream",
          "text": [
            "100%|██████████| 500/500 [00:16<00:00, 30.94it/s]\n",
            "  0%|          | 0/7094 [00:00<?, ?it/s]"
          ],
          "name": "stderr"
        },
        {
          "output_type": "stream",
          "text": [
            "\n",
            "Minitrain F1 score: 0.5352, Recall: 0.4406, MCC: 0.4774\n"
          ],
          "name": "stdout"
        },
        {
          "output_type": "stream",
          "text": [
            " 50%|█████     | 3549/7094 [05:53<05:30, 10.73it/s]"
          ],
          "name": "stderr"
        },
        {
          "output_type": "stream",
          "text": [
            "\n",
            "Iteration 3547/7094 of epoch 5 complete. Loss : 0.7441929144501762 \n"
          ],
          "name": "stdout"
        },
        {
          "output_type": "stream",
          "text": [
            "100%|██████████| 7094/7094 [11:46<00:00, 10.04it/s]\n",
            "  0%|          | 0/374 [00:00<?, ?it/s]"
          ],
          "name": "stderr"
        },
        {
          "output_type": "stream",
          "text": [
            "\n",
            "Iteration 7094/7094 of epoch 5 complete. Loss : 0.7282481979208384 \n"
          ],
          "name": "stdout"
        },
        {
          "output_type": "stream",
          "text": [
            "100%|██████████| 374/374 [00:13<00:00, 28.00it/s]\n",
            "  0%|          | 0/500 [00:00<?, ?it/s]"
          ],
          "name": "stderr"
        },
        {
          "output_type": "stream",
          "text": [
            "\n",
            "Epoch 5 complete!\n",
            "Validation Loss : 1.254249317959987\n",
            "Validation F1 score: 0.4754, Recall: 0.4173, MCC: 0.3807\n"
          ],
          "name": "stdout"
        },
        {
          "output_type": "stream",
          "text": [
            "100%|██████████| 500/500 [00:17<00:00, 28.95it/s]\n"
          ],
          "name": "stderr"
        },
        {
          "output_type": "stream",
          "text": [
            "\n",
            "Minitrain F1 score: 0.6473, Recall: 0.5826, MCC: 0.5886\n",
            "The model has been saved in models/TransQuest/monotransquest-da-multilingual_lr_2e-05_val_loss_1.0273_ep_1.pt\n"
          ],
          "name": "stdout"
        },
        {
          "output_type": "stream",
          "text": [
            "Some weights of the model checkpoint at TransQuest/monotransquest-da-multilingual were not used when initializing XLMRobertaModel: ['classifier.out_proj.weight', 'classifier.out_proj.bias', 'classifier.dense.weight', 'classifier.dense.bias']\n",
            "- This IS expected if you are initializing XLMRobertaModel from the checkpoint of a model trained on another task or with another architecture (e.g. initializing a BertForSequenceClassification model from a BertForPreTraining model).\n",
            "- This IS NOT expected if you are initializing XLMRobertaModel from the checkpoint of a model that you expect to be exactly identical (initializing a BertForSequenceClassification model from a BertForSequenceClassification model).\n"
          ],
          "name": "stderr"
        },
        {
          "output_type": "stream",
          "text": [
            "\n",
            "Loading the weights of the model...\n"
          ],
          "name": "stdout"
        },
        {
          "output_type": "stream",
          "text": [
            "\r  0%|          | 0/999 [00:00<?, ?it/s]"
          ],
          "name": "stderr"
        },
        {
          "output_type": "stream",
          "text": [
            "Predicting on test data...\n"
          ],
          "name": "stdout"
        },
        {
          "output_type": "stream",
          "text": [
            "100%|██████████| 999/999 [00:33<00:00, 30.03it/s]\n"
          ],
          "name": "stderr"
        },
        {
          "output_type": "stream",
          "text": [
            "\n",
            "Predictions are available in : predictions_TransQuest-monotransquest-da-multilingual-flip-unmasked.txt\n",
            "Best Threshold=0.415771, F-Score=0.503\n",
            "Predictions for  TransQuest/monotransquest-da-multilingual flip: True , masking: False\n",
            "-----Evaluation-----\n",
            "TP: 399, TN: 2809, FP: 509, FN: 279\n",
            "F1:  0.5031525851197982\n",
            "Precision:  0.43942731277533037\n",
            "Recall:  0.588495575221239\n",
            "MCC:  0.389718012185608\n",
            "Accuracy:  0.8028028028028028\n",
            "\n",
            " For language pair en-cs\n",
            "-----Evaluation-----\n",
            "TP: 90, TN: 752, FP: 87, FN: 70\n",
            "F1:  0.5341246290801187\n",
            "Precision:  0.5084745762711864\n",
            "Recall:  0.5625\n",
            "MCC:  0.44070369358817907\n",
            "Accuracy:  0.8428428428428428\n",
            "\n",
            " For language pair en-ja\n",
            "-----Evaluation-----\n",
            "TP: 24, TN: 856, FP: 47, FN: 72\n",
            "F1:  0.2874251497005988\n",
            "Precision:  0.3380281690140845\n",
            "Recall:  0.25\n",
            "MCC:  0.22705686090165325\n",
            "Accuracy:  0.8808808808808809\n",
            "\n",
            " For language pair en-zh\n",
            "-----Evaluation-----\n",
            "TP: 69, TN: 729, FP: 129, FN: 72\n",
            "F1:  0.4070796460176991\n",
            "Precision:  0.3484848484848485\n",
            "Recall:  0.48936170212765956\n",
            "MCC:  0.29608709880734274\n",
            "Accuracy:  0.7987987987987988\n",
            "\n",
            " For language pair en-de\n",
            "-----Evaluation-----\n",
            "TP: 216, TN: 472, FP: 246, FN: 65\n",
            "F1:  0.5814266487213997\n",
            "Precision:  0.4675324675324675\n",
            "Recall:  0.7686832740213523\n",
            "MCC:  0.38422268144883925\n",
            "Accuracy:  0.6886886886886887\n"
          ],
          "name": "stdout"
        }
      ]
    },
    {
      "cell_type": "code",
      "metadata": {
        "colab": {
          "base_uri": "https://localhost:8080/"
        },
        "id": "Xhr_bfZRhHgN",
        "outputId": "55f84c3a-cea1-49b6-a5c3-e0580ad4b61b"
      },
      "source": [
        "# XLM-RoBERTa with TransQuest transfer-learning + no flipping + masking\n",
        "tq_mask = models[3]\n",
        "full_experiment(tq_mask[0], tq_mask[1], tq_mask[2])\n",
        "gc.collect()\n",
        "torch.cuda.empty_cache()\n",
        "tqdm._instances.clear()"
      ],
      "execution_count": null,
      "outputs": [
        {
          "output_type": "stream",
          "text": [
            "--------------- Using Model: TransQuest/monotransquest-da-multilingual\n",
            "--------------- Flipping sentences: False , Masking tokens: True\n",
            "Reading training data...\n",
            "Reading validation data...\n"
          ],
          "name": "stdout"
        },
        {
          "output_type": "stream",
          "text": [
            "Some weights of the model checkpoint at TransQuest/monotransquest-da-multilingual were not used when initializing XLMRobertaModel: ['classifier.out_proj.weight', 'classifier.out_proj.bias', 'classifier.dense.weight', 'classifier.dense.bias']\n",
            "- This IS expected if you are initializing XLMRobertaModel from the checkpoint of a model trained on another task or with another architecture (e.g. initializing a BertForSequenceClassification model from a BertForPreTraining model).\n",
            "- This IS NOT expected if you are initializing XLMRobertaModel from the checkpoint of a model that you expect to be exactly identical (initializing a BertForSequenceClassification model from a BertForSequenceClassification model).\n"
          ],
          "name": "stderr"
        },
        {
          "output_type": "stream",
          "text": [
            "Total number of parameters: 559890432\n"
          ],
          "name": "stdout"
        },
        {
          "output_type": "stream",
          "text": [
            " 50%|█████     | 3548/7094 [05:54<05:44, 10.28it/s]"
          ],
          "name": "stderr"
        },
        {
          "output_type": "stream",
          "text": [
            "\n",
            "Iteration 3547/7094 of epoch 1 complete. Loss : 1.1586007820234892 \n"
          ],
          "name": "stdout"
        },
        {
          "output_type": "stream",
          "text": [
            "100%|██████████| 7094/7094 [11:50<00:00,  8.83it/s]"
          ],
          "name": "stderr"
        },
        {
          "output_type": "stream",
          "text": [
            "\n",
            "Iteration 7094/7094 of epoch 1 complete. Loss : 1.0592990099736794 \n"
          ],
          "name": "stdout"
        },
        {
          "output_type": "stream",
          "text": [
            "100%|██████████| 7094/7094 [11:50<00:00,  9.98it/s]\n",
            "100%|██████████| 374/374 [00:14<00:00, 26.38it/s]\n",
            "  0%|          | 0/500 [00:00<?, ?it/s]"
          ],
          "name": "stderr"
        },
        {
          "output_type": "stream",
          "text": [
            "\n",
            "Epoch 1 complete!\n",
            "Validation Loss : 1.0732884786345742\n",
            "Validation F1 score: 0.3595, Recall: 0.2554, MCC: 0.3152\n"
          ],
          "name": "stdout"
        },
        {
          "output_type": "stream",
          "text": [
            "100%|██████████| 500/500 [00:18<00:00, 26.93it/s]\n",
            "  0%|          | 0/7094 [00:00<?, ?it/s]"
          ],
          "name": "stderr"
        },
        {
          "output_type": "stream",
          "text": [
            "\n",
            "Minitrain F1 score: 0.3944, Recall: 0.2870, MCC: 0.3539\n",
            "Best validation loss improved from inf to 1.0732884786345742\n",
            "\n"
          ],
          "name": "stdout"
        },
        {
          "output_type": "stream",
          "text": [
            " 50%|█████     | 3549/7094 [05:59<05:42, 10.36it/s]"
          ],
          "name": "stderr"
        },
        {
          "output_type": "stream",
          "text": [
            "\n",
            "Iteration 3547/7094 of epoch 2 complete. Loss : 0.9697638544003779 \n"
          ],
          "name": "stdout"
        },
        {
          "output_type": "stream",
          "text": [
            "100%|██████████| 7094/7094 [12:01<00:00,  9.87it/s]"
          ],
          "name": "stderr"
        },
        {
          "output_type": "stream",
          "text": [
            "\n",
            "Iteration 7094/7094 of epoch 2 complete. Loss : 0.9808795727539439 \n"
          ],
          "name": "stdout"
        },
        {
          "output_type": "stream",
          "text": [
            "100%|██████████| 7094/7094 [12:01<00:00,  9.83it/s]\n",
            "100%|██████████| 374/374 [00:13<00:00, 27.31it/s]\n",
            "  0%|          | 0/500 [00:00<?, ?it/s]"
          ],
          "name": "stderr"
        },
        {
          "output_type": "stream",
          "text": [
            "\n",
            "Epoch 2 complete!\n",
            "Validation Loss : 0.9895021450073324\n",
            "Validation F1 score: 0.4675, Recall: 0.4137, MCC: 0.3691\n"
          ],
          "name": "stdout"
        },
        {
          "output_type": "stream",
          "text": [
            "100%|██████████| 500/500 [00:17<00:00, 28.55it/s]\n",
            "  0%|          | 0/7094 [00:00<?, ?it/s]"
          ],
          "name": "stderr"
        },
        {
          "output_type": "stream",
          "text": [
            "\n",
            "Minitrain F1 score: 0.4884, Recall: 0.4261, MCC: 0.4060\n",
            "Best validation loss improved from 1.0732884786345742 to 0.9895021450073324\n",
            "\n"
          ],
          "name": "stdout"
        },
        {
          "output_type": "stream",
          "text": [
            " 50%|█████     | 3548/7094 [06:01<05:50, 10.12it/s]"
          ],
          "name": "stderr"
        },
        {
          "output_type": "stream",
          "text": [
            "\n",
            "Iteration 3547/7094 of epoch 3 complete. Loss : 0.9209895802623442 \n"
          ],
          "name": "stdout"
        },
        {
          "output_type": "stream",
          "text": [
            "100%|██████████| 7094/7094 [11:56<00:00,  9.80it/s]"
          ],
          "name": "stderr"
        },
        {
          "output_type": "stream",
          "text": [
            "\n",
            "Iteration 7094/7094 of epoch 3 complete. Loss : 0.922638288057641 \n"
          ],
          "name": "stdout"
        },
        {
          "output_type": "stream",
          "text": [
            "100%|██████████| 7094/7094 [11:56<00:00,  9.90it/s]\n",
            "100%|██████████| 374/374 [00:13<00:00, 27.38it/s]\n",
            "  0%|          | 0/500 [00:00<?, ?it/s]"
          ],
          "name": "stderr"
        },
        {
          "output_type": "stream",
          "text": [
            "\n",
            "Epoch 3 complete!\n",
            "Validation Loss : 0.9596643502460444\n",
            "Validation F1 score: 0.4893, Recall: 0.4928, MCC: 0.3715\n"
          ],
          "name": "stdout"
        },
        {
          "output_type": "stream",
          "text": [
            "100%|██████████| 500/500 [00:18<00:00, 27.76it/s]\n",
            "  0%|          | 0/7094 [00:00<?, ?it/s]"
          ],
          "name": "stderr"
        },
        {
          "output_type": "stream",
          "text": [
            "\n",
            "Minitrain F1 score: 0.5467, Recall: 0.5594, MCC: 0.4498\n",
            "Best validation loss improved from 0.9895021450073324 to 0.9596643502460444\n",
            "\n"
          ],
          "name": "stdout"
        },
        {
          "output_type": "stream",
          "text": [
            " 50%|█████     | 3548/7094 [06:02<05:40, 10.40it/s]"
          ],
          "name": "stderr"
        },
        {
          "output_type": "stream",
          "text": [
            "\n",
            "Iteration 3547/7094 of epoch 4 complete. Loss : 0.9134597431493895 \n"
          ],
          "name": "stdout"
        },
        {
          "output_type": "stream",
          "text": [
            "100%|██████████| 7094/7094 [12:02<00:00,  9.93it/s]"
          ],
          "name": "stderr"
        },
        {
          "output_type": "stream",
          "text": [
            "\n",
            "Iteration 7094/7094 of epoch 4 complete. Loss : 0.8958285536697386 \n"
          ],
          "name": "stdout"
        },
        {
          "output_type": "stream",
          "text": [
            "100%|██████████| 7094/7094 [12:02<00:00,  9.81it/s]\n",
            "100%|██████████| 374/374 [00:13<00:00, 27.69it/s]\n",
            "  0%|          | 0/500 [00:00<?, ?it/s]"
          ],
          "name": "stderr"
        },
        {
          "output_type": "stream",
          "text": [
            "\n",
            "Epoch 4 complete!\n",
            "Validation Loss : 1.0837493802216602\n",
            "Validation F1 score: 0.4945, Recall: 0.4856, MCC: 0.3816\n"
          ],
          "name": "stdout"
        },
        {
          "output_type": "stream",
          "text": [
            "100%|██████████| 500/500 [00:17<00:00, 28.00it/s]\n",
            "  0%|          | 0/7094 [00:00<?, ?it/s]"
          ],
          "name": "stderr"
        },
        {
          "output_type": "stream",
          "text": [
            "\n",
            "Minitrain F1 score: 0.5669, Recall: 0.5710, MCC: 0.4759\n"
          ],
          "name": "stdout"
        },
        {
          "output_type": "stream",
          "text": [
            " 50%|█████     | 3548/7094 [05:54<05:51, 10.08it/s]"
          ],
          "name": "stderr"
        },
        {
          "output_type": "stream",
          "text": [
            "\n",
            "Iteration 3547/7094 of epoch 5 complete. Loss : 0.8605265771122852 \n"
          ],
          "name": "stdout"
        },
        {
          "output_type": "stream",
          "text": [
            "100%|██████████| 7094/7094 [11:51<00:00, 10.21it/s]"
          ],
          "name": "stderr"
        },
        {
          "output_type": "stream",
          "text": [
            "\n",
            "Iteration 7094/7094 of epoch 5 complete. Loss : 0.8479663545720296 \n"
          ],
          "name": "stdout"
        },
        {
          "output_type": "stream",
          "text": [
            "100%|██████████| 7094/7094 [11:51<00:00,  9.97it/s]\n",
            "100%|██████████| 374/374 [00:12<00:00, 29.25it/s]\n",
            "  0%|          | 0/500 [00:00<?, ?it/s]"
          ],
          "name": "stderr"
        },
        {
          "output_type": "stream",
          "text": [
            "\n",
            "Epoch 5 complete!\n",
            "Validation Loss : 1.129438603386522\n",
            "Validation F1 score: 0.4658, Recall: 0.4784, MCC: 0.3399\n"
          ],
          "name": "stdout"
        },
        {
          "output_type": "stream",
          "text": [
            "100%|██████████| 500/500 [00:17<00:00, 29.20it/s]\n"
          ],
          "name": "stderr"
        },
        {
          "output_type": "stream",
          "text": [
            "\n",
            "Minitrain F1 score: 0.5976, Recall: 0.6435, MCC: 0.5083\n",
            "The model has been saved in models/TransQuest/monotransquest-da-multilingual_lr_2e-05_val_loss_0.95966_ep_3.pt\n"
          ],
          "name": "stdout"
        },
        {
          "output_type": "stream",
          "text": [
            "Some weights of the model checkpoint at TransQuest/monotransquest-da-multilingual were not used when initializing XLMRobertaModel: ['classifier.out_proj.weight', 'classifier.out_proj.bias', 'classifier.dense.weight', 'classifier.dense.bias']\n",
            "- This IS expected if you are initializing XLMRobertaModel from the checkpoint of a model trained on another task or with another architecture (e.g. initializing a BertForSequenceClassification model from a BertForPreTraining model).\n",
            "- This IS NOT expected if you are initializing XLMRobertaModel from the checkpoint of a model that you expect to be exactly identical (initializing a BertForSequenceClassification model from a BertForSequenceClassification model).\n"
          ],
          "name": "stderr"
        },
        {
          "output_type": "stream",
          "text": [
            "\n",
            "Loading the weights of the model...\n"
          ],
          "name": "stdout"
        },
        {
          "output_type": "stream",
          "text": [
            "\r  0%|          | 0/999 [00:00<?, ?it/s]"
          ],
          "name": "stderr"
        },
        {
          "output_type": "stream",
          "text": [
            "Predicting on test data...\n"
          ],
          "name": "stdout"
        },
        {
          "output_type": "stream",
          "text": [
            "100%|██████████| 999/999 [00:37<00:00, 26.85it/s]\n"
          ],
          "name": "stderr"
        },
        {
          "output_type": "stream",
          "text": [
            "\n",
            "Predictions are available in : predictions_TransQuest-monotransquest-da-multilingual-noflip-masked.txt\n",
            "Best Threshold=0.474609, F-Score=0.496\n",
            "Predictions for  TransQuest/monotransquest-da-multilingual flip: False , masking: True\n",
            "-----Evaluation-----\n",
            "TP: 378, TN: 2849, FP: 469, FN: 300\n",
            "F1:  0.49573770491803276\n",
            "Precision:  0.4462809917355372\n",
            "Recall:  0.5575221238938053\n",
            "MCC:  0.38220623632355705\n",
            "Accuracy:  0.8075575575575575\n",
            "\n",
            " For language pair en-cs\n",
            "-----Evaluation-----\n",
            "TP: 89, TN: 746, FP: 93, FN: 71\n",
            "F1:  0.52046783625731\n",
            "Precision:  0.489010989010989\n",
            "Recall:  0.55625\n",
            "MCC:  0.4232024010570228\n",
            "Accuracy:  0.8358358358358359\n",
            "\n",
            " For language pair en-ja\n",
            "-----Evaluation-----\n",
            "TP: 33, TN: 840, FP: 63, FN: 63\n",
            "F1:  0.34375\n",
            "Precision:  0.34375\n",
            "Recall:  0.34375\n",
            "MCC:  0.27398255813953487\n",
            "Accuracy:  0.8738738738738738\n",
            "\n",
            " For language pair en-zh\n",
            "-----Evaluation-----\n",
            "TP: 68, TN: 704, FP: 154, FN: 73\n",
            "F1:  0.37465564738292007\n",
            "Precision:  0.3063063063063063\n",
            "Recall:  0.48226950354609927\n",
            "MCC:  0.25356932922365955\n",
            "Accuracy:  0.7727727727727728\n",
            "\n",
            " For language pair en-de\n",
            "-----Evaluation-----\n",
            "TP: 188, TN: 559, FP: 159, FN: 93\n",
            "F1:  0.5987261146496815\n",
            "Precision:  0.5417867435158501\n",
            "Recall:  0.6690391459074733\n",
            "MCC:  0.42267628302731525\n",
            "Accuracy:  0.7477477477477478\n"
          ],
          "name": "stdout"
        }
      ]
    }
  ]
}